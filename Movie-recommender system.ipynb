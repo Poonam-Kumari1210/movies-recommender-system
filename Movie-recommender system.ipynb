{
 "cells": [
  {
   "cell_type": "code",
   "execution_count": 234,
   "id": "6774f1fc",
   "metadata": {},
   "outputs": [
    {
     "data": {
      "text/html": [
       "<div>\n",
       "<style scoped>\n",
       "    .dataframe tbody tr th:only-of-type {\n",
       "        vertical-align: middle;\n",
       "    }\n",
       "\n",
       "    .dataframe tbody tr th {\n",
       "        vertical-align: top;\n",
       "    }\n",
       "\n",
       "    .dataframe thead th {\n",
       "        text-align: right;\n",
       "    }\n",
       "</style>\n",
       "<table border=\"1\" class=\"dataframe\">\n",
       "  <thead>\n",
       "    <tr style=\"text-align: right;\">\n",
       "      <th></th>\n",
       "      <th>budget</th>\n",
       "      <th>genres</th>\n",
       "      <th>homepage</th>\n",
       "      <th>id</th>\n",
       "      <th>keywords</th>\n",
       "      <th>original_language</th>\n",
       "      <th>original_title</th>\n",
       "      <th>overview</th>\n",
       "      <th>popularity</th>\n",
       "      <th>production_companies</th>\n",
       "      <th>production_countries</th>\n",
       "      <th>release_date</th>\n",
       "      <th>revenue</th>\n",
       "      <th>runtime</th>\n",
       "      <th>spoken_languages</th>\n",
       "      <th>status</th>\n",
       "      <th>tagline</th>\n",
       "      <th>title</th>\n",
       "      <th>vote_average</th>\n",
       "      <th>vote_count</th>\n",
       "    </tr>\n",
       "  </thead>\n",
       "  <tbody>\n",
       "    <tr>\n",
       "      <th>0</th>\n",
       "      <td>237000000</td>\n",
       "      <td>[{\"id\": 28, \"name\": \"Action\"}, {\"id\": 12, \"nam...</td>\n",
       "      <td>http://www.avatarmovie.com/</td>\n",
       "      <td>19995</td>\n",
       "      <td>[{\"id\": 1463, \"name\": \"culture clash\"}, {\"id\":...</td>\n",
       "      <td>en</td>\n",
       "      <td>Avatar</td>\n",
       "      <td>In the 22nd century, a paraplegic Marine is di...</td>\n",
       "      <td>150.437577</td>\n",
       "      <td>[{\"name\": \"Ingenious Film Partners\", \"id\": 289...</td>\n",
       "      <td>[{\"iso_3166_1\": \"US\", \"name\": \"United States o...</td>\n",
       "      <td>2009-12-10</td>\n",
       "      <td>2787965087</td>\n",
       "      <td>162.0</td>\n",
       "      <td>[{\"iso_639_1\": \"en\", \"name\": \"English\"}, {\"iso...</td>\n",
       "      <td>Released</td>\n",
       "      <td>Enter the World of Pandora.</td>\n",
       "      <td>Avatar</td>\n",
       "      <td>7.2</td>\n",
       "      <td>11800</td>\n",
       "    </tr>\n",
       "  </tbody>\n",
       "</table>\n",
       "</div>"
      ],
      "text/plain": [
       "      budget                                             genres  \\\n",
       "0  237000000  [{\"id\": 28, \"name\": \"Action\"}, {\"id\": 12, \"nam...   \n",
       "\n",
       "                      homepage     id  \\\n",
       "0  http://www.avatarmovie.com/  19995   \n",
       "\n",
       "                                            keywords original_language  \\\n",
       "0  [{\"id\": 1463, \"name\": \"culture clash\"}, {\"id\":...                en   \n",
       "\n",
       "  original_title                                           overview  \\\n",
       "0         Avatar  In the 22nd century, a paraplegic Marine is di...   \n",
       "\n",
       "   popularity                               production_companies  \\\n",
       "0  150.437577  [{\"name\": \"Ingenious Film Partners\", \"id\": 289...   \n",
       "\n",
       "                                production_countries release_date     revenue  \\\n",
       "0  [{\"iso_3166_1\": \"US\", \"name\": \"United States o...   2009-12-10  2787965087   \n",
       "\n",
       "   runtime                                   spoken_languages    status  \\\n",
       "0    162.0  [{\"iso_639_1\": \"en\", \"name\": \"English\"}, {\"iso...  Released   \n",
       "\n",
       "                       tagline   title  vote_average  vote_count  \n",
       "0  Enter the World of Pandora.  Avatar           7.2       11800  "
      ]
     },
     "execution_count": 234,
     "metadata": {},
     "output_type": "execute_result"
    }
   ],
   "source": [
    "import numpy as np\n",
    "import pandas as pd\n",
    "\n",
    "movies = pd.read_csv('tmdb_5000_movies.csv')\n",
    "credits = pd.read_csv('tmdb_5000_credits.csv')\n",
    "movies.head(1)"
   ]
  },
  {
   "cell_type": "code",
   "execution_count": 235,
   "id": "7244dff5",
   "metadata": {},
   "outputs": [],
   "source": [
    "credits.head()\n",
    "movies=movies.merge(credits,on='title')\n"
   ]
  },
  {
   "cell_type": "code",
   "execution_count": 236,
   "id": "70e7171b",
   "metadata": {},
   "outputs": [
    {
     "name": "stdout",
     "output_type": "stream",
     "text": [
      "<class 'pandas.core.frame.DataFrame'>\n",
      "RangeIndex: 4809 entries, 0 to 4808\n",
      "Data columns (total 23 columns):\n",
      " #   Column                Non-Null Count  Dtype  \n",
      "---  ------                --------------  -----  \n",
      " 0   budget                4809 non-null   int64  \n",
      " 1   genres                4809 non-null   object \n",
      " 2   homepage              1713 non-null   object \n",
      " 3   id                    4809 non-null   int64  \n",
      " 4   keywords              4809 non-null   object \n",
      " 5   original_language     4809 non-null   object \n",
      " 6   original_title        4809 non-null   object \n",
      " 7   overview              4806 non-null   object \n",
      " 8   popularity            4809 non-null   float64\n",
      " 9   production_companies  4809 non-null   object \n",
      " 10  production_countries  4809 non-null   object \n",
      " 11  release_date          4808 non-null   object \n",
      " 12  revenue               4809 non-null   int64  \n",
      " 13  runtime               4807 non-null   float64\n",
      " 14  spoken_languages      4809 non-null   object \n",
      " 15  status                4809 non-null   object \n",
      " 16  tagline               3965 non-null   object \n",
      " 17  title                 4809 non-null   object \n",
      " 18  vote_average          4809 non-null   float64\n",
      " 19  vote_count            4809 non-null   int64  \n",
      " 20  movie_id              4809 non-null   int64  \n",
      " 21  cast                  4809 non-null   object \n",
      " 22  crew                  4809 non-null   object \n",
      "dtypes: float64(3), int64(5), object(15)\n",
      "memory usage: 864.2+ KB\n"
     ]
    }
   ],
   "source": [
    "\n",
    "#genres\n",
    "#ID\n",
    "#Keywords\n",
    "#title\n",
    "#overview\n",
    "#cast\n",
    "#crew\n",
    "movies['original_language'].value_counts()\n",
    "movies.info()"
   ]
  },
  {
   "cell_type": "code",
   "execution_count": 237,
   "id": "93670f0d",
   "metadata": {},
   "outputs": [
    {
     "data": {
      "text/html": [
       "<div>\n",
       "<style scoped>\n",
       "    .dataframe tbody tr th:only-of-type {\n",
       "        vertical-align: middle;\n",
       "    }\n",
       "\n",
       "    .dataframe tbody tr th {\n",
       "        vertical-align: top;\n",
       "    }\n",
       "\n",
       "    .dataframe thead th {\n",
       "        text-align: right;\n",
       "    }\n",
       "</style>\n",
       "<table border=\"1\" class=\"dataframe\">\n",
       "  <thead>\n",
       "    <tr style=\"text-align: right;\">\n",
       "      <th></th>\n",
       "      <th>movie_id</th>\n",
       "      <th>title</th>\n",
       "      <th>genres</th>\n",
       "      <th>keywords</th>\n",
       "      <th>overview</th>\n",
       "      <th>cast</th>\n",
       "      <th>crew</th>\n",
       "    </tr>\n",
       "  </thead>\n",
       "  <tbody>\n",
       "    <tr>\n",
       "      <th>0</th>\n",
       "      <td>19995</td>\n",
       "      <td>Avatar</td>\n",
       "      <td>[{\"id\": 28, \"name\": \"Action\"}, {\"id\": 12, \"nam...</td>\n",
       "      <td>[{\"id\": 1463, \"name\": \"culture clash\"}, {\"id\":...</td>\n",
       "      <td>In the 22nd century, a paraplegic Marine is di...</td>\n",
       "      <td>[{\"cast_id\": 242, \"character\": \"Jake Sully\", \"...</td>\n",
       "      <td>[{\"credit_id\": \"52fe48009251416c750aca23\", \"de...</td>\n",
       "    </tr>\n",
       "  </tbody>\n",
       "</table>\n",
       "</div>"
      ],
      "text/plain": [
       "   movie_id   title                                             genres  \\\n",
       "0     19995  Avatar  [{\"id\": 28, \"name\": \"Action\"}, {\"id\": 12, \"nam...   \n",
       "\n",
       "                                            keywords  \\\n",
       "0  [{\"id\": 1463, \"name\": \"culture clash\"}, {\"id\":...   \n",
       "\n",
       "                                            overview  \\\n",
       "0  In the 22nd century, a paraplegic Marine is di...   \n",
       "\n",
       "                                                cast  \\\n",
       "0  [{\"cast_id\": 242, \"character\": \"Jake Sully\", \"...   \n",
       "\n",
       "                                                crew  \n",
       "0  [{\"credit_id\": \"52fe48009251416c750aca23\", \"de...  "
      ]
     },
     "execution_count": 237,
     "metadata": {},
     "output_type": "execute_result"
    }
   ],
   "source": [
    "movies = movies[['movie_id','title', 'genres','keywords','overview','cast','crew']]\n",
    "movies.head(1)"
   ]
  },
  {
   "cell_type": "code",
   "execution_count": 238,
   "id": "baf2aadb",
   "metadata": {},
   "outputs": [
    {
     "data": {
      "text/plain": [
       "movie_id    0\n",
       "title       0\n",
       "genres      0\n",
       "keywords    0\n",
       "overview    3\n",
       "cast        0\n",
       "crew        0\n",
       "dtype: int64"
      ]
     },
     "execution_count": 238,
     "metadata": {},
     "output_type": "execute_result"
    }
   ],
   "source": [
    "movies.isnull().sum()"
   ]
  },
  {
   "cell_type": "code",
   "execution_count": 239,
   "id": "aba21448",
   "metadata": {},
   "outputs": [
    {
     "data": {
      "text/plain": [
       "0"
      ]
     },
     "execution_count": 239,
     "metadata": {},
     "output_type": "execute_result"
    }
   ],
   "source": [
    "movies.dropna(inplace=True)\n",
    "movies.duplicated().sum()"
   ]
  },
  {
   "cell_type": "code",
   "execution_count": 240,
   "id": "54ca416a",
   "metadata": {},
   "outputs": [
    {
     "data": {
      "text/plain": [
       "'[{\"id\": 28, \"name\": \"Action\"}, {\"id\": 12, \"name\": \"Adventure\"}, {\"id\": 14, \"name\": \"Fantasy\"}, {\"id\": 878, \"name\": \"Science Fiction\"}]'"
      ]
     },
     "execution_count": 240,
     "metadata": {},
     "output_type": "execute_result"
    }
   ],
   "source": [
    "movies.iloc[0].genres"
   ]
  },
  {
   "cell_type": "code",
   "execution_count": 241,
   "id": "e7d68f7e",
   "metadata": {},
   "outputs": [],
   "source": [
    "#it's list of dictionary , convert it in list\n",
    "#obj = '[{\"id\": 28, \"name\": \"Action\"}, {\"id\": 12, \"name\": \"Adventure\"}, {\"id\": 14, \"name\": \"Fantasy\"}, {\"id\": 878, \"name\": \"Science Fiction\"}]'\n",
    "def convert(obj):\n",
    "    L=[]\n",
    "    for i in ast.literal_eval(obj):\n",
    "        L.append(i['name'])\n",
    "    return L "
   ]
  },
  {
   "cell_type": "code",
   "execution_count": 245,
   "id": "eb3de250",
   "metadata": {},
   "outputs": [
    {
     "data": {
      "text/plain": [
       "[{'id': 28, 'name': 'Action'},\n",
       " {'id': 12, 'name': 'Adventure'},\n",
       " {'id': 14, 'name': 'Fantasy'},\n",
       " {'id': 878, 'name': 'Science Fiction'}]"
      ]
     },
     "execution_count": 245,
     "metadata": {},
     "output_type": "execute_result"
    }
   ],
   "source": [
    "import ast\n",
    "ast.literal_eval('[{\"id\": 28, \"name\": \"Action\"}, {\"id\": 12, \"name\": \"Adventure\"}, {\"id\": 14, \"name\": \"Fantasy\"}, {\"id\": 878, \"name\": \"Science Fiction\"}]')"
   ]
  },
  {
   "cell_type": "code",
   "execution_count": 243,
   "id": "8e3d570f",
   "metadata": {},
   "outputs": [
    {
     "data": {
      "text/plain": [
       "['Action', 'Adventure', 'Fantasy', 'Science Fiction']"
      ]
     },
     "execution_count": 243,
     "metadata": {},
     "output_type": "execute_result"
    }
   ],
   "source": [
    "convert('[{\"id\": 28, \"name\": \"Action\"}, {\"id\": 12, \"name\": \"Adventure\"}, {\"id\": 14, \"name\": \"Fantasy\"}, {\"id\": 878, \"name\": \"Science Fiction\"}]')"
   ]
  },
  {
   "cell_type": "code",
   "execution_count": 246,
   "id": "21039115",
   "metadata": {},
   "outputs": [
    {
     "ename": "ValueError",
     "evalue": "malformed node or string: ['Action', 'Adventure', 'Fantasy', 'Science Fiction']",
     "output_type": "error",
     "traceback": [
      "\u001b[1;31m---------------------------------------------------------------------------\u001b[0m",
      "\u001b[1;31mValueError\u001b[0m                                Traceback (most recent call last)",
      "Cell \u001b[1;32mIn[246], line 1\u001b[0m\n\u001b[1;32m----> 1\u001b[0m movies[\u001b[38;5;124m'\u001b[39m\u001b[38;5;124mgenres\u001b[39m\u001b[38;5;124m'\u001b[39m] \u001b[38;5;241m=\u001b[39m movies[\u001b[38;5;124m'\u001b[39m\u001b[38;5;124mgenres\u001b[39m\u001b[38;5;124m'\u001b[39m]\u001b[38;5;241m.\u001b[39mapply(convert)\n\u001b[0;32m      3\u001b[0m movies\u001b[38;5;241m.\u001b[39mhead()\n",
      "File \u001b[1;32mC:\\Anaconda\\Lib\\site-packages\\pandas\\core\\series.py:4630\u001b[0m, in \u001b[0;36mSeries.apply\u001b[1;34m(self, func, convert_dtype, args, **kwargs)\u001b[0m\n\u001b[0;32m   4520\u001b[0m \u001b[38;5;28;01mdef\u001b[39;00m \u001b[38;5;21mapply\u001b[39m(\n\u001b[0;32m   4521\u001b[0m     \u001b[38;5;28mself\u001b[39m,\n\u001b[0;32m   4522\u001b[0m     func: AggFuncType,\n\u001b[1;32m   (...)\u001b[0m\n\u001b[0;32m   4525\u001b[0m     \u001b[38;5;241m*\u001b[39m\u001b[38;5;241m*\u001b[39mkwargs,\n\u001b[0;32m   4526\u001b[0m ) \u001b[38;5;241m-\u001b[39m\u001b[38;5;241m>\u001b[39m DataFrame \u001b[38;5;241m|\u001b[39m Series:\n\u001b[0;32m   4527\u001b[0m \u001b[38;5;250m    \u001b[39m\u001b[38;5;124;03m\"\"\"\u001b[39;00m\n\u001b[0;32m   4528\u001b[0m \u001b[38;5;124;03m    Invoke function on values of Series.\u001b[39;00m\n\u001b[0;32m   4529\u001b[0m \n\u001b[1;32m   (...)\u001b[0m\n\u001b[0;32m   4628\u001b[0m \u001b[38;5;124;03m    dtype: float64\u001b[39;00m\n\u001b[0;32m   4629\u001b[0m \u001b[38;5;124;03m    \"\"\"\u001b[39;00m\n\u001b[1;32m-> 4630\u001b[0m     \u001b[38;5;28;01mreturn\u001b[39;00m SeriesApply(\u001b[38;5;28mself\u001b[39m, func, convert_dtype, args, kwargs)\u001b[38;5;241m.\u001b[39mapply()\n",
      "File \u001b[1;32mC:\\Anaconda\\Lib\\site-packages\\pandas\\core\\apply.py:1025\u001b[0m, in \u001b[0;36mSeriesApply.apply\u001b[1;34m(self)\u001b[0m\n\u001b[0;32m   1022\u001b[0m     \u001b[38;5;28;01mreturn\u001b[39;00m \u001b[38;5;28mself\u001b[39m\u001b[38;5;241m.\u001b[39mapply_str()\n\u001b[0;32m   1024\u001b[0m \u001b[38;5;66;03m# self.f is Callable\u001b[39;00m\n\u001b[1;32m-> 1025\u001b[0m \u001b[38;5;28;01mreturn\u001b[39;00m \u001b[38;5;28mself\u001b[39m\u001b[38;5;241m.\u001b[39mapply_standard()\n",
      "File \u001b[1;32mC:\\Anaconda\\Lib\\site-packages\\pandas\\core\\apply.py:1076\u001b[0m, in \u001b[0;36mSeriesApply.apply_standard\u001b[1;34m(self)\u001b[0m\n\u001b[0;32m   1074\u001b[0m     \u001b[38;5;28;01melse\u001b[39;00m:\n\u001b[0;32m   1075\u001b[0m         values \u001b[38;5;241m=\u001b[39m obj\u001b[38;5;241m.\u001b[39mastype(\u001b[38;5;28mobject\u001b[39m)\u001b[38;5;241m.\u001b[39m_values\n\u001b[1;32m-> 1076\u001b[0m         mapped \u001b[38;5;241m=\u001b[39m lib\u001b[38;5;241m.\u001b[39mmap_infer(\n\u001b[0;32m   1077\u001b[0m             values,\n\u001b[0;32m   1078\u001b[0m             f,\n\u001b[0;32m   1079\u001b[0m             convert\u001b[38;5;241m=\u001b[39m\u001b[38;5;28mself\u001b[39m\u001b[38;5;241m.\u001b[39mconvert_dtype,\n\u001b[0;32m   1080\u001b[0m         )\n\u001b[0;32m   1082\u001b[0m \u001b[38;5;28;01mif\u001b[39;00m \u001b[38;5;28mlen\u001b[39m(mapped) \u001b[38;5;129;01mand\u001b[39;00m \u001b[38;5;28misinstance\u001b[39m(mapped[\u001b[38;5;241m0\u001b[39m], ABCSeries):\n\u001b[0;32m   1083\u001b[0m     \u001b[38;5;66;03m# GH#43986 Need to do list(mapped) in order to get treated as nested\u001b[39;00m\n\u001b[0;32m   1084\u001b[0m     \u001b[38;5;66;03m#  See also GH#25959 regarding EA support\u001b[39;00m\n\u001b[0;32m   1085\u001b[0m     \u001b[38;5;28;01mreturn\u001b[39;00m obj\u001b[38;5;241m.\u001b[39m_constructor_expanddim(\u001b[38;5;28mlist\u001b[39m(mapped), index\u001b[38;5;241m=\u001b[39mobj\u001b[38;5;241m.\u001b[39mindex)\n",
      "File \u001b[1;32mC:\\Anaconda\\Lib\\site-packages\\pandas\\_libs\\lib.pyx:2834\u001b[0m, in \u001b[0;36mpandas._libs.lib.map_infer\u001b[1;34m()\u001b[0m\n",
      "Cell \u001b[1;32mIn[241], line 5\u001b[0m, in \u001b[0;36mconvert\u001b[1;34m(obj)\u001b[0m\n\u001b[0;32m      3\u001b[0m \u001b[38;5;28;01mdef\u001b[39;00m \u001b[38;5;21mconvert\u001b[39m(obj):\n\u001b[0;32m      4\u001b[0m     L\u001b[38;5;241m=\u001b[39m[]\n\u001b[1;32m----> 5\u001b[0m     \u001b[38;5;28;01mfor\u001b[39;00m i \u001b[38;5;129;01min\u001b[39;00m ast\u001b[38;5;241m.\u001b[39mliteral_eval(obj):\n\u001b[0;32m      6\u001b[0m         L\u001b[38;5;241m.\u001b[39mappend(i[\u001b[38;5;124m'\u001b[39m\u001b[38;5;124mname\u001b[39m\u001b[38;5;124m'\u001b[39m])\n\u001b[0;32m      7\u001b[0m     \u001b[38;5;28;01mreturn\u001b[39;00m L\n",
      "File \u001b[1;32mC:\\Anaconda\\Lib\\ast.py:110\u001b[0m, in \u001b[0;36mliteral_eval\u001b[1;34m(node_or_string)\u001b[0m\n\u001b[0;32m    108\u001b[0m                 \u001b[38;5;28;01mreturn\u001b[39;00m left \u001b[38;5;241m-\u001b[39m right\n\u001b[0;32m    109\u001b[0m     \u001b[38;5;28;01mreturn\u001b[39;00m _convert_signed_num(node)\n\u001b[1;32m--> 110\u001b[0m \u001b[38;5;28;01mreturn\u001b[39;00m _convert(node_or_string)\n",
      "File \u001b[1;32mC:\\Anaconda\\Lib\\ast.py:109\u001b[0m, in \u001b[0;36mliteral_eval.<locals>._convert\u001b[1;34m(node)\u001b[0m\n\u001b[0;32m    107\u001b[0m         \u001b[38;5;28;01melse\u001b[39;00m:\n\u001b[0;32m    108\u001b[0m             \u001b[38;5;28;01mreturn\u001b[39;00m left \u001b[38;5;241m-\u001b[39m right\n\u001b[1;32m--> 109\u001b[0m \u001b[38;5;28;01mreturn\u001b[39;00m _convert_signed_num(node)\n",
      "File \u001b[1;32mC:\\Anaconda\\Lib\\ast.py:83\u001b[0m, in \u001b[0;36mliteral_eval.<locals>._convert_signed_num\u001b[1;34m(node)\u001b[0m\n\u001b[0;32m     81\u001b[0m     \u001b[38;5;28;01melse\u001b[39;00m:\n\u001b[0;32m     82\u001b[0m         \u001b[38;5;28;01mreturn\u001b[39;00m \u001b[38;5;241m-\u001b[39m operand\n\u001b[1;32m---> 83\u001b[0m \u001b[38;5;28;01mreturn\u001b[39;00m _convert_num(node)\n",
      "File \u001b[1;32mC:\\Anaconda\\Lib\\ast.py:74\u001b[0m, in \u001b[0;36mliteral_eval.<locals>._convert_num\u001b[1;34m(node)\u001b[0m\n\u001b[0;32m     72\u001b[0m \u001b[38;5;28;01mdef\u001b[39;00m \u001b[38;5;21m_convert_num\u001b[39m(node):\n\u001b[0;32m     73\u001b[0m     \u001b[38;5;28;01mif\u001b[39;00m \u001b[38;5;129;01mnot\u001b[39;00m \u001b[38;5;28misinstance\u001b[39m(node, Constant) \u001b[38;5;129;01mor\u001b[39;00m \u001b[38;5;28mtype\u001b[39m(node\u001b[38;5;241m.\u001b[39mvalue) \u001b[38;5;129;01mnot\u001b[39;00m \u001b[38;5;129;01min\u001b[39;00m (\u001b[38;5;28mint\u001b[39m, \u001b[38;5;28mfloat\u001b[39m, \u001b[38;5;28mcomplex\u001b[39m):\n\u001b[1;32m---> 74\u001b[0m         _raise_malformed_node(node)\n\u001b[0;32m     75\u001b[0m     \u001b[38;5;28;01mreturn\u001b[39;00m node\u001b[38;5;241m.\u001b[39mvalue\n",
      "File \u001b[1;32mC:\\Anaconda\\Lib\\ast.py:71\u001b[0m, in \u001b[0;36mliteral_eval.<locals>._raise_malformed_node\u001b[1;34m(node)\u001b[0m\n\u001b[0;32m     69\u001b[0m \u001b[38;5;28;01mif\u001b[39;00m lno \u001b[38;5;241m:=\u001b[39m \u001b[38;5;28mgetattr\u001b[39m(node, \u001b[38;5;124m'\u001b[39m\u001b[38;5;124mlineno\u001b[39m\u001b[38;5;124m'\u001b[39m, \u001b[38;5;28;01mNone\u001b[39;00m):\n\u001b[0;32m     70\u001b[0m     msg \u001b[38;5;241m+\u001b[39m\u001b[38;5;241m=\u001b[39m \u001b[38;5;124mf\u001b[39m\u001b[38;5;124m'\u001b[39m\u001b[38;5;124m on line \u001b[39m\u001b[38;5;132;01m{\u001b[39;00mlno\u001b[38;5;132;01m}\u001b[39;00m\u001b[38;5;124m'\u001b[39m\n\u001b[1;32m---> 71\u001b[0m \u001b[38;5;28;01mraise\u001b[39;00m \u001b[38;5;167;01mValueError\u001b[39;00m(msg \u001b[38;5;241m+\u001b[39m \u001b[38;5;124mf\u001b[39m\u001b[38;5;124m'\u001b[39m\u001b[38;5;124m: \u001b[39m\u001b[38;5;132;01m{\u001b[39;00mnode\u001b[38;5;132;01m!r}\u001b[39;00m\u001b[38;5;124m'\u001b[39m)\n",
      "\u001b[1;31mValueError\u001b[0m: malformed node or string: ['Action', 'Adventure', 'Fantasy', 'Science Fiction']"
     ]
    }
   ],
   "source": [
    "movies['genres'] = movies['genres'].apply(convert)\n",
    "\n",
    "movies.head()"
   ]
  },
  {
   "cell_type": "code",
   "execution_count": 247,
   "id": "86141a2a",
   "metadata": {},
   "outputs": [
    {
     "data": {
      "text/html": [
       "<div>\n",
       "<style scoped>\n",
       "    .dataframe tbody tr th:only-of-type {\n",
       "        vertical-align: middle;\n",
       "    }\n",
       "\n",
       "    .dataframe tbody tr th {\n",
       "        vertical-align: top;\n",
       "    }\n",
       "\n",
       "    .dataframe thead th {\n",
       "        text-align: right;\n",
       "    }\n",
       "</style>\n",
       "<table border=\"1\" class=\"dataframe\">\n",
       "  <thead>\n",
       "    <tr style=\"text-align: right;\">\n",
       "      <th></th>\n",
       "      <th>movie_id</th>\n",
       "      <th>title</th>\n",
       "      <th>genres</th>\n",
       "      <th>keywords</th>\n",
       "      <th>overview</th>\n",
       "      <th>cast</th>\n",
       "      <th>crew</th>\n",
       "    </tr>\n",
       "  </thead>\n",
       "  <tbody>\n",
       "    <tr>\n",
       "      <th>0</th>\n",
       "      <td>19995</td>\n",
       "      <td>Avatar</td>\n",
       "      <td>[Action, Adventure, Fantasy, Science Fiction]</td>\n",
       "      <td>[culture clash, future, space war, space colon...</td>\n",
       "      <td>In the 22nd century, a paraplegic Marine is di...</td>\n",
       "      <td>[{\"cast_id\": 242, \"character\": \"Jake Sully\", \"...</td>\n",
       "      <td>[{\"credit_id\": \"52fe48009251416c750aca23\", \"de...</td>\n",
       "    </tr>\n",
       "    <tr>\n",
       "      <th>1</th>\n",
       "      <td>285</td>\n",
       "      <td>Pirates of the Caribbean: At World's End</td>\n",
       "      <td>[Adventure, Fantasy, Action]</td>\n",
       "      <td>[ocean, drug abuse, exotic island, east india ...</td>\n",
       "      <td>Captain Barbossa, long believed to be dead, ha...</td>\n",
       "      <td>[{\"cast_id\": 4, \"character\": \"Captain Jack Spa...</td>\n",
       "      <td>[{\"credit_id\": \"52fe4232c3a36847f800b579\", \"de...</td>\n",
       "    </tr>\n",
       "    <tr>\n",
       "      <th>2</th>\n",
       "      <td>206647</td>\n",
       "      <td>Spectre</td>\n",
       "      <td>[Action, Adventure, Crime]</td>\n",
       "      <td>[spy, based on novel, secret agent, sequel, mi...</td>\n",
       "      <td>A cryptic message from Bond’s past sends him o...</td>\n",
       "      <td>[{\"cast_id\": 1, \"character\": \"James Bond\", \"cr...</td>\n",
       "      <td>[{\"credit_id\": \"54805967c3a36829b5002c41\", \"de...</td>\n",
       "    </tr>\n",
       "    <tr>\n",
       "      <th>3</th>\n",
       "      <td>49026</td>\n",
       "      <td>The Dark Knight Rises</td>\n",
       "      <td>[Action, Crime, Drama, Thriller]</td>\n",
       "      <td>[dc comics, crime fighter, terrorist, secret i...</td>\n",
       "      <td>Following the death of District Attorney Harve...</td>\n",
       "      <td>[{\"cast_id\": 2, \"character\": \"Bruce Wayne / Ba...</td>\n",
       "      <td>[{\"credit_id\": \"52fe4781c3a36847f81398c3\", \"de...</td>\n",
       "    </tr>\n",
       "    <tr>\n",
       "      <th>4</th>\n",
       "      <td>49529</td>\n",
       "      <td>John Carter</td>\n",
       "      <td>[Action, Adventure, Science Fiction]</td>\n",
       "      <td>[based on novel, mars, medallion, space travel...</td>\n",
       "      <td>John Carter is a war-weary, former military ca...</td>\n",
       "      <td>[{\"cast_id\": 5, \"character\": \"John Carter\", \"c...</td>\n",
       "      <td>[{\"credit_id\": \"52fe479ac3a36847f813eaa3\", \"de...</td>\n",
       "    </tr>\n",
       "  </tbody>\n",
       "</table>\n",
       "</div>"
      ],
      "text/plain": [
       "   movie_id                                     title  \\\n",
       "0     19995                                    Avatar   \n",
       "1       285  Pirates of the Caribbean: At World's End   \n",
       "2    206647                                   Spectre   \n",
       "3     49026                     The Dark Knight Rises   \n",
       "4     49529                               John Carter   \n",
       "\n",
       "                                          genres  \\\n",
       "0  [Action, Adventure, Fantasy, Science Fiction]   \n",
       "1                   [Adventure, Fantasy, Action]   \n",
       "2                     [Action, Adventure, Crime]   \n",
       "3               [Action, Crime, Drama, Thriller]   \n",
       "4           [Action, Adventure, Science Fiction]   \n",
       "\n",
       "                                            keywords  \\\n",
       "0  [culture clash, future, space war, space colon...   \n",
       "1  [ocean, drug abuse, exotic island, east india ...   \n",
       "2  [spy, based on novel, secret agent, sequel, mi...   \n",
       "3  [dc comics, crime fighter, terrorist, secret i...   \n",
       "4  [based on novel, mars, medallion, space travel...   \n",
       "\n",
       "                                            overview  \\\n",
       "0  In the 22nd century, a paraplegic Marine is di...   \n",
       "1  Captain Barbossa, long believed to be dead, ha...   \n",
       "2  A cryptic message from Bond’s past sends him o...   \n",
       "3  Following the death of District Attorney Harve...   \n",
       "4  John Carter is a war-weary, former military ca...   \n",
       "\n",
       "                                                cast  \\\n",
       "0  [{\"cast_id\": 242, \"character\": \"Jake Sully\", \"...   \n",
       "1  [{\"cast_id\": 4, \"character\": \"Captain Jack Spa...   \n",
       "2  [{\"cast_id\": 1, \"character\": \"James Bond\", \"cr...   \n",
       "3  [{\"cast_id\": 2, \"character\": \"Bruce Wayne / Ba...   \n",
       "4  [{\"cast_id\": 5, \"character\": \"John Carter\", \"c...   \n",
       "\n",
       "                                                crew  \n",
       "0  [{\"credit_id\": \"52fe48009251416c750aca23\", \"de...  \n",
       "1  [{\"credit_id\": \"52fe4232c3a36847f800b579\", \"de...  \n",
       "2  [{\"credit_id\": \"54805967c3a36829b5002c41\", \"de...  \n",
       "3  [{\"credit_id\": \"52fe4781c3a36847f81398c3\", \"de...  \n",
       "4  [{\"credit_id\": \"52fe479ac3a36847f813eaa3\", \"de...  "
      ]
     },
     "execution_count": 247,
     "metadata": {},
     "output_type": "execute_result"
    }
   ],
   "source": [
    "movies['keywords'] = movies['keywords'].apply(convert)\n",
    "\n",
    "movies.head()"
   ]
  },
  {
   "cell_type": "code",
   "execution_count": 248,
   "id": "50c44328",
   "metadata": {},
   "outputs": [],
   "source": [
    "def convert3(obj):\n",
    "    L=[]\n",
    "    counter = 0\n",
    "    for i in ast.literal_eval(obj):\n",
    "        if counter !=3:\n",
    "            L.append(i['name'])\n",
    "            counter+=1\n",
    "        else:\n",
    "            break\n",
    "    return L\n",
    "                "
   ]
  },
  {
   "cell_type": "code",
   "execution_count": 249,
   "id": "b540c6c8",
   "metadata": {},
   "outputs": [],
   "source": [
    "movies['cast']=movies['cast'].apply(convert3)"
   ]
  },
  {
   "cell_type": "code",
   "execution_count": 250,
   "id": "ff156ac9",
   "metadata": {
    "scrolled": true
   },
   "outputs": [
    {
     "data": {
      "text/html": [
       "<div>\n",
       "<style scoped>\n",
       "    .dataframe tbody tr th:only-of-type {\n",
       "        vertical-align: middle;\n",
       "    }\n",
       "\n",
       "    .dataframe tbody tr th {\n",
       "        vertical-align: top;\n",
       "    }\n",
       "\n",
       "    .dataframe thead th {\n",
       "        text-align: right;\n",
       "    }\n",
       "</style>\n",
       "<table border=\"1\" class=\"dataframe\">\n",
       "  <thead>\n",
       "    <tr style=\"text-align: right;\">\n",
       "      <th></th>\n",
       "      <th>movie_id</th>\n",
       "      <th>title</th>\n",
       "      <th>genres</th>\n",
       "      <th>keywords</th>\n",
       "      <th>overview</th>\n",
       "      <th>cast</th>\n",
       "      <th>crew</th>\n",
       "    </tr>\n",
       "  </thead>\n",
       "  <tbody>\n",
       "    <tr>\n",
       "      <th>0</th>\n",
       "      <td>19995</td>\n",
       "      <td>Avatar</td>\n",
       "      <td>[Action, Adventure, Fantasy, Science Fiction]</td>\n",
       "      <td>[culture clash, future, space war, space colon...</td>\n",
       "      <td>In the 22nd century, a paraplegic Marine is di...</td>\n",
       "      <td>[Sam Worthington, Zoe Saldana, Sigourney Weaver]</td>\n",
       "      <td>[{\"credit_id\": \"52fe48009251416c750aca23\", \"de...</td>\n",
       "    </tr>\n",
       "    <tr>\n",
       "      <th>1</th>\n",
       "      <td>285</td>\n",
       "      <td>Pirates of the Caribbean: At World's End</td>\n",
       "      <td>[Adventure, Fantasy, Action]</td>\n",
       "      <td>[ocean, drug abuse, exotic island, east india ...</td>\n",
       "      <td>Captain Barbossa, long believed to be dead, ha...</td>\n",
       "      <td>[Johnny Depp, Orlando Bloom, Keira Knightley]</td>\n",
       "      <td>[{\"credit_id\": \"52fe4232c3a36847f800b579\", \"de...</td>\n",
       "    </tr>\n",
       "    <tr>\n",
       "      <th>2</th>\n",
       "      <td>206647</td>\n",
       "      <td>Spectre</td>\n",
       "      <td>[Action, Adventure, Crime]</td>\n",
       "      <td>[spy, based on novel, secret agent, sequel, mi...</td>\n",
       "      <td>A cryptic message from Bond’s past sends him o...</td>\n",
       "      <td>[Daniel Craig, Christoph Waltz, Léa Seydoux]</td>\n",
       "      <td>[{\"credit_id\": \"54805967c3a36829b5002c41\", \"de...</td>\n",
       "    </tr>\n",
       "    <tr>\n",
       "      <th>3</th>\n",
       "      <td>49026</td>\n",
       "      <td>The Dark Knight Rises</td>\n",
       "      <td>[Action, Crime, Drama, Thriller]</td>\n",
       "      <td>[dc comics, crime fighter, terrorist, secret i...</td>\n",
       "      <td>Following the death of District Attorney Harve...</td>\n",
       "      <td>[Christian Bale, Michael Caine, Gary Oldman]</td>\n",
       "      <td>[{\"credit_id\": \"52fe4781c3a36847f81398c3\", \"de...</td>\n",
       "    </tr>\n",
       "    <tr>\n",
       "      <th>4</th>\n",
       "      <td>49529</td>\n",
       "      <td>John Carter</td>\n",
       "      <td>[Action, Adventure, Science Fiction]</td>\n",
       "      <td>[based on novel, mars, medallion, space travel...</td>\n",
       "      <td>John Carter is a war-weary, former military ca...</td>\n",
       "      <td>[Taylor Kitsch, Lynn Collins, Samantha Morton]</td>\n",
       "      <td>[{\"credit_id\": \"52fe479ac3a36847f813eaa3\", \"de...</td>\n",
       "    </tr>\n",
       "  </tbody>\n",
       "</table>\n",
       "</div>"
      ],
      "text/plain": [
       "   movie_id                                     title  \\\n",
       "0     19995                                    Avatar   \n",
       "1       285  Pirates of the Caribbean: At World's End   \n",
       "2    206647                                   Spectre   \n",
       "3     49026                     The Dark Knight Rises   \n",
       "4     49529                               John Carter   \n",
       "\n",
       "                                          genres  \\\n",
       "0  [Action, Adventure, Fantasy, Science Fiction]   \n",
       "1                   [Adventure, Fantasy, Action]   \n",
       "2                     [Action, Adventure, Crime]   \n",
       "3               [Action, Crime, Drama, Thriller]   \n",
       "4           [Action, Adventure, Science Fiction]   \n",
       "\n",
       "                                            keywords  \\\n",
       "0  [culture clash, future, space war, space colon...   \n",
       "1  [ocean, drug abuse, exotic island, east india ...   \n",
       "2  [spy, based on novel, secret agent, sequel, mi...   \n",
       "3  [dc comics, crime fighter, terrorist, secret i...   \n",
       "4  [based on novel, mars, medallion, space travel...   \n",
       "\n",
       "                                            overview  \\\n",
       "0  In the 22nd century, a paraplegic Marine is di...   \n",
       "1  Captain Barbossa, long believed to be dead, ha...   \n",
       "2  A cryptic message from Bond’s past sends him o...   \n",
       "3  Following the death of District Attorney Harve...   \n",
       "4  John Carter is a war-weary, former military ca...   \n",
       "\n",
       "                                               cast  \\\n",
       "0  [Sam Worthington, Zoe Saldana, Sigourney Weaver]   \n",
       "1     [Johnny Depp, Orlando Bloom, Keira Knightley]   \n",
       "2      [Daniel Craig, Christoph Waltz, Léa Seydoux]   \n",
       "3      [Christian Bale, Michael Caine, Gary Oldman]   \n",
       "4    [Taylor Kitsch, Lynn Collins, Samantha Morton]   \n",
       "\n",
       "                                                crew  \n",
       "0  [{\"credit_id\": \"52fe48009251416c750aca23\", \"de...  \n",
       "1  [{\"credit_id\": \"52fe4232c3a36847f800b579\", \"de...  \n",
       "2  [{\"credit_id\": \"54805967c3a36829b5002c41\", \"de...  \n",
       "3  [{\"credit_id\": \"52fe4781c3a36847f81398c3\", \"de...  \n",
       "4  [{\"credit_id\": \"52fe479ac3a36847f813eaa3\", \"de...  "
      ]
     },
     "execution_count": 250,
     "metadata": {},
     "output_type": "execute_result"
    }
   ],
   "source": [
    "movies.head()"
   ]
  },
  {
   "cell_type": "code",
   "execution_count": null,
   "id": "bae3fd3e",
   "metadata": {},
   "outputs": [],
   "source": []
  },
  {
   "cell_type": "code",
   "execution_count": 251,
   "id": "5a2f2054",
   "metadata": {},
   "outputs": [],
   "source": [
    "def fetch_director(obj):\n",
    "    L=[]\n",
    "    for i in ast.literal_eval(obj):\n",
    "        if i['job']=='Director':\n",
    "            L.append(i['name'])\n",
    "            break\n",
    "    return L\n"
   ]
  },
  {
   "cell_type": "code",
   "execution_count": 252,
   "id": "75c74a80",
   "metadata": {},
   "outputs": [],
   "source": [
    "movies['crew']=movies['crew'].apply(fetch_director)"
   ]
  },
  {
   "cell_type": "code",
   "execution_count": 253,
   "id": "5e1245e7",
   "metadata": {},
   "outputs": [
    {
     "data": {
      "text/html": [
       "<div>\n",
       "<style scoped>\n",
       "    .dataframe tbody tr th:only-of-type {\n",
       "        vertical-align: middle;\n",
       "    }\n",
       "\n",
       "    .dataframe tbody tr th {\n",
       "        vertical-align: top;\n",
       "    }\n",
       "\n",
       "    .dataframe thead th {\n",
       "        text-align: right;\n",
       "    }\n",
       "</style>\n",
       "<table border=\"1\" class=\"dataframe\">\n",
       "  <thead>\n",
       "    <tr style=\"text-align: right;\">\n",
       "      <th></th>\n",
       "      <th>movie_id</th>\n",
       "      <th>title</th>\n",
       "      <th>genres</th>\n",
       "      <th>keywords</th>\n",
       "      <th>overview</th>\n",
       "      <th>cast</th>\n",
       "      <th>crew</th>\n",
       "    </tr>\n",
       "  </thead>\n",
       "  <tbody>\n",
       "    <tr>\n",
       "      <th>0</th>\n",
       "      <td>19995</td>\n",
       "      <td>Avatar</td>\n",
       "      <td>[Action, Adventure, Fantasy, Science Fiction]</td>\n",
       "      <td>[culture clash, future, space war, space colon...</td>\n",
       "      <td>In the 22nd century, a paraplegic Marine is di...</td>\n",
       "      <td>[Sam Worthington, Zoe Saldana, Sigourney Weaver]</td>\n",
       "      <td>[James Cameron]</td>\n",
       "    </tr>\n",
       "    <tr>\n",
       "      <th>1</th>\n",
       "      <td>285</td>\n",
       "      <td>Pirates of the Caribbean: At World's End</td>\n",
       "      <td>[Adventure, Fantasy, Action]</td>\n",
       "      <td>[ocean, drug abuse, exotic island, east india ...</td>\n",
       "      <td>Captain Barbossa, long believed to be dead, ha...</td>\n",
       "      <td>[Johnny Depp, Orlando Bloom, Keira Knightley]</td>\n",
       "      <td>[Gore Verbinski]</td>\n",
       "    </tr>\n",
       "    <tr>\n",
       "      <th>2</th>\n",
       "      <td>206647</td>\n",
       "      <td>Spectre</td>\n",
       "      <td>[Action, Adventure, Crime]</td>\n",
       "      <td>[spy, based on novel, secret agent, sequel, mi...</td>\n",
       "      <td>A cryptic message from Bond’s past sends him o...</td>\n",
       "      <td>[Daniel Craig, Christoph Waltz, Léa Seydoux]</td>\n",
       "      <td>[Sam Mendes]</td>\n",
       "    </tr>\n",
       "    <tr>\n",
       "      <th>3</th>\n",
       "      <td>49026</td>\n",
       "      <td>The Dark Knight Rises</td>\n",
       "      <td>[Action, Crime, Drama, Thriller]</td>\n",
       "      <td>[dc comics, crime fighter, terrorist, secret i...</td>\n",
       "      <td>Following the death of District Attorney Harve...</td>\n",
       "      <td>[Christian Bale, Michael Caine, Gary Oldman]</td>\n",
       "      <td>[Christopher Nolan]</td>\n",
       "    </tr>\n",
       "    <tr>\n",
       "      <th>4</th>\n",
       "      <td>49529</td>\n",
       "      <td>John Carter</td>\n",
       "      <td>[Action, Adventure, Science Fiction]</td>\n",
       "      <td>[based on novel, mars, medallion, space travel...</td>\n",
       "      <td>John Carter is a war-weary, former military ca...</td>\n",
       "      <td>[Taylor Kitsch, Lynn Collins, Samantha Morton]</td>\n",
       "      <td>[Andrew Stanton]</td>\n",
       "    </tr>\n",
       "  </tbody>\n",
       "</table>\n",
       "</div>"
      ],
      "text/plain": [
       "   movie_id                                     title  \\\n",
       "0     19995                                    Avatar   \n",
       "1       285  Pirates of the Caribbean: At World's End   \n",
       "2    206647                                   Spectre   \n",
       "3     49026                     The Dark Knight Rises   \n",
       "4     49529                               John Carter   \n",
       "\n",
       "                                          genres  \\\n",
       "0  [Action, Adventure, Fantasy, Science Fiction]   \n",
       "1                   [Adventure, Fantasy, Action]   \n",
       "2                     [Action, Adventure, Crime]   \n",
       "3               [Action, Crime, Drama, Thriller]   \n",
       "4           [Action, Adventure, Science Fiction]   \n",
       "\n",
       "                                            keywords  \\\n",
       "0  [culture clash, future, space war, space colon...   \n",
       "1  [ocean, drug abuse, exotic island, east india ...   \n",
       "2  [spy, based on novel, secret agent, sequel, mi...   \n",
       "3  [dc comics, crime fighter, terrorist, secret i...   \n",
       "4  [based on novel, mars, medallion, space travel...   \n",
       "\n",
       "                                            overview  \\\n",
       "0  In the 22nd century, a paraplegic Marine is di...   \n",
       "1  Captain Barbossa, long believed to be dead, ha...   \n",
       "2  A cryptic message from Bond’s past sends him o...   \n",
       "3  Following the death of District Attorney Harve...   \n",
       "4  John Carter is a war-weary, former military ca...   \n",
       "\n",
       "                                               cast                 crew  \n",
       "0  [Sam Worthington, Zoe Saldana, Sigourney Weaver]      [James Cameron]  \n",
       "1     [Johnny Depp, Orlando Bloom, Keira Knightley]     [Gore Verbinski]  \n",
       "2      [Daniel Craig, Christoph Waltz, Léa Seydoux]         [Sam Mendes]  \n",
       "3      [Christian Bale, Michael Caine, Gary Oldman]  [Christopher Nolan]  \n",
       "4    [Taylor Kitsch, Lynn Collins, Samantha Morton]     [Andrew Stanton]  "
      ]
     },
     "execution_count": 253,
     "metadata": {},
     "output_type": "execute_result"
    }
   ],
   "source": [
    "movies.head()"
   ]
  },
  {
   "cell_type": "code",
   "execution_count": 254,
   "id": "13f042fc",
   "metadata": {},
   "outputs": [
    {
     "data": {
      "text/plain": [
       "'In the 22nd century, a paraplegic Marine is dispatched to the moon Pandora on a unique mission, but becomes torn between following orders and protecting an alien civilization.'"
      ]
     },
     "execution_count": 254,
     "metadata": {},
     "output_type": "execute_result"
    }
   ],
   "source": [
    "movies['overview'][0]"
   ]
  },
  {
   "cell_type": "code",
   "execution_count": 255,
   "id": "2eb18172",
   "metadata": {},
   "outputs": [],
   "source": [
    "movies['overview']=movies['overview'].apply(lambda x:x.split())\n"
   ]
  },
  {
   "cell_type": "code",
   "execution_count": 256,
   "id": "753c41ee",
   "metadata": {
    "scrolled": true
   },
   "outputs": [
    {
     "data": {
      "text/html": [
       "<div>\n",
       "<style scoped>\n",
       "    .dataframe tbody tr th:only-of-type {\n",
       "        vertical-align: middle;\n",
       "    }\n",
       "\n",
       "    .dataframe tbody tr th {\n",
       "        vertical-align: top;\n",
       "    }\n",
       "\n",
       "    .dataframe thead th {\n",
       "        text-align: right;\n",
       "    }\n",
       "</style>\n",
       "<table border=\"1\" class=\"dataframe\">\n",
       "  <thead>\n",
       "    <tr style=\"text-align: right;\">\n",
       "      <th></th>\n",
       "      <th>movie_id</th>\n",
       "      <th>title</th>\n",
       "      <th>genres</th>\n",
       "      <th>keywords</th>\n",
       "      <th>overview</th>\n",
       "      <th>cast</th>\n",
       "      <th>crew</th>\n",
       "    </tr>\n",
       "  </thead>\n",
       "  <tbody>\n",
       "    <tr>\n",
       "      <th>0</th>\n",
       "      <td>19995</td>\n",
       "      <td>Avatar</td>\n",
       "      <td>[Action, Adventure, Fantasy, Science Fiction]</td>\n",
       "      <td>[culture clash, future, space war, space colon...</td>\n",
       "      <td>[In, the, 22nd, century,, a, paraplegic, Marin...</td>\n",
       "      <td>[Sam Worthington, Zoe Saldana, Sigourney Weaver]</td>\n",
       "      <td>[James Cameron]</td>\n",
       "    </tr>\n",
       "    <tr>\n",
       "      <th>1</th>\n",
       "      <td>285</td>\n",
       "      <td>Pirates of the Caribbean: At World's End</td>\n",
       "      <td>[Adventure, Fantasy, Action]</td>\n",
       "      <td>[ocean, drug abuse, exotic island, east india ...</td>\n",
       "      <td>[Captain, Barbossa,, long, believed, to, be, d...</td>\n",
       "      <td>[Johnny Depp, Orlando Bloom, Keira Knightley]</td>\n",
       "      <td>[Gore Verbinski]</td>\n",
       "    </tr>\n",
       "    <tr>\n",
       "      <th>2</th>\n",
       "      <td>206647</td>\n",
       "      <td>Spectre</td>\n",
       "      <td>[Action, Adventure, Crime]</td>\n",
       "      <td>[spy, based on novel, secret agent, sequel, mi...</td>\n",
       "      <td>[A, cryptic, message, from, Bond’s, past, send...</td>\n",
       "      <td>[Daniel Craig, Christoph Waltz, Léa Seydoux]</td>\n",
       "      <td>[Sam Mendes]</td>\n",
       "    </tr>\n",
       "    <tr>\n",
       "      <th>3</th>\n",
       "      <td>49026</td>\n",
       "      <td>The Dark Knight Rises</td>\n",
       "      <td>[Action, Crime, Drama, Thriller]</td>\n",
       "      <td>[dc comics, crime fighter, terrorist, secret i...</td>\n",
       "      <td>[Following, the, death, of, District, Attorney...</td>\n",
       "      <td>[Christian Bale, Michael Caine, Gary Oldman]</td>\n",
       "      <td>[Christopher Nolan]</td>\n",
       "    </tr>\n",
       "    <tr>\n",
       "      <th>4</th>\n",
       "      <td>49529</td>\n",
       "      <td>John Carter</td>\n",
       "      <td>[Action, Adventure, Science Fiction]</td>\n",
       "      <td>[based on novel, mars, medallion, space travel...</td>\n",
       "      <td>[John, Carter, is, a, war-weary,, former, mili...</td>\n",
       "      <td>[Taylor Kitsch, Lynn Collins, Samantha Morton]</td>\n",
       "      <td>[Andrew Stanton]</td>\n",
       "    </tr>\n",
       "  </tbody>\n",
       "</table>\n",
       "</div>"
      ],
      "text/plain": [
       "   movie_id                                     title  \\\n",
       "0     19995                                    Avatar   \n",
       "1       285  Pirates of the Caribbean: At World's End   \n",
       "2    206647                                   Spectre   \n",
       "3     49026                     The Dark Knight Rises   \n",
       "4     49529                               John Carter   \n",
       "\n",
       "                                          genres  \\\n",
       "0  [Action, Adventure, Fantasy, Science Fiction]   \n",
       "1                   [Adventure, Fantasy, Action]   \n",
       "2                     [Action, Adventure, Crime]   \n",
       "3               [Action, Crime, Drama, Thriller]   \n",
       "4           [Action, Adventure, Science Fiction]   \n",
       "\n",
       "                                            keywords  \\\n",
       "0  [culture clash, future, space war, space colon...   \n",
       "1  [ocean, drug abuse, exotic island, east india ...   \n",
       "2  [spy, based on novel, secret agent, sequel, mi...   \n",
       "3  [dc comics, crime fighter, terrorist, secret i...   \n",
       "4  [based on novel, mars, medallion, space travel...   \n",
       "\n",
       "                                            overview  \\\n",
       "0  [In, the, 22nd, century,, a, paraplegic, Marin...   \n",
       "1  [Captain, Barbossa,, long, believed, to, be, d...   \n",
       "2  [A, cryptic, message, from, Bond’s, past, send...   \n",
       "3  [Following, the, death, of, District, Attorney...   \n",
       "4  [John, Carter, is, a, war-weary,, former, mili...   \n",
       "\n",
       "                                               cast                 crew  \n",
       "0  [Sam Worthington, Zoe Saldana, Sigourney Weaver]      [James Cameron]  \n",
       "1     [Johnny Depp, Orlando Bloom, Keira Knightley]     [Gore Verbinski]  \n",
       "2      [Daniel Craig, Christoph Waltz, Léa Seydoux]         [Sam Mendes]  \n",
       "3      [Christian Bale, Michael Caine, Gary Oldman]  [Christopher Nolan]  \n",
       "4    [Taylor Kitsch, Lynn Collins, Samantha Morton]     [Andrew Stanton]  "
      ]
     },
     "execution_count": 256,
     "metadata": {},
     "output_type": "execute_result"
    }
   ],
   "source": [
    "movies.head()"
   ]
  },
  {
   "cell_type": "code",
   "execution_count": 257,
   "id": "ed95188e",
   "metadata": {},
   "outputs": [],
   "source": [
    "movies['genres'] = movies['genres'].apply(lambda x:[i.replace(\" \", \" \")for i in x])\n",
    "movies['keywords'] = movies['keywords'].apply(lambda x:[i.replace(\" \", \" \")for i in x])\n",
    "movies['cast'] = movies['cast'].apply(lambda x:[i.replace(\" \", \" \")for i in x])\n",
    "movies['crew'] = movies['crew'].apply(lambda x:[i.replace(\" \", \" \")for i in x])"
   ]
  },
  {
   "cell_type": "code",
   "execution_count": 258,
   "id": "850285d8",
   "metadata": {},
   "outputs": [
    {
     "data": {
      "text/html": [
       "<div>\n",
       "<style scoped>\n",
       "    .dataframe tbody tr th:only-of-type {\n",
       "        vertical-align: middle;\n",
       "    }\n",
       "\n",
       "    .dataframe tbody tr th {\n",
       "        vertical-align: top;\n",
       "    }\n",
       "\n",
       "    .dataframe thead th {\n",
       "        text-align: right;\n",
       "    }\n",
       "</style>\n",
       "<table border=\"1\" class=\"dataframe\">\n",
       "  <thead>\n",
       "    <tr style=\"text-align: right;\">\n",
       "      <th></th>\n",
       "      <th>movie_id</th>\n",
       "      <th>title</th>\n",
       "      <th>genres</th>\n",
       "      <th>keywords</th>\n",
       "      <th>overview</th>\n",
       "      <th>cast</th>\n",
       "      <th>crew</th>\n",
       "    </tr>\n",
       "  </thead>\n",
       "  <tbody>\n",
       "    <tr>\n",
       "      <th>0</th>\n",
       "      <td>19995</td>\n",
       "      <td>Avatar</td>\n",
       "      <td>[Action, Adventure, Fantasy, Science Fiction]</td>\n",
       "      <td>[culture clash, future, space war, space colon...</td>\n",
       "      <td>[In, the, 22nd, century,, a, paraplegic, Marin...</td>\n",
       "      <td>[Sam Worthington, Zoe Saldana, Sigourney Weaver]</td>\n",
       "      <td>[James Cameron]</td>\n",
       "    </tr>\n",
       "    <tr>\n",
       "      <th>1</th>\n",
       "      <td>285</td>\n",
       "      <td>Pirates of the Caribbean: At World's End</td>\n",
       "      <td>[Adventure, Fantasy, Action]</td>\n",
       "      <td>[ocean, drug abuse, exotic island, east india ...</td>\n",
       "      <td>[Captain, Barbossa,, long, believed, to, be, d...</td>\n",
       "      <td>[Johnny Depp, Orlando Bloom, Keira Knightley]</td>\n",
       "      <td>[Gore Verbinski]</td>\n",
       "    </tr>\n",
       "    <tr>\n",
       "      <th>2</th>\n",
       "      <td>206647</td>\n",
       "      <td>Spectre</td>\n",
       "      <td>[Action, Adventure, Crime]</td>\n",
       "      <td>[spy, based on novel, secret agent, sequel, mi...</td>\n",
       "      <td>[A, cryptic, message, from, Bond’s, past, send...</td>\n",
       "      <td>[Daniel Craig, Christoph Waltz, Léa Seydoux]</td>\n",
       "      <td>[Sam Mendes]</td>\n",
       "    </tr>\n",
       "    <tr>\n",
       "      <th>3</th>\n",
       "      <td>49026</td>\n",
       "      <td>The Dark Knight Rises</td>\n",
       "      <td>[Action, Crime, Drama, Thriller]</td>\n",
       "      <td>[dc comics, crime fighter, terrorist, secret i...</td>\n",
       "      <td>[Following, the, death, of, District, Attorney...</td>\n",
       "      <td>[Christian Bale, Michael Caine, Gary Oldman]</td>\n",
       "      <td>[Christopher Nolan]</td>\n",
       "    </tr>\n",
       "    <tr>\n",
       "      <th>4</th>\n",
       "      <td>49529</td>\n",
       "      <td>John Carter</td>\n",
       "      <td>[Action, Adventure, Science Fiction]</td>\n",
       "      <td>[based on novel, mars, medallion, space travel...</td>\n",
       "      <td>[John, Carter, is, a, war-weary,, former, mili...</td>\n",
       "      <td>[Taylor Kitsch, Lynn Collins, Samantha Morton]</td>\n",
       "      <td>[Andrew Stanton]</td>\n",
       "    </tr>\n",
       "  </tbody>\n",
       "</table>\n",
       "</div>"
      ],
      "text/plain": [
       "   movie_id                                     title  \\\n",
       "0     19995                                    Avatar   \n",
       "1       285  Pirates of the Caribbean: At World's End   \n",
       "2    206647                                   Spectre   \n",
       "3     49026                     The Dark Knight Rises   \n",
       "4     49529                               John Carter   \n",
       "\n",
       "                                          genres  \\\n",
       "0  [Action, Adventure, Fantasy, Science Fiction]   \n",
       "1                   [Adventure, Fantasy, Action]   \n",
       "2                     [Action, Adventure, Crime]   \n",
       "3               [Action, Crime, Drama, Thriller]   \n",
       "4           [Action, Adventure, Science Fiction]   \n",
       "\n",
       "                                            keywords  \\\n",
       "0  [culture clash, future, space war, space colon...   \n",
       "1  [ocean, drug abuse, exotic island, east india ...   \n",
       "2  [spy, based on novel, secret agent, sequel, mi...   \n",
       "3  [dc comics, crime fighter, terrorist, secret i...   \n",
       "4  [based on novel, mars, medallion, space travel...   \n",
       "\n",
       "                                            overview  \\\n",
       "0  [In, the, 22nd, century,, a, paraplegic, Marin...   \n",
       "1  [Captain, Barbossa,, long, believed, to, be, d...   \n",
       "2  [A, cryptic, message, from, Bond’s, past, send...   \n",
       "3  [Following, the, death, of, District, Attorney...   \n",
       "4  [John, Carter, is, a, war-weary,, former, mili...   \n",
       "\n",
       "                                               cast                 crew  \n",
       "0  [Sam Worthington, Zoe Saldana, Sigourney Weaver]      [James Cameron]  \n",
       "1     [Johnny Depp, Orlando Bloom, Keira Knightley]     [Gore Verbinski]  \n",
       "2      [Daniel Craig, Christoph Waltz, Léa Seydoux]         [Sam Mendes]  \n",
       "3      [Christian Bale, Michael Caine, Gary Oldman]  [Christopher Nolan]  \n",
       "4    [Taylor Kitsch, Lynn Collins, Samantha Morton]     [Andrew Stanton]  "
      ]
     },
     "execution_count": 258,
     "metadata": {},
     "output_type": "execute_result"
    }
   ],
   "source": [
    "movies.head()"
   ]
  },
  {
   "cell_type": "code",
   "execution_count": 259,
   "id": "3ccc9028",
   "metadata": {
    "scrolled": true
   },
   "outputs": [],
   "source": [
    "movies['tags'] = movies['overview'] + movies['genres'] + movies['keywords'] + movies['cast'] + movies['crew']"
   ]
  },
  {
   "cell_type": "code",
   "execution_count": 260,
   "id": "efdf33a7",
   "metadata": {
    "scrolled": true
   },
   "outputs": [
    {
     "data": {
      "text/html": [
       "<div>\n",
       "<style scoped>\n",
       "    .dataframe tbody tr th:only-of-type {\n",
       "        vertical-align: middle;\n",
       "    }\n",
       "\n",
       "    .dataframe tbody tr th {\n",
       "        vertical-align: top;\n",
       "    }\n",
       "\n",
       "    .dataframe thead th {\n",
       "        text-align: right;\n",
       "    }\n",
       "</style>\n",
       "<table border=\"1\" class=\"dataframe\">\n",
       "  <thead>\n",
       "    <tr style=\"text-align: right;\">\n",
       "      <th></th>\n",
       "      <th>movie_id</th>\n",
       "      <th>title</th>\n",
       "      <th>genres</th>\n",
       "      <th>keywords</th>\n",
       "      <th>overview</th>\n",
       "      <th>cast</th>\n",
       "      <th>crew</th>\n",
       "      <th>tags</th>\n",
       "    </tr>\n",
       "  </thead>\n",
       "  <tbody>\n",
       "    <tr>\n",
       "      <th>0</th>\n",
       "      <td>19995</td>\n",
       "      <td>Avatar</td>\n",
       "      <td>[Action, Adventure, Fantasy, Science Fiction]</td>\n",
       "      <td>[culture clash, future, space war, space colon...</td>\n",
       "      <td>[In, the, 22nd, century,, a, paraplegic, Marin...</td>\n",
       "      <td>[Sam Worthington, Zoe Saldana, Sigourney Weaver]</td>\n",
       "      <td>[James Cameron]</td>\n",
       "      <td>[In, the, 22nd, century,, a, paraplegic, Marin...</td>\n",
       "    </tr>\n",
       "    <tr>\n",
       "      <th>1</th>\n",
       "      <td>285</td>\n",
       "      <td>Pirates of the Caribbean: At World's End</td>\n",
       "      <td>[Adventure, Fantasy, Action]</td>\n",
       "      <td>[ocean, drug abuse, exotic island, east india ...</td>\n",
       "      <td>[Captain, Barbossa,, long, believed, to, be, d...</td>\n",
       "      <td>[Johnny Depp, Orlando Bloom, Keira Knightley]</td>\n",
       "      <td>[Gore Verbinski]</td>\n",
       "      <td>[Captain, Barbossa,, long, believed, to, be, d...</td>\n",
       "    </tr>\n",
       "    <tr>\n",
       "      <th>2</th>\n",
       "      <td>206647</td>\n",
       "      <td>Spectre</td>\n",
       "      <td>[Action, Adventure, Crime]</td>\n",
       "      <td>[spy, based on novel, secret agent, sequel, mi...</td>\n",
       "      <td>[A, cryptic, message, from, Bond’s, past, send...</td>\n",
       "      <td>[Daniel Craig, Christoph Waltz, Léa Seydoux]</td>\n",
       "      <td>[Sam Mendes]</td>\n",
       "      <td>[A, cryptic, message, from, Bond’s, past, send...</td>\n",
       "    </tr>\n",
       "    <tr>\n",
       "      <th>3</th>\n",
       "      <td>49026</td>\n",
       "      <td>The Dark Knight Rises</td>\n",
       "      <td>[Action, Crime, Drama, Thriller]</td>\n",
       "      <td>[dc comics, crime fighter, terrorist, secret i...</td>\n",
       "      <td>[Following, the, death, of, District, Attorney...</td>\n",
       "      <td>[Christian Bale, Michael Caine, Gary Oldman]</td>\n",
       "      <td>[Christopher Nolan]</td>\n",
       "      <td>[Following, the, death, of, District, Attorney...</td>\n",
       "    </tr>\n",
       "    <tr>\n",
       "      <th>4</th>\n",
       "      <td>49529</td>\n",
       "      <td>John Carter</td>\n",
       "      <td>[Action, Adventure, Science Fiction]</td>\n",
       "      <td>[based on novel, mars, medallion, space travel...</td>\n",
       "      <td>[John, Carter, is, a, war-weary,, former, mili...</td>\n",
       "      <td>[Taylor Kitsch, Lynn Collins, Samantha Morton]</td>\n",
       "      <td>[Andrew Stanton]</td>\n",
       "      <td>[John, Carter, is, a, war-weary,, former, mili...</td>\n",
       "    </tr>\n",
       "  </tbody>\n",
       "</table>\n",
       "</div>"
      ],
      "text/plain": [
       "   movie_id                                     title  \\\n",
       "0     19995                                    Avatar   \n",
       "1       285  Pirates of the Caribbean: At World's End   \n",
       "2    206647                                   Spectre   \n",
       "3     49026                     The Dark Knight Rises   \n",
       "4     49529                               John Carter   \n",
       "\n",
       "                                          genres  \\\n",
       "0  [Action, Adventure, Fantasy, Science Fiction]   \n",
       "1                   [Adventure, Fantasy, Action]   \n",
       "2                     [Action, Adventure, Crime]   \n",
       "3               [Action, Crime, Drama, Thriller]   \n",
       "4           [Action, Adventure, Science Fiction]   \n",
       "\n",
       "                                            keywords  \\\n",
       "0  [culture clash, future, space war, space colon...   \n",
       "1  [ocean, drug abuse, exotic island, east india ...   \n",
       "2  [spy, based on novel, secret agent, sequel, mi...   \n",
       "3  [dc comics, crime fighter, terrorist, secret i...   \n",
       "4  [based on novel, mars, medallion, space travel...   \n",
       "\n",
       "                                            overview  \\\n",
       "0  [In, the, 22nd, century,, a, paraplegic, Marin...   \n",
       "1  [Captain, Barbossa,, long, believed, to, be, d...   \n",
       "2  [A, cryptic, message, from, Bond’s, past, send...   \n",
       "3  [Following, the, death, of, District, Attorney...   \n",
       "4  [John, Carter, is, a, war-weary,, former, mili...   \n",
       "\n",
       "                                               cast                 crew  \\\n",
       "0  [Sam Worthington, Zoe Saldana, Sigourney Weaver]      [James Cameron]   \n",
       "1     [Johnny Depp, Orlando Bloom, Keira Knightley]     [Gore Verbinski]   \n",
       "2      [Daniel Craig, Christoph Waltz, Léa Seydoux]         [Sam Mendes]   \n",
       "3      [Christian Bale, Michael Caine, Gary Oldman]  [Christopher Nolan]   \n",
       "4    [Taylor Kitsch, Lynn Collins, Samantha Morton]     [Andrew Stanton]   \n",
       "\n",
       "                                                tags  \n",
       "0  [In, the, 22nd, century,, a, paraplegic, Marin...  \n",
       "1  [Captain, Barbossa,, long, believed, to, be, d...  \n",
       "2  [A, cryptic, message, from, Bond’s, past, send...  \n",
       "3  [Following, the, death, of, District, Attorney...  \n",
       "4  [John, Carter, is, a, war-weary,, former, mili...  "
      ]
     },
     "execution_count": 260,
     "metadata": {},
     "output_type": "execute_result"
    }
   ],
   "source": [
    "\n",
    "movies.head()"
   ]
  },
  {
   "cell_type": "code",
   "execution_count": null,
   "id": "a30f490c",
   "metadata": {},
   "outputs": [],
   "source": []
  },
  {
   "cell_type": "code",
   "execution_count": 261,
   "id": "0f5fb1b2",
   "metadata": {},
   "outputs": [],
   "source": [
    "new_df = movies[['movie_id','title','tags']]"
   ]
  },
  {
   "cell_type": "code",
   "execution_count": 262,
   "id": "4967a4aa",
   "metadata": {},
   "outputs": [
    {
     "name": "stderr",
     "output_type": "stream",
     "text": [
      "C:\\Users\\Poonam Kumari\\AppData\\Local\\Temp\\ipykernel_10868\\487797088.py:1: SettingWithCopyWarning: \n",
      "A value is trying to be set on a copy of a slice from a DataFrame.\n",
      "Try using .loc[row_indexer,col_indexer] = value instead\n",
      "\n",
      "See the caveats in the documentation: https://pandas.pydata.org/pandas-docs/stable/user_guide/indexing.html#returning-a-view-versus-a-copy\n",
      "  new_df['tags']=new_df['tags'].apply(lambda x:\" \".join(x))\n"
     ]
    }
   ],
   "source": [
    "new_df['tags']=new_df['tags'].apply(lambda x:\" \".join(x))"
   ]
  },
  {
   "cell_type": "code",
   "execution_count": 263,
   "id": "de76f165",
   "metadata": {},
   "outputs": [
    {
     "data": {
      "text/plain": [
       "'In the 22nd century, a paraplegic Marine is dispatched to the moon Pandora on a unique mission, but becomes torn between following orders and protecting an alien civilization. Action Adventure Fantasy Science Fiction culture clash future space war space colony society space travel futuristic romance space alien tribe alien planet cgi marine soldier battle love affair anti war power relations mind and soul 3d Sam Worthington Zoe Saldana Sigourney Weaver James Cameron'"
      ]
     },
     "execution_count": 263,
     "metadata": {},
     "output_type": "execute_result"
    }
   ],
   "source": [
    "new_df['tags'][0]"
   ]
  },
  {
   "cell_type": "code",
   "execution_count": 264,
   "id": "b784b90c",
   "metadata": {},
   "outputs": [
    {
     "name": "stderr",
     "output_type": "stream",
     "text": [
      "C:\\Users\\Poonam Kumari\\AppData\\Local\\Temp\\ipykernel_10868\\4247730101.py:1: SettingWithCopyWarning: \n",
      "A value is trying to be set on a copy of a slice from a DataFrame.\n",
      "Try using .loc[row_indexer,col_indexer] = value instead\n",
      "\n",
      "See the caveats in the documentation: https://pandas.pydata.org/pandas-docs/stable/user_guide/indexing.html#returning-a-view-versus-a-copy\n",
      "  new_df['tags']=new_df['tags'].apply(lambda x:x.lower())\n"
     ]
    }
   ],
   "source": [
    "new_df['tags']=new_df['tags'].apply(lambda x:x.lower())\n",
    "\n"
   ]
  },
  {
   "cell_type": "code",
   "execution_count": 266,
   "id": "e65f2836",
   "metadata": {
    "scrolled": true
   },
   "outputs": [
    {
     "data": {
      "text/html": [
       "<div>\n",
       "<style scoped>\n",
       "    .dataframe tbody tr th:only-of-type {\n",
       "        vertical-align: middle;\n",
       "    }\n",
       "\n",
       "    .dataframe tbody tr th {\n",
       "        vertical-align: top;\n",
       "    }\n",
       "\n",
       "    .dataframe thead th {\n",
       "        text-align: right;\n",
       "    }\n",
       "</style>\n",
       "<table border=\"1\" class=\"dataframe\">\n",
       "  <thead>\n",
       "    <tr style=\"text-align: right;\">\n",
       "      <th></th>\n",
       "      <th>movie_id</th>\n",
       "      <th>title</th>\n",
       "      <th>tags</th>\n",
       "    </tr>\n",
       "  </thead>\n",
       "  <tbody>\n",
       "    <tr>\n",
       "      <th>0</th>\n",
       "      <td>19995</td>\n",
       "      <td>Avatar</td>\n",
       "      <td>in the 22nd century, a paraplegic marine is di...</td>\n",
       "    </tr>\n",
       "    <tr>\n",
       "      <th>1</th>\n",
       "      <td>285</td>\n",
       "      <td>Pirates of the Caribbean: At World's End</td>\n",
       "      <td>captain barbossa, long believed to be dead, ha...</td>\n",
       "    </tr>\n",
       "    <tr>\n",
       "      <th>2</th>\n",
       "      <td>206647</td>\n",
       "      <td>Spectre</td>\n",
       "      <td>a cryptic message from bond’s past sends him o...</td>\n",
       "    </tr>\n",
       "    <tr>\n",
       "      <th>3</th>\n",
       "      <td>49026</td>\n",
       "      <td>The Dark Knight Rises</td>\n",
       "      <td>following the death of district attorney harve...</td>\n",
       "    </tr>\n",
       "    <tr>\n",
       "      <th>4</th>\n",
       "      <td>49529</td>\n",
       "      <td>John Carter</td>\n",
       "      <td>john carter is a war-weary, former military ca...</td>\n",
       "    </tr>\n",
       "  </tbody>\n",
       "</table>\n",
       "</div>"
      ],
      "text/plain": [
       "   movie_id                                     title  \\\n",
       "0     19995                                    Avatar   \n",
       "1       285  Pirates of the Caribbean: At World's End   \n",
       "2    206647                                   Spectre   \n",
       "3     49026                     The Dark Knight Rises   \n",
       "4     49529                               John Carter   \n",
       "\n",
       "                                                tags  \n",
       "0  in the 22nd century, a paraplegic marine is di...  \n",
       "1  captain barbossa, long believed to be dead, ha...  \n",
       "2  a cryptic message from bond’s past sends him o...  \n",
       "3  following the death of district attorney harve...  \n",
       "4  john carter is a war-weary, former military ca...  "
      ]
     },
     "execution_count": 266,
     "metadata": {},
     "output_type": "execute_result"
    }
   ],
   "source": [
    "new_df.head()"
   ]
  },
  {
   "cell_type": "code",
   "execution_count": 296,
   "id": "396e34fc",
   "metadata": {},
   "outputs": [],
   "source": [
    "import nltk\n",
    "from nltk.stem.porter import PorterStemmer  #class\n",
    "ps = PorterStemmer()"
   ]
  },
  {
   "cell_type": "code",
   "execution_count": 297,
   "id": "cd33b509",
   "metadata": {},
   "outputs": [],
   "source": [
    "def stem(text):\n",
    "    y=[]\n",
    "    for i in text.split():\n",
    "        y.append(ps.stem(i))\n",
    "    return \" \".join(y)"
   ]
  },
  {
   "cell_type": "code",
   "execution_count": 302,
   "id": "c9042c40",
   "metadata": {},
   "outputs": [
    {
     "name": "stderr",
     "output_type": "stream",
     "text": [
      "C:\\Users\\Poonam Kumari\\AppData\\Local\\Temp\\ipykernel_10868\\3514595201.py:1: SettingWithCopyWarning: \n",
      "A value is trying to be set on a copy of a slice from a DataFrame.\n",
      "Try using .loc[row_indexer,col_indexer] = value instead\n",
      "\n",
      "See the caveats in the documentation: https://pandas.pydata.org/pandas-docs/stable/user_guide/indexing.html#returning-a-view-versus-a-copy\n",
      "  new_df['tags']=new_df['tags'].apply(stem)\n"
     ]
    }
   ],
   "source": [
    "new_df['tags']=new_df['tags'].apply(stem)"
   ]
  },
  {
   "cell_type": "code",
   "execution_count": 353,
   "id": "3aa9ef4c",
   "metadata": {},
   "outputs": [
    {
     "data": {
      "text/html": [
       "<div>\n",
       "<style scoped>\n",
       "    .dataframe tbody tr th:only-of-type {\n",
       "        vertical-align: middle;\n",
       "    }\n",
       "\n",
       "    .dataframe tbody tr th {\n",
       "        vertical-align: top;\n",
       "    }\n",
       "\n",
       "    .dataframe thead th {\n",
       "        text-align: right;\n",
       "    }\n",
       "</style>\n",
       "<table border=\"1\" class=\"dataframe\">\n",
       "  <thead>\n",
       "    <tr style=\"text-align: right;\">\n",
       "      <th></th>\n",
       "      <th>movie_id</th>\n",
       "      <th>title</th>\n",
       "      <th>tags</th>\n",
       "    </tr>\n",
       "  </thead>\n",
       "  <tbody>\n",
       "    <tr>\n",
       "      <th>0</th>\n",
       "      <td>19995</td>\n",
       "      <td>Avatar</td>\n",
       "      <td>in the 22nd century, a parapleg marin is dispa...</td>\n",
       "    </tr>\n",
       "    <tr>\n",
       "      <th>1</th>\n",
       "      <td>285</td>\n",
       "      <td>Pirates of the Caribbean: At World's End</td>\n",
       "      <td>captain barbossa, long believ to be dead, ha c...</td>\n",
       "    </tr>\n",
       "    <tr>\n",
       "      <th>2</th>\n",
       "      <td>206647</td>\n",
       "      <td>Spectre</td>\n",
       "      <td>a cryptic messag from bond’ past send him on a...</td>\n",
       "    </tr>\n",
       "    <tr>\n",
       "      <th>3</th>\n",
       "      <td>49026</td>\n",
       "      <td>The Dark Knight Rises</td>\n",
       "      <td>follow the death of district attorney harvey d...</td>\n",
       "    </tr>\n",
       "    <tr>\n",
       "      <th>4</th>\n",
       "      <td>49529</td>\n",
       "      <td>John Carter</td>\n",
       "      <td>john carter is a war-weary, former militari ca...</td>\n",
       "    </tr>\n",
       "    <tr>\n",
       "      <th>...</th>\n",
       "      <td>...</td>\n",
       "      <td>...</td>\n",
       "      <td>...</td>\n",
       "    </tr>\n",
       "    <tr>\n",
       "      <th>4804</th>\n",
       "      <td>9367</td>\n",
       "      <td>El Mariachi</td>\n",
       "      <td>el mariachi just want to play hi guitar and ca...</td>\n",
       "    </tr>\n",
       "    <tr>\n",
       "      <th>4805</th>\n",
       "      <td>72766</td>\n",
       "      <td>Newlyweds</td>\n",
       "      <td>a newlyw couple' honeymoon is upend by the arr...</td>\n",
       "    </tr>\n",
       "    <tr>\n",
       "      <th>4806</th>\n",
       "      <td>231617</td>\n",
       "      <td>Signed, Sealed, Delivered</td>\n",
       "      <td>\"signed, sealed, delivered\" introduc a dedic q...</td>\n",
       "    </tr>\n",
       "    <tr>\n",
       "      <th>4807</th>\n",
       "      <td>126186</td>\n",
       "      <td>Shanghai Calling</td>\n",
       "      <td>when ambiti new york attorney sam is sent to s...</td>\n",
       "    </tr>\n",
       "    <tr>\n",
       "      <th>4808</th>\n",
       "      <td>25975</td>\n",
       "      <td>My Date with Drew</td>\n",
       "      <td>ever sinc the second grade when he first saw h...</td>\n",
       "    </tr>\n",
       "  </tbody>\n",
       "</table>\n",
       "<p>4806 rows × 3 columns</p>\n",
       "</div>"
      ],
      "text/plain": [
       "      movie_id                                     title  \\\n",
       "0        19995                                    Avatar   \n",
       "1          285  Pirates of the Caribbean: At World's End   \n",
       "2       206647                                   Spectre   \n",
       "3        49026                     The Dark Knight Rises   \n",
       "4        49529                               John Carter   \n",
       "...        ...                                       ...   \n",
       "4804      9367                               El Mariachi   \n",
       "4805     72766                                 Newlyweds   \n",
       "4806    231617                 Signed, Sealed, Delivered   \n",
       "4807    126186                          Shanghai Calling   \n",
       "4808     25975                         My Date with Drew   \n",
       "\n",
       "                                                   tags  \n",
       "0     in the 22nd century, a parapleg marin is dispa...  \n",
       "1     captain barbossa, long believ to be dead, ha c...  \n",
       "2     a cryptic messag from bond’ past send him on a...  \n",
       "3     follow the death of district attorney harvey d...  \n",
       "4     john carter is a war-weary, former militari ca...  \n",
       "...                                                 ...  \n",
       "4804  el mariachi just want to play hi guitar and ca...  \n",
       "4805  a newlyw couple' honeymoon is upend by the arr...  \n",
       "4806  \"signed, sealed, delivered\" introduc a dedic q...  \n",
       "4807  when ambiti new york attorney sam is sent to s...  \n",
       "4808  ever sinc the second grade when he first saw h...  \n",
       "\n",
       "[4806 rows x 3 columns]"
      ]
     },
     "execution_count": 353,
     "metadata": {},
     "output_type": "execute_result"
    }
   ],
   "source": [
    "new_df"
   ]
  },
  {
   "cell_type": "code",
   "execution_count": 354,
   "id": "c36b0607",
   "metadata": {},
   "outputs": [],
   "source": [
    "#covert text into vectors (vecrorization)-Bag of words\n",
    "from sklearn.feature_extraction.text import CountVectorizer\n",
    "cv=CountVectorizer(max_features=5000, stop_words='english')\n"
   ]
  },
  {
   "cell_type": "code",
   "execution_count": 355,
   "id": "a0257a52",
   "metadata": {},
   "outputs": [],
   "source": [
    "vectors=cv.fit_transform(new_df['tags']).toarray()"
   ]
  },
  {
   "cell_type": "code",
   "execution_count": 356,
   "id": "65b5cca1",
   "metadata": {},
   "outputs": [
    {
     "data": {
      "text/plain": [
       "array([[0, 0, 0, ..., 0, 0, 0],\n",
       "       [0, 0, 0, ..., 0, 0, 0],\n",
       "       [0, 0, 0, ..., 0, 0, 0],\n",
       "       ...,\n",
       "       [0, 0, 0, ..., 0, 0, 0],\n",
       "       [0, 0, 0, ..., 0, 0, 0],\n",
       "       [0, 0, 0, ..., 0, 0, 0]], dtype=int64)"
      ]
     },
     "execution_count": 356,
     "metadata": {},
     "output_type": "execute_result"
    }
   ],
   "source": [
    "vectors"
   ]
  },
  {
   "cell_type": "code",
   "execution_count": 357,
   "id": "8e427e25",
   "metadata": {},
   "outputs": [
    {
     "data": {
      "text/plain": [
       "array(['000', '007', '10', ..., 'zooey', 'zucker', 'zwick'], dtype=object)"
      ]
     },
     "execution_count": 357,
     "metadata": {},
     "output_type": "execute_result"
    }
   ],
   "source": [
    "cv.get_feature_names_out()"
   ]
  },
  {
   "cell_type": "code",
   "execution_count": 358,
   "id": "48f3da51",
   "metadata": {},
   "outputs": [],
   "source": [
    "# apply stemming technique fro similar kind of words in the above list like activity, activities\n",
    "# example of stemming\n",
    "#I/P- ['loved','loving','love']\n",
    "#o/p- ['love','love','love']"
   ]
  },
  {
   "cell_type": "code",
   "execution_count": 359,
   "id": "7e6ce13d",
   "metadata": {},
   "outputs": [
    {
     "data": {
      "text/plain": [
       "'love'"
      ]
     },
     "execution_count": 359,
     "metadata": {},
     "output_type": "execute_result"
    }
   ],
   "source": [
    "ps.stem('loved')"
   ]
  },
  {
   "cell_type": "code",
   "execution_count": 360,
   "id": "4336b449",
   "metadata": {},
   "outputs": [
    {
     "data": {
      "text/plain": [
       "'in the 22nd century, a parapleg marin is dispatch to the moon pandora on a uniqu mission, but becom torn between follow order and protect an alien civilization. action adventur fantasi scienc fiction cultur clash futur space war space coloni societi space travel futurist romanc space alien tribe alien planet cgi marin soldier battl love affair anti war power relat mind and soul 3d sam worthington zoe saldana sigourney weaver jame cameron'"
      ]
     },
     "execution_count": 360,
     "metadata": {},
     "output_type": "execute_result"
    }
   ],
   "source": [
    "stem('in the 22nd century, a paraplegic marine is dispatched to the moon pandora on a unique mission, but becomes torn between following orders and protecting an alien civilization. action adventure fantasy science fiction culture clash future space war space colony society space travel futuristic romance space alien tribe alien planet cgi marine soldier battle love affair anti war power relations mind and soul 3d sam worthington zoe saldana sigourney weaver james cameron')"
   ]
  },
  {
   "cell_type": "code",
   "execution_count": 361,
   "id": "48b47ce5",
   "metadata": {},
   "outputs": [],
   "source": [
    "from sklearn.metrics.pairwise import cosine_similarity\n",
    "similarity= cosine_similarity(vectors)"
   ]
  },
  {
   "cell_type": "code",
   "execution_count": 362,
   "id": "83cb62d9",
   "metadata": {},
   "outputs": [
    {
     "data": {
      "text/plain": [
       "array([1.        , 0.06622662, 0.06554735, ..., 0.04406051, 0.03121953,\n",
       "       0.        ])"
      ]
     },
     "execution_count": 362,
     "metadata": {},
     "output_type": "execute_result"
    }
   ],
   "source": [
    "similarity[0]"
   ]
  },
  {
   "cell_type": "code",
   "execution_count": 367,
   "id": "b44cee86",
   "metadata": {
    "scrolled": true
   },
   "outputs": [
    {
     "data": {
      "text/plain": [
       "[(2409, 0.4935676473963736),\n",
       " (4336, 0.4113063728303113),\n",
       " (1537, 0.3880712182748949),\n",
       " (3162, 0.3879852850993631),\n",
       " (373, 0.380442955126341)]"
      ]
     },
     "execution_count": 367,
     "metadata": {},
     "output_type": "execute_result"
    }
   ],
   "source": [
    "sorted(list(enumerate(similarity[0])), reverse=True,key=lambda x:x[1])[1:6] #similarities of 1st movie with all the movies"
   ]
  },
  {
   "cell_type": "code",
   "execution_count": 386,
   "id": "ec9c0ca8",
   "metadata": {},
   "outputs": [],
   "source": [
    "def recommend(movie):\n",
    "    movie_index = new_df[new_df['title']== movie].index[0]\n",
    "    distances = similarity[movie_index]\n",
    "    movies_list=sorted(list(enumerate(distances)),reverse=True,key=lambda x:x[1])[1:11]\n",
    "    for i in movies_list:\n",
    "        print(new_df.iloc[i[0]].title)"
   ]
  },
  {
   "cell_type": "code",
   "execution_count": 387,
   "id": "1393d917",
   "metadata": {},
   "outputs": [
    {
     "name": "stdout",
     "output_type": "stream",
     "text": [
      "Aliens\n",
      "Silent Running\n",
      "Moonraker\n",
      "Alien\n",
      "Mission to Mars\n",
      "Alien³\n",
      "Spaceballs\n",
      "Lifeforce\n",
      "Treasure Planet\n",
      "Planet of the Apes\n"
     ]
    }
   ],
   "source": [
    "recommend('Avatar')"
   ]
  },
  {
   "cell_type": "code",
   "execution_count": 395,
   "id": "f5676b17",
   "metadata": {},
   "outputs": [],
   "source": [
    "import pickle"
   ]
  },
  {
   "cell_type": "code",
   "execution_count": 425,
   "id": "5a094039",
   "metadata": {},
   "outputs": [],
   "source": [
    "pickle.dump(new_df.to_dict(), open('movie_list.pkl','wb'))"
   ]
  },
  {
   "cell_type": "code",
   "execution_count": 426,
   "id": "46b3700c",
   "metadata": {},
   "outputs": [],
   "source": [
    "pickle.dump(similarity, open('similarity.pkl','wb'))"
   ]
  },
  {
   "cell_type": "code",
   "execution_count": 445,
   "id": "a6d0ca5c",
   "metadata": {},
   "outputs": [
    {
     "name": "stdout",
     "output_type": "stream",
     "text": [
      "{0: 'Avatar', 1: \"Pirates of the Caribbean: At World's End\", 2: 'Spectre', 3: 'The Dark Knight Rises', 4: 'John Carter', 5: 'Spider-Man 3', 6: 'Tangled', 7: 'Avengers: Age of Ultron', 8: 'Harry Potter and the Half-Blood Prince', 9: 'Batman v Superman: Dawn of Justice', 10: 'Superman Returns', 11: 'Quantum of Solace', 12: \"Pirates of the Caribbean: Dead Man's Chest\", 13: 'The Lone Ranger', 14: 'Man of Steel', 15: 'The Chronicles of Narnia: Prince Caspian', 16: 'The Avengers', 17: 'Pirates of the Caribbean: On Stranger Tides', 18: 'Men in Black 3', 19: 'The Hobbit: The Battle of the Five Armies', 20: 'The Amazing Spider-Man', 21: 'Robin Hood', 22: 'The Hobbit: The Desolation of Smaug', 23: 'The Golden Compass', 24: 'King Kong', 25: 'Titanic', 26: 'Captain America: Civil War', 27: 'Battleship', 28: 'Jurassic World', 29: 'Skyfall', 30: 'Spider-Man 2', 31: 'Iron Man 3', 32: 'Alice in Wonderland', 33: 'X-Men: The Last Stand', 34: 'Monsters University', 35: 'Transformers: Revenge of the Fallen', 36: 'Transformers: Age of Extinction', 37: 'Oz: The Great and Powerful', 38: 'The Amazing Spider-Man 2', 39: 'TRON: Legacy', 40: 'Cars 2', 41: 'Green Lantern', 42: 'Toy Story 3', 43: 'Terminator Salvation', 44: 'Furious 7', 45: 'World War Z', 46: 'X-Men: Days of Future Past', 47: 'Star Trek Into Darkness', 48: 'Jack the Giant Slayer', 49: 'The Great Gatsby', 50: 'Prince of Persia: The Sands of Time', 51: 'Pacific Rim', 52: 'Transformers: Dark of the Moon', 53: 'Indiana Jones and the Kingdom of the Crystal Skull', 54: 'The Good Dinosaur', 55: 'Brave', 56: 'Star Trek Beyond', 57: 'WALL·E', 58: 'Rush Hour 3', 59: '2012', 60: 'A Christmas Carol', 61: 'Jupiter Ascending', 62: 'The Legend of Tarzan', 63: 'The Chronicles of Narnia: The Lion, the Witch and the Wardrobe', 64: 'X-Men: Apocalypse', 65: 'The Dark Knight', 66: 'Up', 67: 'Monsters vs Aliens', 68: 'Iron Man', 69: 'Hugo', 70: 'Wild Wild West', 71: 'The Mummy: Tomb of the Dragon Emperor', 72: 'Suicide Squad', 73: 'Evan Almighty', 74: 'Edge of Tomorrow', 75: 'Waterworld', 76: 'G.I. Joe: The Rise of Cobra', 77: 'Inside Out', 78: 'The Jungle Book', 79: 'Iron Man 2', 80: 'Snow White and the Huntsman', 81: 'Maleficent', 82: 'Dawn of the Planet of the Apes', 83: 'The Lovers', 84: '47 Ronin', 85: 'Captain America: The Winter Soldier', 86: 'Shrek Forever After', 87: 'Tomorrowland', 88: 'Big Hero 6', 89: 'Wreck-It Ralph', 90: 'The Polar Express', 91: 'Independence Day: Resurgence', 92: 'How to Train Your Dragon', 93: 'Terminator 3: Rise of the Machines', 94: 'Guardians of the Galaxy', 95: 'Interstellar', 96: 'Inception', 97: 'Shin Godzilla', 98: 'The Hobbit: An Unexpected Journey', 99: 'The Fast and the Furious', 100: 'The Curious Case of Benjamin Button', 101: 'X-Men: First Class', 102: 'The Hunger Games: Mockingjay - Part 2', 103: \"The Sorcerer's Apprentice\", 104: 'Poseidon', 105: 'Alice Through the Looking Glass', 106: 'Shrek the Third', 107: 'Warcraft', 108: 'Terminator Genisys', 109: 'The Chronicles of Narnia: The Voyage of the Dawn Treader', 110: 'Pearl Harbor', 111: 'Transformers', 112: 'Alexander', 113: 'Harry Potter and the Order of the Phoenix', 114: 'Harry Potter and the Goblet of Fire', 115: 'Hancock', 116: 'I Am Legend', 117: 'Charlie and the Chocolate Factory', 118: 'Ratatouille', 119: 'Batman Begins', 120: 'Madagascar: Escape 2 Africa', 121: 'Night at the Museum: Battle of the Smithsonian', 122: 'X-Men Origins: Wolverine', 123: 'The Matrix Revolutions', 124: 'Frozen', 125: 'The Matrix Reloaded', 126: 'Thor: The Dark World', 127: 'Mad Max: Fury Road', 128: 'Angels & Demons', 129: 'Thor', 130: 'Bolt', 131: 'G-Force', 132: 'Wrath of the Titans', 133: 'Dark Shadows', 134: 'Mission: Impossible - Rogue Nation', 135: 'The Wolfman', 136: 'Bee Movie', 137: 'Kung Fu Panda 2', 138: 'The Last Airbender', 139: 'Mission: Impossible III', 140: 'White House Down', 141: 'Mars Needs Moms', 142: 'Flushed Away', 143: 'Pan', 144: 'Mr. Peabody & Sherman', 145: 'Troy', 146: \"Madagascar 3: Europe's Most Wanted\", 147: 'Die Another Day', 148: 'Ghostbusters', 149: 'Armageddon', 150: 'Men in Black II', 151: 'Beowulf', 152: 'Kung Fu Panda 3', 153: 'Mission: Impossible - Ghost Protocol', 154: 'Rise of the Guardians', 155: 'Fun with Dick and Jane', 156: 'The Last Samurai', 157: 'Exodus: Gods and Kings', 158: 'Star Trek', 159: 'Spider-Man', 160: 'How to Train Your Dragon 2', 161: 'Gods of Egypt', 162: 'Stealth', 163: 'Watchmen', 164: 'Lethal Weapon 4', 165: 'Hulk', 166: 'G.I. Joe: Retaliation', 167: 'Sahara', 168: 'Final Fantasy: The Spirits Within', 169: 'Captain America: The First Avenger', 170: 'The World Is Not Enough', 171: 'Master and Commander: The Far Side of the World', 172: 'The Twilight Saga: Breaking Dawn - Part 2', 173: 'Happy Feet Two', 174: 'The Incredible Hulk', 175: 'The BFG', 176: 'The Revenant', 177: 'Turbo', 178: 'Rango', 179: 'Penguins of Madagascar', 180: 'The Bourne Ultimatum', 181: 'Kung Fu Panda', 182: 'Ant-Man', 183: 'The Hunger Games: Catching Fire', 184: 'Home', 185: 'War of the Worlds', 186: 'Bad Boys II', 187: 'Puss in Boots', 188: 'Salt', 189: 'Noah', 190: 'The Adventures of Tintin', 191: 'Harry Potter and the Prisoner of Azkaban', 192: 'Australia', 193: 'After Earth', 194: 'Dinosaur', 195: 'Night at the Museum: Secret of the Tomb', 196: 'Megamind', 197: \"Harry Potter and the Philosopher's Stone\", 198: 'R.I.P.D.', 199: 'Pirates of the Caribbean: The Curse of the Black Pearl', 200: 'The Hunger Games: Mockingjay - Part 1', 201: 'The Da Vinci Code', 202: 'Rio 2', 203: 'X2', 204: 'Fast Five', 205: 'Sherlock Holmes: A Game of Shadows', 206: 'Clash of the Titans', 207: 'Total Recall', 208: 'The 13th Warrior', 209: 'The Bourne Legacy', 210: 'Batman & Robin', 211: 'How the Grinch Stole Christmas', 212: 'The Day After Tomorrow', 213: 'Mission: Impossible II', 214: 'The Perfect Storm', 215: 'Fantastic 4: Rise of the Silver Surfer', 216: 'Life of Pi', 217: 'Ghost Rider', 218: 'Jason Bourne', 219: \"Charlie's Angels: Full Throttle\", 220: 'Prometheus', 221: 'Stuart Little 2', 222: 'Elysium', 223: 'The Chronicles of Riddick', 224: 'RoboCop', 225: 'Speed Racer', 226: 'How Do You Know', 227: 'Knight and Day', 228: 'Oblivion', 229: 'Star Wars: Episode III - Revenge of the Sith', 230: 'Star Wars: Episode II - Attack of the Clones', 231: 'Monsters, Inc.', 232: 'The Wolverine', 233: 'Star Wars: Episode I - The Phantom Menace', 234: 'The Croods', 235: 'Asterix at the Olympic Games', 236: 'Windtalkers', 237: \"The Huntsman: Winter's War\", 238: 'Teenage Mutant Ninja Turtles', 239: 'Gravity', 240: \"Dante's Peak\", 241: 'Teenage Mutant Ninja Turtles: Out of the Shadows', 242: 'Fantastic Four', 243: 'Night at the Museum', 244: 'San Andreas', 245: 'Tomorrow Never Dies', 246: 'The Patriot', 247: \"Ocean's Twelve\", 248: 'Mr. & Mrs. Smith', 249: 'Insurgent', 250: 'The Aviator', 251: \"Gulliver's Travels\", 252: 'The Green Hornet', 253: '300: Rise of an Empire', 254: 'The Smurfs', 255: 'Home on the Range', 256: 'Allegiant', 257: 'Real Steel', 258: 'The Smurfs 2', 259: 'Speed 2: Cruise Control', 260: \"Ender's Game\", 261: 'Live Free or Die Hard', 262: 'The Lord of the Rings: The Fellowship of the Ring', 263: 'Around the World in 80 Days', 264: 'Ali', 265: 'The Cat in the Hat', 266: 'I, Robot', 267: 'Kingdom of Heaven', 268: 'Stuart Little', 269: 'The Princess and the Frog', 270: 'The Martian', 271: 'The Island', 272: 'Town & Country', 273: 'Gone in Sixty Seconds', 274: 'Gladiator', 275: 'Minority Report', 276: 'Harry Potter and the Chamber of Secrets', 277: 'Casino Royale', 278: 'Planet of the Apes', 279: 'Terminator 2: Judgment Day', 280: 'Public Enemies', 281: 'American Gangster', 282: 'True Lies', 283: 'The Taking of Pelham 1 2 3', 284: 'Little Fockers', 285: 'The Other Guys', 286: 'Eraser', 287: 'Django Unchained', 288: 'The Hunchback of Notre Dame', 289: \"The Emperor's New Groove\", 290: 'The Expendables 2', 291: 'National Treasure', 292: 'Eragon', 293: 'Where the Wild Things Are', 294: 'Epic', 295: 'The Tourist', 296: 'End of Days', 297: 'Blood Diamond', 298: 'The Wolf of Wall Street', 299: 'Batman Forever', 300: 'Starship Troopers', 301: 'Cloud Atlas', 302: \"Legend of the Guardians: The Owls of Ga'Hoole\", 303: 'Catwoman', 304: 'Hercules', 305: 'Treasure Planet', 306: 'Land of the Lost', 307: 'The Expendables 3', 308: 'Point Break', 309: 'Son of the Mask', 310: 'In the Heart of the Sea', 311: 'The Adventures of Pluto Nash', 312: 'Green Zone', 313: 'The Peanuts Movie', 314: 'The Spanish Prisoner', 315: 'The Mummy Returns', 316: 'Gangs of New York', 317: 'The Flowers of War', 318: \"Surf's Up\", 319: 'The Stepford Wives', 320: 'Black Hawk Down', 321: 'The Campaign', 322: 'The Fifth Element', 323: 'Sex and the City 2', 324: 'The Road to El Dorado', 325: 'Ice Age: Continental Drift', 326: 'Cinderella', 327: 'The Lovely Bones', 328: 'Finding Nemo', 329: 'The Lord of the Rings: The Return of the King', 330: 'The Lord of the Rings: The Two Towers', 331: 'Seventh Son', 332: 'Lara Croft: Tomb Raider', 333: 'Transcendence', 334: 'Jurassic Park III', 335: 'Rise of the Planet of the Apes', 336: 'The Spiderwick Chronicles', 337: 'A Good Day to Die Hard', 338: 'The Alamo', 339: 'The Incredibles', 340: 'Cutthroat Island', 341: 'Percy Jackson & the Olympians: The Lightning Thief', 342: 'Men in Black', 343: 'Toy Story 2', 344: 'Unstoppable', 345: 'Rush Hour 2', 346: 'What Lies Beneath', 347: 'Cloudy with a Chance of Meatballs', 348: 'Ice Age: Dawn of the Dinosaurs', 349: 'The Secret Life of Walter Mitty', 350: \"Charlie's Angels\", 351: 'The Departed', 352: 'Mulan', 353: 'Tropic Thunder', 354: 'The Girl with the Dragon Tattoo', 355: 'Die Hard: With a Vengeance', 356: 'Sherlock Holmes', 357: 'Ben-Hur', 358: 'Atlantis: The Lost Empire', 359: 'Alvin and the Chipmunks: The Road Chip', 360: 'Valkyrie', 361: \"You Don't Mess with the Zohan\", 362: 'Pixels', 363: 'A.I. Artificial Intelligence', 364: 'The Haunted Mansion', 365: 'Contact', 366: 'Hollow Man', 367: 'The Interpreter', 368: 'Percy Jackson: Sea of Monsters', 369: 'Lara Croft Tomb Raider: The Cradle of Life', 370: 'Now You See Me 2', 371: 'The Saint', 372: 'Spy Game', 373: 'Mission to Mars', 374: 'Rio', 375: 'Bicentennial Man', 376: 'Volcano', 377: \"The Devil's Own\", 378: 'K-19: The Widowmaker', 379: 'Conan the Barbarian', 380: 'Cinderella Man', 381: 'The Nutcracker: The Untold Story', 382: 'Seabiscuit', 383: 'Twister', 384: 'Cast Away', 385: 'Happy Feet', 386: 'The Bourne Supremacy', 387: 'Air Force One', 388: \"Ocean's Eleven\", 389: 'The Three Musketeers', 390: 'Hotel Transylvania', 391: 'Enchanted', 392: 'Safe House', 393: '102 Dalmatians', 394: 'Tower Heist', 395: 'The Holiday', 396: 'Enemy of the State', 397: \"It's Complicated\", 398: \"Ocean's Thirteen\", 399: 'Open Season', 400: 'Divergent', 401: 'Enemy at the Gates', 402: 'The Rundown', 403: 'Last Action Hero', 404: 'Memoirs of a Geisha', 405: 'The Fast and the Furious: Tokyo Drift', 406: 'Arthur Christmas', 407: 'Meet Joe Black', 408: 'Collateral Damage', 409: 'All That Jazz', 410: 'Mirror Mirror', 411: 'Scott Pilgrim vs. the World', 412: 'The Core', 413: 'Nutty Professor II: The Klumps', 414: 'Scooby-Doo', 415: 'Dredd', 416: 'Click', 417: 'Creepshow', 418: 'Cats & Dogs 2 : The Revenge of Kitty Galore', 419: 'Jumper', 420: 'Hellboy II: The Golden Army', 421: 'Zodiac', 422: 'The 6th Day', 423: 'Bruce Almighty', 424: 'The Expendables', 425: 'Mission: Impossible', 426: 'The Hunger Games', 427: 'The Hangover Part II', 428: 'Batman Returns', 429: 'Over the Hedge', 430: 'Lilo & Stitch', 431: \"Charlotte's Web\", 432: 'Deep Impact', 433: 'RED 2', 434: 'The Longest Yard', 435: 'Alvin and the Chipmunks: Chipwrecked', 436: 'Grown Ups 2', 437: 'Get Smart', 438: \"Something's Gotta Give\", 439: 'Shutter Island', 440: 'Four Christmases', 441: 'Robots', 442: 'Face/Off', 443: 'Bedtime Stories', 444: 'Road to Perdition', 445: 'Just Go with It', 446: 'Con Air', 447: 'Eagle Eye', 448: 'Cold Mountain', 449: 'The Book of Eli', 450: 'Flubber', 451: 'The Haunting', 452: 'Space Jam', 453: 'The Pink Panther', 454: 'The Day the Earth Stood Still', 455: 'Conspiracy Theory', 456: 'Fury', 457: 'Six Days Seven Nights', 458: 'Yogi Bear', 459: 'Spirit: Stallion of the Cimarron', 460: 'Zookeeper', 461: 'Lost in Space', 462: 'The Manchurian Candidate', 463: 'Déjà Vu', 464: 'Hotel Transylvania 2', 465: 'Fantasia 2000', 466: 'The Time Machine', 467: 'Mighty Joe Young', 468: 'Swordfish', 469: 'The Legend of Zorro', 470: 'What Dreams May Come', 471: 'Little Nicky', 472: 'The Brothers Grimm', 473: 'Mars Attacks!', 474: 'Evolution', 475: 'The Edge', 476: 'Surrogates', 477: 'Thirteen Days', 478: 'Daylight', 479: 'Walking With Dinosaurs', 480: 'Battlefield Earth', 481: 'Looney Tunes: Back in Action', 482: 'Nine', 483: 'Timeline', 484: 'The Postman', 485: 'Babe: Pig in the City', 486: 'The Last Witch Hunter', 487: 'Red Planet', 488: 'Arthur and the Invisibles', 489: 'Oceans', 490: 'A Sound of Thunder', 491: 'Pompeii', 492: 'Top Cat Begins', 493: 'A Beautiful Mind', 494: 'The Lion King', 495: 'Journey 2: The Mysterious Island', 496: 'Cloudy with a Chance of Meatballs 2', 497: 'Red Dragon', 498: 'Hidalgo', 499: 'Jack and Jill', 500: '2 Fast 2 Furious', 501: 'The Little Prince', 502: 'The Invasion', 503: 'The Adventures of Rocky & Bullwinkle', 504: 'The Secret Life of Pets', 505: 'The League of Extraordinary Gentlemen', 506: 'Despicable Me 2', 507: 'Independence Day', 508: 'The Lost World: Jurassic Park', 509: 'Madagascar', 510: 'Children of Men', 511: 'X-Men', 512: 'Wanted', 513: 'The Rock', 514: 'Ice Age: The Meltdown', 515: '50 First Dates', 516: 'Hairspray', 517: 'Exorcist: The Beginning', 518: 'Inspector Gadget', 519: 'Now You See Me', 520: 'Grown Ups', 521: 'The Terminal', 522: 'Hotel for Dogs', 523: 'Vertical Limit', 524: \"Charlie Wilson's War\", 525: 'Shark Tale', 526: 'Dreamgirls', 527: 'Be Cool', 528: 'Munich', 529: 'Tears of the Sun', 530: 'Killers', 531: 'The Man from U.N.C.L.E.', 532: 'Spanglish', 533: 'Monster House', 534: 'Bandits', 535: 'First Knight', 536: 'Anna and the King', 537: 'Immortals', 538: 'Hostage', 539: 'Titan A.E.', 540: 'Hollywood Homicide', 541: 'Soldier', 542: 'Carriers', 543: 'Monkeybone', 544: 'Flight of the Phoenix', 545: 'Unbreakable', 546: 'Minions', 547: 'Sucker Punch', 548: 'Snake Eyes', 549: 'Sphere', 550: 'The Angry Birds Movie', 551: \"Fool's Gold\", 552: 'Funny People', 553: 'The Kingdom', 554: 'Talladega Nights: The Ballad of Ricky Bobby', 555: 'Dr. Dolittle 2', 556: 'Braveheart', 557: 'Jarhead', 558: 'The Simpsons Movie', 559: 'The Majestic', 560: 'Driven', 561: 'Two Brothers', 562: 'The Village', 563: 'Doctor Dolittle', 564: 'Signs', 565: 'Shrek 2', 566: 'Cars', 567: 'Runaway Bride', 568: 'xXx', 569: 'The SpongeBob Movie: Sponge Out of Water', 570: 'Ransom', 571: 'Inglourious Basterds', 572: 'Hook', 573: 'Die Hard 2', 574: 'S.W.A.T.', 575: 'Vanilla Sky', 576: 'Lady in the Water', 577: 'AVP: Alien vs. Predator', 578: 'Alvin and the Chipmunks: The Squeakquel', 579: 'We Were Soldiers', 580: 'Olympus Has Fallen', 581: 'Star Trek: Insurrection', 582: 'Battle: Los Angeles', 583: 'Big Fish', 584: 'Wolf', 585: 'War Horse', 586: 'The Monuments Men', 587: 'The Abyss', 588: 'Wall Street: Money Never Sleeps', 589: 'Dracula Untold', 590: 'The Siege', 591: 'Stardust', 592: 'Seven Years in Tibet', 593: 'The Dilemma', 594: 'Bad Company', 595: 'Doom', 596: 'I Spy', 597: 'Underworld: Awakening', 598: 'Rock of Ages', 599: \"Hart's War\", 600: 'Killer Elite', 601: 'Rollerball', 602: 'Ballistic: Ecks vs. Sever', 603: 'Hard Rain', 604: 'Osmosis Jones', 605: \"Legends of Oz: Dorothy's Return\", 606: 'Blackhat', 607: 'Sky Captain and the World of Tomorrow', 608: 'Basic Instinct 2', 609: 'Escape Plan', 610: 'The Legend of Hercules', 611: 'The Sum of All Fears', 612: 'The Twilight Saga: Eclipse', 613: 'The Score', 614: 'Despicable Me', 615: 'Money Train', 616: 'Ted 2', 617: 'Agora', 618: 'Mystery Men', 619: 'Hall Pass', 620: 'The Insider', 621: 'The Finest Hours', 622: 'Body of Lies', 623: 'Dinner for Schmucks', 624: 'Abraham Lincoln: Vampire Hunter', 625: 'Entrapment', 626: 'The X Files', 627: 'The Last Legion', 628: 'Saving Private Ryan', 629: 'Need for Speed', 630: 'What Women Want', 631: 'Ice Age', 632: 'Dreamcatcher', 633: 'Lincoln', 634: 'The Matrix', 635: 'Apollo 13', 636: 'The Santa Clause 2', 637: 'Les Misérables', 638: \"You've Got Mail\", 639: 'Step Brothers', 640: 'The Mask of Zorro', 641: 'Due Date', 642: 'Unbroken', 643: 'Space Cowboys', 644: 'Cliffhanger', 645: 'Broken Arrow', 646: 'The Kid', 647: 'World Trade Center', 648: 'Mona Lisa Smile', 649: 'The Dictator', 650: 'Eyes Wide Shut', 651: 'Annie', 652: 'Focus', 653: 'This Means War', 654: 'Blade: Trinity', 655: 'Red Dawn', 656: 'Primary Colors', 657: 'Resident Evil: Retribution', 658: 'Death Race', 659: 'The Long Kiss Goodnight', 660: 'Proof of Life', 661: 'Zathura: A Space Adventure', 662: 'Fight Club', 663: 'We Are Marshall', 664: 'Hudson Hawk', 665: 'Lucky Numbers', 666: 'I, Frankenstein', 667: 'Oliver Twist', 668: 'Elektra', 669: 'Sin City: A Dame to Kill For', 670: 'Random Hearts', 671: 'Everest', 672: 'Perfume: The Story of a Murderer', 673: 'Austin Powers in Goldmember', 674: 'Astro Boy', 675: 'Jurassic Park', 676: 'Wyatt Earp', 677: 'Clear and Present Danger', 678: 'Dragon Blade', 679: 'Little Man', 680: 'U-571', 681: 'The American President', 682: 'The Love Guru', 683: '3000 Miles to Graceland', 684: 'The Hateful Eight', 685: 'Blades of Glory', 686: 'Hop', 687: '300', 688: 'Meet the Fockers', 689: 'Marley & Me', 690: 'The Green Mile', 691: 'Wild Hogs', 692: 'Chicken Little', 693: 'Gone Girl', 694: 'The Bourne Identity', 695: 'GoldenEye', 696: \"The General's Daughter\", 697: 'The Truman Show', 698: 'The Prince of Egypt', 699: 'Daddy Day Care', 700: '2 Guns', 701: 'Cats & Dogs', 702: 'The Italian Job', 703: 'Two Weeks Notice', 704: 'Antz', 705: 'Couples Retreat', 706: 'Days of Thunder', 707: 'Cheaper by the Dozen 2', 708: 'Maze Runner: The Scorch Trials', 709: 'Eat Pray Love', 710: 'The Family Man', 711: 'RED', 712: 'Any Given Sunday', 713: 'The Horse Whisperer', 714: 'Collateral', 715: 'The Scorpion King', 716: 'Ladder 49', 717: 'Jack Reacher', 718: 'Deep Blue Sea', 719: 'This Is It', 720: 'Contagion', 721: 'Kangaroo Jack', 722: 'Coraline', 723: 'The Happening', 724: 'Man on Fire', 725: 'The Shaggy Dog', 726: 'Starsky & Hutch', 727: 'Jingle All the Way', 728: 'Hellboy', 729: 'A Civil Action', 730: 'ParaNorman', 731: 'The Jackal', 732: 'Paycheck', 733: 'Up Close & Personal', 734: 'The Tale of Despereaux', 735: 'The Tuxedo', 736: 'Under Siege 2: Dark Territory', 737: 'Jack Ryan: Shadow Recruit', 738: 'Joy', 739: 'London Has Fallen', 740: 'Alien: Resurrection', 741: 'Shooter', 742: 'The Boxtrolls', 743: 'Practical Magic', 744: 'The Lego Movie', 745: 'Miss Congeniality 2: Armed and Fabulous', 746: 'Reign of Fire', 747: 'Gangster Squad', 748: 'Year One', 749: 'Invictus', 750: 'State of Play', 751: 'Duplicity', 752: 'My Favorite Martian', 753: 'The Sentinel', 754: 'Planet 51', 755: 'Star Trek: Nemesis', 756: 'Intolerable Cruelty', 757: 'Trouble with the Curve', 758: 'Edge of Darkness', 759: 'The Relic', 760: 'Analyze That', 761: 'Righteous Kill', 762: 'Mercury Rising', 763: 'The Soloist', 764: 'The Legend of Bagger Vance', 765: 'Almost Famous', 766: 'Garfield: A Tail of Two Kitties', 767: 'xXx: State of the Union', 768: 'Priest', 769: 'Sinbad: Legend of the Seven Seas', 770: 'Event Horizon', 771: 'Dragonfly', 772: 'The Black Dahlia', 773: 'Flyboys', 774: 'The Last Castle', 775: 'Supernova', 776: \"Winter's Tale\", 777: 'The Mortal Instruments: City of Bones', 778: 'Meet Dave', 779: 'Dark Water', 780: 'Edtv', 781: 'Inkheart', 782: 'The Spirit', 783: 'Mortdecai', 784: 'In the Name of the King: A Dungeon Siege Tale', 785: 'Beyond Borders', 786: 'The Monkey King 2', 787: 'The Great Raid', 788: 'Deadpool', 789: 'Holy Man', 790: 'American Sniper', 791: 'Goosebumps', 792: 'Just Like Heaven', 793: 'The Flintstones in Viva Rock Vegas', 794: 'Rambo III', 795: 'Leatherheads', 796: 'The Ridiculous 6', 797: 'Did You Hear About the Morgans?', 798: 'The Internship', 799: 'Resident Evil: Afterlife', 800: 'Red Tails', 801: \"The Devil's Advocate\", 802: \"That's My Boy\", 803: 'DragonHeart', 804: 'After the Sunset', 805: 'Ghost Rider: Spirit of Vengeance', 806: \"Captain Corelli's Mandolin\", 807: 'The Pacifier', 808: 'Walking Tall', 809: 'Forrest Gump', 810: 'Alvin and the Chipmunks', 811: 'Meet the Parents', 812: 'Pocahontas', 813: 'Superman', 814: 'The Nutty Professor', 815: 'Hitch', 816: 'George of the Jungle', 817: 'American Wedding', 818: 'Captain Phillips', 819: 'Date Night', 820: 'Casper', 821: 'The Equalizer', 822: 'Maid in Manhattan', 823: 'Crimson Tide', 824: 'The Pursuit of Happyness', 825: 'Flightplan', 826: 'Disclosure', 827: 'City of Angels', 828: 'Kill Bill: Vol. 1', 829: 'Bowfinger', 830: 'Kill Bill: Vol. 2', 831: 'Tango & Cash', 832: 'Death Becomes Her', 833: 'Shanghai Noon', 834: 'Executive Decision', 835: \"Mr. Popper's Penguins\", 836: 'The Forbidden Kingdom', 837: 'Free Birds', 838: 'Alien³', 839: 'Evita', 840: 'Ronin', 841: 'The Ghost and the Darkness', 842: 'Paddington', 843: 'The Watch', 844: 'The Hunted', 845: 'Instinct', 846: 'Stuck on You', 847: 'Semi-Pro', 848: 'The Pirates! In an Adventure with Scientists!', 849: 'Changeling', 850: 'Chain Reaction', 851: 'The Fan', 852: 'The Phantom of the Opera', 853: 'Elizabeth: The Golden Age', 854: 'Æon Flux', 855: 'Gods and Generals', 856: 'Turbulence', 857: 'Imagine That', 858: 'Muppets Most Wanted', 859: 'Thunderbirds', 860: 'Burlesque', 861: 'A Very Long Engagement', 862: 'Lolita', 863: 'D-Tox', 864: 'Blade II', 865: 'Seven Pounds', 866: 'Bullet to the Head', 867: 'The Godfather: Part III', 868: 'Elizabethtown', 869: 'You, Me and Dupree', 870: 'Superman II', 871: 'Gigli', 872: \"All the King's Men\", 873: 'Shaft', 874: 'Anastasia', 875: 'Moulin Rouge!', 876: 'Domestic Disturbance', 877: 'Black Mass', 878: 'Flags of Our Fathers', 879: 'Law Abiding Citizen', 880: 'Grindhouse', 881: 'Beloved', 882: 'Lucky You', 883: 'Catch Me If You Can', 884: 'Zero Dark Thirty', 885: 'The Break-Up', 886: 'Mamma Mia!', 887: \"Valentine's Day\", 888: 'The Dukes of Hazzard', 889: 'The Thin Red Line', 890: 'The Change-Up', 891: 'Man on the Moon', 892: 'Casino', 893: 'From Paris with Love', 894: 'Bulletproof Monk', 895: 'Me, Myself & Irene', 896: 'Barnyard', 897: 'Deck the Halls', 898: 'The Twilight Saga: New Moon', 899: 'Shrek', 900: 'The Adjustment Bureau', 901: 'Robin Hood: Prince of Thieves', 902: 'Jerry Maguire', 903: 'Ted', 904: 'As Good as It Gets', 905: 'Patch Adams', 906: 'Anchorman 2: The Legend Continues', 907: 'Mr. Deeds', 908: 'Super 8', 909: 'Erin Brockovich', 910: 'How to Lose a Guy in 10 Days', 911: '22 Jump Street', 912: 'Interview with the Vampire', 913: 'Yes Man', 914: 'Central Intelligence', 915: 'Stepmom', 916: \"Daddy's Home\", 917: 'Into the Woods', 918: 'Inside Man', 919: 'Payback', 920: 'Congo', 921: 'We Bought a Zoo', 922: 'Knowing', 923: 'Failure to Launch', 924: 'The Ring Two', 925: 'Crazy, Stupid, Love.', 926: 'Garfield', 927: 'Christmas with the Kranks', 928: 'Moneyball', 929: 'Outbreak', 930: 'Non-Stop', 931: 'Race to Witch Mountain', 932: 'V for Vendetta', 933: 'Shanghai Knights', 934: 'Curious George', 935: 'Herbie Fully Loaded', 936: \"Don't Say a Word\", 937: 'Hansel & Gretel: Witch Hunters', 938: 'Unfaithful', 939: 'I Am Number Four', 940: 'Syriana', 941: '13 Hours: The Secret Soldiers of Benghazi', 942: 'The Book of Life', 943: 'Firewall', 944: 'Absolute Power', 945: 'G.I. Jane', 946: 'The Game', 947: 'Silent Hill', 948: 'The Replacements', 949: 'American Reunion', 950: 'The Negotiator', 951: 'Into the Storm', 952: 'Beverly Hills Cop III', 953: 'Gremlins 2: The New Batch', 954: 'The Judge', 955: 'The Peacemaker', 956: 'Resident Evil: Apocalypse', 957: 'Bridget Jones: The Edge of Reason', 958: 'Out of Time', 959: 'On Deadly Ground', 960: 'The Adventures of Sharkboy and Lavagirl', 961: 'The Beach', 962: 'Raising Helen', 963: 'Ninja Assassin', 964: 'For Love of the Game', 965: 'Striptease', 966: 'Marmaduke', 967: 'Hereafter', 968: 'Murder by Numbers', 969: 'Assassins', 970: 'Hannibal Rising', 971: 'The Story of Us', 972: 'The Host', 973: 'The Host', 974: 'The Host', 975: 'The Host', 976: 'Basic', 977: 'Blood Work', 978: 'The International', 979: 'Escape from L.A.', 980: 'The Iron Giant', 981: 'The Life Aquatic with Steve Zissou', 982: 'Free State of Jones', 983: 'The Life of David Gale', 984: 'Man of the House', 985: 'Run All Night', 986: 'Eastern Promises', 987: 'Into the Blue', 988: 'The Messenger: The Story of Joan of Arc', 989: 'Your Highness', 990: 'Dream House', 991: 'Mad City', 992: \"Baby's Day Out\", 993: 'The Scarlet Letter', 994: 'Fair Game', 995: 'Domino', 996: 'Jade', 997: 'Gamer', 998: 'Beautiful Creatures', 999: 'Death to Smoochy', 1000: 'Zoolander 2', 1001: 'The Big Bounce', 1002: 'What Planet Are You From?', 1003: 'Drive Angry', 1004: 'Street Fighter: The Legend of Chun-Li', 1005: 'The One', 1006: 'The Adventures of Ford Fairlane', 1007: 'The Boat That Rocked', 1008: 'Traffic', 1009: 'Indiana Jones and the Last Crusade', 1010: 'Anna Karenina', 1011: 'Chappie', 1012: 'The Bone Collector', 1013: 'Panic Room', 1014: 'The Tooth Fairy', 1015: 'Three Kings', 1016: 'Child 44', 1017: 'Rat Race', 1018: 'K-PAX', 1019: 'Kate & Leopold', 1020: 'Bedazzled', 1021: 'The Cotton Club', 1022: '3:10 to Yuma', 1023: 'Taken 3', 1024: 'Out of Sight', 1025: 'The Cable Guy', 1026: 'Earth', 1027: 'Dick Tracy', 1028: 'The Thomas Crown Affair', 1029: 'Riding in Cars with Boys', 1030: 'First Blood', 1031: 'Solaris', 1032: \"Happily N'Ever After\", 1033: 'Mary Reilly', 1034: \"My Best Friend's Wedding\", 1035: \"America's Sweethearts\", 1036: 'Insomnia', 1037: 'Star Trek: First Contact', 1038: 'Jonah Hex', 1039: 'Courage Under Fire', 1040: 'Liar Liar', 1041: 'The Infiltrator', 1042: 'Inchon', 1043: 'The Flintstones', 1044: 'Taken 2', 1045: 'Scary Movie 3', 1046: 'Miss Congeniality', 1047: 'Journey to the Center of the Earth', 1048: 'The Princess Diaries 2: Royal Engagement', 1049: 'The Pelican Brief', 1050: 'The Client', 1051: 'The Bucket List', 1052: 'Patriot Games', 1053: 'Monster-in-Law', 1054: 'Prisoners', 1055: 'Training Day', 1056: 'Galaxy Quest', 1057: 'Scary Movie 2', 1058: 'The Muppets', 1059: 'Blade', 1060: 'Coach Carter', 1061: 'Changing Lanes', 1062: 'Anaconda', 1063: 'Coyote Ugly', 1064: 'Love Actually', 1065: \"A Bug's Life\", 1066: 'From Hell', 1067: 'The Specialist', 1068: 'Tin Cup', 1069: 'Yours, Mine and Ours', 1070: 'Kicking & Screaming', 1071: \"The Hitchhiker's Guide to the Galaxy\", 1072: 'Fat Albert', 1073: 'Resident Evil: Extinction', 1074: 'Blended', 1075: 'Last Holiday', 1076: 'The River Wild', 1077: 'The Indian in the Cupboard', 1078: 'Savages', 1079: 'Cellular', 1080: 'Johnny English', 1081: 'The Ant Bully', 1082: 'Dune', 1083: 'Across the Universe', 1084: 'Revolutionary Road', 1085: '16 Blocks', 1086: 'Babylon A.D.', 1087: 'The Glimmer Man', 1088: 'Multiplicity', 1089: 'Aliens in the Attic', 1090: 'The Pledge', 1091: 'The Producers', 1092: 'The Phantom', 1093: 'All the Pretty Horses', 1094: 'Nixon', 1095: 'The Ghost Writer', 1096: 'Deep Rising', 1097: 'Miracle at St. Anna', 1098: 'Curse of the Golden Flower', 1099: 'Bangkok Dangerous', 1100: 'Big Trouble', 1101: 'Love in the Time of Cholera', 1102: 'Shadow Conspiracy', 1103: 'Johnny English Reborn', 1104: 'Foodfight!', 1105: 'Argo', 1106: 'The Fugitive', 1107: 'The Bounty Hunter', 1108: 'Sleepers', 1109: 'Rambo: First Blood Part II', 1110: 'The Juror', 1111: 'Pinocchio', 1112: \"Heaven's Gate\", 1113: 'Underworld: Evolution', 1114: 'Victor Frankenstein', 1115: 'Finding Forrester', 1116: '28 Days', 1117: 'Unleashed', 1118: 'The Sweetest Thing', 1119: 'The Firm', 1120: 'Charlie St. Cloud', 1121: 'The Mechanic', 1122: '21 Jump Street', 1123: 'Notting Hill', 1124: 'Chicken Run', 1125: 'Along Came Polly', 1126: 'Boomerang', 1127: 'The Heat', 1128: 'Cleopatra', 1129: 'Here Comes the Boom', 1130: 'High Crimes', 1131: 'The Mirror Has Two Faces', 1132: 'The Mothman Prophecies', 1133: 'Brüno', 1134: 'Licence to Kill', 1135: 'Red Riding Hood', 1136: '15 Minutes', 1137: 'Super Mario Bros.', 1138: 'Lord of War', 1139: 'Hero', 1140: 'One for the Money', 1141: 'The Interview', 1142: \"The Warrior's Way\", 1143: 'Micmacs', 1144: '8 Mile', 1145: 'Why I Did (Not) Eat My Father', 1146: \"A Knight's Tale\", 1147: 'The Medallion', 1148: 'The Sixth Sense', 1149: 'Man on a Ledge', 1150: 'The Big Year', 1151: 'The Karate Kid', 1152: 'American Hustle', 1153: 'The Proposal', 1154: 'Double Jeopardy', 1155: 'Back to the Future Part II', 1156: 'Lucy', 1157: 'Fifty Shades of Grey', 1158: 'Spy Kids 3-D: Game Over', 1159: 'A Time to Kill', 1160: 'Cheaper by the Dozen', 1161: 'Lone Survivor', 1162: 'A League of Their Own', 1163: 'The Conjuring 2', 1164: 'The Social Network', 1165: \"He's Just Not That Into You\", 1166: 'Scary Movie 4', 1167: 'Scream 3', 1168: 'Back to the Future Part III', 1169: 'Get Hard', 1170: 'Dracula', 1171: 'Julie & Julia', 1172: '42', 1173: 'The Talented Mr. Ripley', 1174: 'Dumb and Dumber To', 1175: 'Eight Below', 1176: 'The Intern', 1177: 'Ride Along 2', 1178: 'The Last of the Mohicans', 1179: 'Ray', 1180: 'Sin City', 1181: 'Vantage Point', 1182: 'I Love You, Man', 1183: 'Shallow Hal', 1184: 'JFK', 1185: \"Big Momma's House 2\", 1186: 'The Mexican', 1187: '17 Again', 1188: 'The Other Woman', 1189: 'The Final Destination', 1190: 'Bridge of Spies', 1191: 'Behind Enemy Lines', 1192: 'Get Him to the Greek', 1193: 'Shall We Dance?', 1194: 'Small Soldiers', 1195: 'Spawn', 1196: 'The Count of Monte Cristo', 1197: 'The Lincoln Lawyer', 1198: 'Unknown', 1199: 'The Prestige', 1200: 'Horrible Bosses 2', 1201: 'Escape from Planet Earth', 1202: 'Apocalypto', 1203: 'The Living Daylights', 1204: 'Predators', 1205: 'Legal Eagles', 1206: 'Secret Window', 1207: 'The Lake House', 1208: 'The Skeleton Key', 1209: 'The Odd Life of Timothy Green', 1210: 'Made of Honor', 1211: 'Jersey Boys', 1212: 'The Rainmaker', 1213: 'Gothika', 1214: 'Amistad', 1215: 'Medicine Man', 1216: 'Aliens vs Predator: Requiem', 1217: 'Ri¢hie Ri¢h', 1218: 'Autumn in New York', 1219: 'Music and Lyrics', 1220: 'Paul', 1221: 'The Guilt Trip', 1222: 'Scream 4', 1223: '8MM', 1224: 'The Doors', 1225: 'Sex Tape', 1226: 'Hanging Up', 1227: 'Final Destination 5', 1228: 'Mickey Blue Eyes', 1229: 'Pay It Forward', 1230: 'Fever Pitch', 1231: 'Drillbit Taylor', 1232: 'A Million Ways to Die in the West', 1233: 'The Shadow', 1234: 'Extremely Loud & Incredibly Close', 1235: 'Morning Glory', 1236: \"Get Rich or Die Tryin'\", 1237: 'The Art of War', 1238: 'Rent', 1239: 'Bless the Child', 1240: 'The Out-of-Towners', 1241: 'The Island of Dr. Moreau', 1242: 'The Musketeer', 1243: 'The Other Boleyn Girl', 1244: 'Sweet November', 1245: 'The Reaping', 1246: 'Mean Streets', 1247: 'Renaissance Man', 1248: 'Colombiana', 1249: 'Quest for Camelot', 1250: 'City By The Sea', 1251: 'At First Sight', 1252: 'Torque', 1253: 'City Hall', 1254: 'Showgirls', 1255: 'Marie Antoinette', 1256: 'Kiss of Death', 1257: 'Get Carter', 1258: 'The Impossible', 1259: 'Ishtar', 1260: 'Fantastic Mr. Fox', 1261: 'Life or Something Like It', 1262: 'Memoirs of an Invisible Man', 1263: 'Amélie', 1264: 'New York Minute', 1265: 'Alfie', 1266: 'Big Miracle', 1267: 'The Deep End of the Ocean', 1268: 'FearDotCom', 1269: \"Cirque du Freak: The Vampire's Assistant\", 1270: 'Duplex', 1271: 'Soul Men', 1272: 'Raise the Titanic', 1273: 'Universal Soldier: The Return', 1274: 'Pandorum', 1275: 'Impostor', 1276: 'Extreme Ops', 1277: 'Just Visiting', 1278: 'Sunshine', 1279: 'A Thousand Words', 1280: 'Delgo', 1281: 'The Gunman', 1282: 'Stormbreaker', 1283: 'Disturbia', 1284: 'Hackers', 1285: 'The Hunting Party', 1286: 'The Hudsucker Proxy', 1287: 'The Warlords', 1288: 'Nomad: The Warrior', 1289: 'Snowpiercer', 1290: 'A Monster in Paris', 1291: 'The Last Shot', 1292: 'The Crow', 1293: 'Baahubali: The Beginning', 1294: \"The Time Traveler's Wife\", 1295: 'Because I Said So', 1296: 'Frankenweenie', 1297: 'Serenity', 1298: 'Against the Ropes', 1299: 'Superman III', 1300: 'Grudge Match', 1301: 'Red Cliff', 1302: 'Sweet Home Alabama', 1303: 'The Ugly Truth', 1304: 'Sgt. Bilko', 1305: 'Spy Kids 2: The Island of Lost Dreams', 1306: 'Star Trek: Generations', 1307: 'The Grandmaster', 1308: 'Water for Elephants', 1309: \"Dragon Nest: Warriors' Dawn\", 1310: 'The Hurricane', 1311: 'Enough', 1312: 'Heartbreakers', 1313: 'Paul Blart: Mall Cop 2', 1314: 'Angel Eyes', 1315: 'Joe Somebody', 1316: 'The Ninth Gate', 1317: 'Extreme Measures', 1318: 'Rock Star', 1319: 'Precious', 1320: 'White Squall', 1321: 'The Thing', 1322: 'Riddick', 1323: 'Switchback', 1324: 'Texas Rangers', 1325: 'City of Ember', 1326: 'The Master', 1327: 'Virgin Territory', 1328: 'The Express', 1329: 'The 5th Wave', 1330: 'Creed', 1331: 'The Town', 1332: \"What to Expect When You're Expecting\", 1333: 'Burn After Reading', 1334: \"Nim's Island\", 1335: 'Rush', 1336: 'Magnolia', 1337: 'Cop Out', 1338: 'How to Be Single', 1339: 'Dolphin Tale', 1340: 'Twilight', 1341: 'John Q', 1342: 'Blue Streak', 1343: \"We're the Millers\", 1344: 'The Inhabited Island', 1345: 'Breakdown', 1346: 'Never Say Never Again', 1347: 'Hot Tub Time Machine', 1348: 'Dolphin Tale 2', 1349: 'Reindeer Games', 1350: 'A Man Apart', 1351: 'Aloha', 1352: 'Ghosts of Mississippi', 1353: 'Snow Falling on Cedars', 1354: 'The Rite', 1355: 'Gattaca', 1356: \"Isn't She Great\", 1357: 'Space Chimps', 1358: 'Head of State', 1359: 'The Hangover', 1360: 'Ip Man 3', 1361: 'Austin Powers: The Spy Who Shagged Me', 1362: 'Batman', 1363: 'Batman', 1364: 'Batman', 1365: 'Batman', 1366: 'There Be Dragons', 1367: 'Lethal Weapon 3', 1368: 'The Blind Side', 1369: 'Spy Kids', 1370: 'Horrible Bosses', 1371: 'True Grit', 1372: 'The Devil Wears Prada', 1373: 'Star Trek: The Motion Picture', 1374: 'Identity Thief', 1375: 'Cape Fear', 1376: '21', 1377: 'Trainwreck', 1378: 'Guess Who', 1379: 'The English Patient', 1380: 'L.A. Confidential', 1381: 'Sky High', 1382: 'In & Out', 1383: 'Species', 1384: 'A Nightmare on Elm Street', 1385: 'The Cell', 1386: 'The Man in the Iron Mask', 1387: 'Secretariat', 1388: 'TMNT', 1389: 'Radio', 1390: 'Friends with Benefits', 1391: 'Neighbors 2: Sorority Rising', 1392: 'Saving Mr. Banks', 1393: 'Malcolm X', 1394: 'This Is 40', 1395: 'Old Dogs', 1396: 'Underworld: Rise of the Lycans', 1397: 'License to Wed', 1398: 'The Benchwarmers', 1399: 'Must Love Dogs', 1400: 'Donnie Brasco', 1401: 'Resident Evil', 1402: 'Poltergeist', 1403: 'The Ladykillers', 1404: 'Max Payne', 1405: 'In Time', 1406: 'The Back-Up Plan', 1407: 'Something Borrowed', 1408: 'Black Knight', 1409: 'The Bad News Bears', 1410: 'Street Fighter', 1411: 'The Pianist', 1412: 'The Nativity Story', 1413: 'House of Wax', 1414: 'Closer', 1415: 'J. Edgar', 1416: 'Mirrors', 1417: 'Queen of the Damned', 1418: 'Predator 2', 1419: 'Untraceable', 1420: 'Blast from the Past', 1421: 'Flash Gordon', 1422: 'Jersey Girl', 1423: 'Alex Cross', 1424: 'Midnight in the Garden of Good and Evil', 1425: 'Heist', 1426: 'Nanny McPhee and the Big Bang', 1427: 'Hoffa', 1428: 'The X Files: I Want to Believe', 1429: 'Ella Enchanted', 1430: 'Concussion', 1431: 'Abduction', 1432: 'Valiant', 1433: 'Wonder Boys', 1434: 'Superhero Movie', 1435: 'Broken City', 1436: 'Cursed', 1437: 'Premium Rush', 1438: 'Hot Pursuit', 1439: 'The Four Feathers', 1440: 'Parker', 1441: 'Wimbledon', 1442: 'Furry Vengeance', 1443: 'Bait', 1444: 'Krull', 1445: 'Lions for Lambs', 1446: 'Flight of the Intruder', 1447: 'Walk Hard: The Dewey Cox Story', 1448: 'The Shipping News', 1449: 'American Outlaws', 1450: 'The Young Victoria', 1451: 'Whiteout', 1452: 'The Tree of Life', 1453: 'Knock Off', 1454: 'Sabotage', 1455: 'The Order', 1456: 'Punisher: War Zone', 1457: 'Zoom', 1458: 'The Walk', 1459: 'Warriors of Virtue', 1460: 'A Good Year', 1461: 'Radio Flyer', 1462: 'Bound by Honor', 1463: \"Smilla's Sense of Snow\", 1464: 'Femme Fatale', 1465: 'Lion of the Desert', 1466: 'The Horseman on the Roof', 1467: 'Ride with the Devil', 1468: 'Biutiful', 1469: 'Bandidas', 1470: 'Black Water Transit', 1471: 'The Maze Runner', 1472: 'Unfinished Business', 1473: 'The Age of Innocence', 1474: 'The Fountain', 1475: 'Chill Factor', 1476: 'Stolen', 1477: 'Ponyo', 1478: 'The Longest Ride', 1479: \"The Astronaut's Wife\", 1480: 'I Dreamed of Africa', 1481: 'Playing for Keeps', 1482: 'Mandela: Long Walk to Freedom', 1483: 'Reds', 1484: 'A Few Good Men', 1485: 'Exit Wounds', 1486: \"Big Momma's House\", 1487: 'Thunder and the House of Magic', 1488: 'The Darkest Hour', 1489: 'Step Up Revolution', 1490: 'Snakes on a Plane', 1491: 'The Watcher', 1492: 'The Punisher', 1493: 'Goal!: The Dream Begins', 1494: 'Safe', 1495: 'Pushing Tin', 1496: 'Return of the Jedi', 1497: 'Doomsday', 1498: 'The Reader', 1499: 'Wanderlust', 1500: 'Elf', 1501: 'Phenomenon', 1502: 'Snow Dogs', 1503: 'Scrooged', 1504: 'Nacho Libre', 1505: 'Bridesmaids', 1506: 'This Is the End', 1507: 'Stigmata', 1508: 'Men of Honor', 1509: 'Takers', 1510: 'The Big Wedding', 1511: 'Big Mommas: Like Father, Like Son', 1512: 'Source Code', 1513: 'Alive', 1514: 'The Number 23', 1515: 'The Young and Prodigious T.S. Spivet', 1516: '1941', 1517: 'Dreamer: Inspired By a True Story', 1518: 'A History of Violence', 1519: 'Transporter 2', 1520: 'The Quick and the Dead', 1521: 'Laws of Attraction', 1522: 'Bringing Out the Dead', 1523: 'Repo Men', 1524: 'Dragon Wars: D-War', 1525: 'Bogus', 1526: 'The Incredible Burt Wonderstone', 1527: \"Cats Don't Dance\", 1528: 'Cradle Will Rock', 1529: 'The Good German', 1530: 'George and the Dragon', 1531: 'Apocalypse Now', 1532: 'Going the Distance', 1533: \"Mr. Holland's Opus\", 1534: 'Criminal', 1535: 'Out of Africa', 1536: 'Flight', 1537: 'Moonraker', 1538: 'The Grand Budapest Hotel', 1539: 'Hearts in Atlantis', 1540: 'Arachnophobia', 1541: 'Frequency', 1542: 'Vacation', 1543: 'Get Shorty', 1544: 'Chicago', 1545: 'Big Daddy', 1546: 'American Pie 2', 1547: 'Toy Story', 1548: 'Speed', 1549: 'The Vow', 1550: 'Extraordinary Measures', 1551: 'Remember the Titans', 1552: 'The Hunt for Red October', 1553: 'The Butler', 1554: 'DodgeBall: A True Underdog Story', 1555: 'The Addams Family', 1556: 'Ace Ventura: When Nature Calls', 1557: 'The Princess Diaries', 1558: 'The First Wives Club', 1559: 'Se7en', 1560: 'District 9', 1561: 'The SpongeBob SquarePants Movie', 1562: 'Mystic River', 1563: 'Million Dollar Baby', 1564: 'Analyze This', 1565: 'The Notebook', 1566: '27 Dresses', 1567: 'Hannah Montana: The Movie', 1568: 'Rugrats in Paris: The Movie', 1569: 'The Prince of Tides', 1570: 'Legends of the Fall', 1571: 'Up in the Air', 1572: 'About Schmidt', 1573: 'Warm Bodies', 1574: 'Looper', 1575: 'Down to Earth', 1576: 'Babe', 1577: 'Hope Springs', 1578: 'Forgetting Sarah Marshall', 1579: 'Four Brothers', 1580: 'Baby Mama', 1581: 'Hope Floats', 1582: 'Bride Wars', 1583: 'Without a Paddle', 1584: '13 Going on 30', 1585: 'Midnight in Paris', 1586: 'The Nut Job', 1587: 'Blow', 1588: 'Message in a Bottle', 1589: 'Star Trek V: The Final Frontier', 1590: 'Like Mike', 1591: 'The Naked Gun 33⅓: The Final Insult', 1592: 'A View to a Kill', 1593: 'The Curse of the Were-Rabbit', 1594: 'P.S. I Love You', 1595: 'Racing Stripes', 1596: 'Atonement', 1597: 'Letters to Juliet', 1598: 'Black Rain', 1599: 'The Three Stooges', 1600: 'Corpse Bride', 1601: 'Glory Road', 1602: 'Sicario', 1603: 'Southpaw', 1604: 'Drag Me to Hell', 1605: 'The Age of Adaline', 1606: 'Secondhand Lions', 1607: 'Step Up 3D', 1608: 'Blue Crush', 1609: 'Stranger Than Fiction', 1610: '30 Days of Night', 1611: 'The Cabin in the Woods', 1612: 'Meet the Spartans', 1613: 'Midnight Run', 1614: 'The Running Man', 1615: 'Little Shop of Horrors', 1616: 'Hanna', 1617: 'Mortal Kombat: Annihilation', 1618: 'Larry Crowne', 1619: 'Carrie', 1620: 'Take the Lead', 1621: 'Gridiron Gang', 1622: \"What's the Worst That Could Happen?\", 1623: '9', 1624: 'Side Effects', 1625: 'The Prince & Me', 1626: 'Winnie the Pooh', 1627: 'Dumb and Dumberer: When Harry Met Lloyd', 1628: 'Bulworth', 1629: 'Get on Up', 1630: 'One True Thing', 1631: 'Virtuosity', 1632: 'My Super Ex-Girlfriend', 1633: 'Deliver Us from Evil', 1634: 'Sanctum', 1635: 'Little Black Book', 1636: 'The Five-Year Engagement', 1637: 'Mr. 3000', 1638: 'The Next Three Days', 1639: 'Ultraviolet', 1640: 'Assault on Precinct 13', 1641: 'The Replacement Killers', 1642: 'Fled', 1643: 'Eight Legged Freaks', 1644: 'Love & Other Drugs', 1645: '88 Minutes', 1646: 'North Country', 1647: 'The Whole Ten Yards', 1648: 'Splice', 1649: 'Howard the Duck', 1650: 'Pride and Glory', 1651: 'The Cave', 1652: 'Alex & Emma', 1653: 'Wicker Park', 1654: 'Fright Night', 1655: 'The New World', 1656: 'Wing Commander', 1657: 'In Dreams', 1658: 'Dragonball Evolution', 1659: 'The Last Stand', 1660: 'Godsend', 1661: 'Chasing Liberty', 1662: 'Hoodwinked Too! Hood VS. Evil', 1663: 'An Unfinished Life', 1664: 'The Imaginarium of Doctor Parnassus', 1665: \"Barney's Version\", 1666: 'Runner Runner', 1667: 'Antitrust', 1668: 'Glory', 1669: 'Once Upon a Time in America', 1670: 'Dead Man Down', 1671: 'The Merchant of Venice', 1672: 'The Good Thief', 1673: 'Supercross', 1674: 'Miss Potter', 1675: 'The Promise', 1676: 'DOA: Dead or Alive', 1677: 'The Assassination of Jesse James by the Coward Robert Ford', 1678: '1911', 1679: 'Little Nicholas', 1680: 'Wild Card', 1681: 'Machine Gun Preacher', 1682: 'Animals United', 1683: 'Goodbye Bafana', 1684: 'United Passions', 1685: 'Grace of Monaco', 1686: 'Savva. Heart of the Warrior', 1687: \"Ripley's Game\", 1688: 'Sausage Party', 1689: 'Pitch Perfect 2', 1690: 'Walk the Line', 1691: 'Keeping the Faith', 1692: 'The Borrowers', 1693: 'Frost/Nixon', 1694: 'Confessions of a Dangerous Mind', 1695: 'Serving Sara', 1696: 'The Boss', 1697: 'Cry Freedom', 1698: 'Mumford', 1699: 'Seed of Chucky', 1700: 'The Jacket', 1701: 'Aladdin', 1702: 'Straight Outta Compton', 1703: 'Indiana Jones and the Temple of Doom', 1704: 'The Rugrats Movie', 1705: 'Along Came a Spider', 1706: 'Florence Foster Jenkins', 1707: 'Once Upon a Time in Mexico', 1708: 'Die Hard', 1709: 'Role Models', 1710: 'The Big Short', 1711: 'Taking Woodstock', 1712: 'Miracle', 1713: 'Dawn of the Dead', 1714: 'The Wedding Planner', 1715: 'Space Pirate Captain Harlock', 1716: 'The Royal Tenenbaums', 1717: 'Identity', 1718: 'Last Vegas', 1719: 'For Your Eyes Only', 1720: 'Serendipity', 1721: 'Timecop', 1722: 'Zoolander', 1723: 'Safe Haven', 1724: 'Hocus Pocus', 1725: 'No Reservations', 1726: 'Kick-Ass', 1727: '30 Minutes or Less', 1728: 'Dracula 2000', 1729: 'Alexander and the Terrible, Horrible, No Good, Very Bad Day', 1730: 'Pride & Prejudice', 1731: 'Blade Runner', 1732: 'Rob Roy', 1733: '3 Days to Kill', 1734: 'We Own the Night', 1735: 'Lost Souls', 1736: 'Winged Migration', 1737: 'Just My Luck', 1738: 'Mystery, Alaska', 1739: 'The Spy Next Door', 1740: 'A Simple Wish', 1741: 'Ghosts of Mars', 1742: 'Our Brand Is Crisis', 1743: 'Pride and Prejudice and Zombies', 1744: 'Kundun', 1745: 'How to Lose Friends & Alienate People', 1746: 'Kick-Ass 2', 1747: 'Alatriste', 1748: 'Brick Mansions', 1749: 'Octopussy', 1750: 'Knocked Up', 1751: \"My Sister's Keeper\", 1752: 'Welcome Home Roscoe Jenkins', 1753: 'A Passage to India', 1754: 'Notes on a Scandal', 1755: 'Rendition', 1756: 'Star Trek VI: The Undiscovered Country', 1757: 'Divine Secrets of the Ya-Ya Sisterhood', 1758: 'Kiss the Girls', 1759: 'The Blues Brothers', 1760: 'The Sisterhood of the Traveling Pants 2', 1761: 'Joyful Noise', 1762: 'About a Boy', 1763: 'Lake Placid', 1764: 'Lucky Number Slevin', 1765: 'The Right Stuff', 1766: 'Anonymous', 1767: 'The NeverEnding Story', 1768: 'Dark City', 1769: 'The Duchess', 1770: 'Return to Oz', 1771: 'The Newton Boys', 1772: 'Case 39', 1773: 'Suspect Zero', 1774: 'Martian Child', 1775: 'Spy Kids: All the Time in the World', 1776: 'Money Monster', 1777: 'The 51st State', 1778: 'Flawless', 1779: 'Mindhunters', 1780: 'What Just Happened', 1781: 'The Statement', 1782: 'The Magic Flute', 1783: 'Paul Blart: Mall Cop', 1784: 'Freaky Friday', 1785: 'The 40 Year Old Virgin', 1786: 'Shakespeare in Love', 1787: 'A Walk Among the Tombstones', 1788: 'Kindergarten Cop', 1789: 'Pineapple Express', 1790: 'Ever After: A Cinderella Story', 1791: 'Open Range', 1792: 'Flatliners', 1793: 'A Bridge Too Far', 1794: 'Red Eye', 1795: 'Final Destination 2', 1796: 'O Brother, Where Art Thou?', 1797: 'Legion', 1798: 'Pain & Gain', 1799: 'In Good Company', 1800: 'Clockstoppers', 1801: 'Silverado', 1802: 'Brothers', 1803: 'Agent Cody Banks 2: Destination London', 1804: \"New Year's Eve\", 1805: 'Original Sin', 1806: 'The Raven', 1807: 'Welcome to Mooseport', 1808: 'Highlander: The Final Dimension', 1809: 'Blood and Wine', 1810: 'Snow White: A Tale of Terror', 1811: 'The Curse of the Jade Scorpion', 1812: 'Accidental Love', 1813: 'Flipper', 1814: 'Self/less', 1815: 'The Constant Gardener', 1816: 'The Passion of the Christ', 1817: 'Mrs. Doubtfire', 1818: 'Rain Man', 1819: 'Gran Torino', 1820: 'W.', 1821: 'Taken', 1822: 'The Best of Me', 1823: 'The Bodyguard', 1824: \"Schindler's List\", 1825: 'The Help', 1826: 'The Fifth Estate', 1827: 'Scooby-Doo 2: Monsters Unleashed', 1828: 'Forbidden Kingdom', 1829: 'Freddy vs. Jason', 1830: 'The Face of an Angel', 1831: 'Jimmy Neutron: Boy Genius', 1832: 'Cloverfield', 1833: 'Teenage Mutant Ninja Turtles II: The Secret of the Ooze', 1834: 'The Untouchables', 1835: 'No Country for Old Men', 1836: 'Ride Along', 1837: \"Bridget Jones's Diary\", 1838: 'Chocolat', 1839: 'Legally Blonde 2: Red, White & Blonde', 1840: 'Parental Guidance', 1841: 'No Strings Attached', 1842: 'Tombstone', 1843: 'Romeo Must Die', 1844: 'The Omen', 1845: 'Final Destination 3', 1846: 'The Lucky One', 1847: 'Bridge to Terabithia', 1848: 'Finding Neverland', 1849: 'A Madea Christmas', 1850: 'The Grey', 1851: 'Hide and Seek', 1852: 'Anchorman: The Legend of Ron Burgundy', 1853: 'GoodFellas', 1854: 'Agent Cody Banks', 1855: 'Nanny McPhee', 1856: 'Scarface', 1857: 'Nothing to Lose', 1858: 'The Last Emperor', 1859: 'Contraband', 1860: 'Money Talks', 1861: 'There Will Be Blood', 1862: 'The Wild Thornberrys Movie', 1863: 'Rugrats Go Wild', 1864: 'Undercover Brother', 1865: 'The Sisterhood of the Traveling Pants', 1866: 'Kiss of the Dragon', 1867: 'The House Bunny', 1868: 'Beauty Shop', 1869: 'Million Dollar Arm', 1870: 'The Giver', 1871: 'What a Girl Wants', 1872: 'Jeepers Creepers 2', 1873: 'Good Luck Chuck', 1874: 'Cradle 2 the Grave', 1875: 'The Hours', 1876: \"She's the Man\", 1877: \"Mr. Bean's Holiday\", 1878: 'Anacondas: The Hunt for the Blood Orchid', 1879: 'Blood Ties', 1880: 'August Rush', 1881: 'Elizabeth', 1882: 'Bride of Chucky', 1883: 'Tora! Tora! Tora!', 1884: 'Spice World', 1885: 'The Sitter', 1886: 'Dance Flick', 1887: 'The Shawshank Redemption', 1888: 'Crocodile Dundee in Los Angeles', 1889: 'Kingpin', 1890: 'The Gambler', 1891: 'August: Osage County', 1892: 'Ice Princess', 1893: 'A Lot Like Love', 1894: 'Eddie the Eagle', 1895: 'He Got Game', 1896: 'Don Juan DeMarco', 1897: 'Dear John', 1898: 'The Losers', 1899: \"Don't Be Afraid of the Dark\", 1900: 'War', 1901: 'Punch-Drunk Love', 1902: 'EuroTrip', 1903: 'Half Past Dead', 1904: 'Unaccompanied Minors', 1905: 'Bright Lights, Big City', 1906: 'The Adventures of Pinocchio', 1907: 'The Greatest Game Ever Played', 1908: 'The Box', 1909: 'The Ruins', 1910: 'The Next Best Thing', 1911: 'My Soul to Take', 1912: 'The Girl Next Door', 1913: 'Maximum Risk', 1914: 'Stealing Harvard', 1915: 'Legend', 1916: 'Hot Rod', 1917: 'Shark Night', 1918: \"Angela's Ashes\", 1919: 'Draft Day', 1920: 'Lifeforce', 1921: 'The Conspirator', 1922: 'Lords of Dogtown', 1923: 'The 33', 1924: 'Big Trouble in Little China', 1925: 'Fly Me to the Moon', 1926: 'Warrior', 1927: 'Michael Collins', 1928: 'Gettysburg', 1929: 'Stop-Loss', 1930: 'Abandon', 1931: 'Brokedown Palace', 1932: 'The Possession', 1933: 'Mrs. Winterbourne', 1934: 'Straw Dogs', 1935: 'The Hoax', 1936: 'Stone Cold', 1937: 'The Road', 1938: 'Sheena', 1939: 'Underclassman', 1940: \"Say It Isn't So\", 1941: \"The World's Fastest Indian\", 1942: 'Tank Girl', 1943: \"King's Ransom\", 1944: 'Blindness', 1945: 'BloodRayne', 1946: 'Carnage', 1947: 'Where the Truth Lies', 1948: 'Cirque du Soleil: Worlds Away', 1949: 'Without Limits', 1950: 'Me and Orson Welles', 1951: 'The Best Offer', 1952: 'The Bad Lieutenant: Port of Call - New Orleans', 1953: \"A Turtle's Tale: Sammy's Adventures\", 1954: 'Little White Lies', 1955: 'Love Ranch', 1956: \"The True Story of Puss 'n Boots\", 1957: 'Space Dogs', 1958: 'The Counselor', 1959: 'Ironclad', 1960: 'Waterloo', 1961: 'Kung Fu Jungle', 1962: 'Red Sky', 1963: 'Dangerous Liaisons', 1964: 'On the Road', 1965: 'Star Trek IV: The Voyage Home', 1966: 'Rocky Balboa', 1967: 'Scream 2', 1968: 'Jane Got a Gun', 1969: 'Think Like a Man Too', 1970: 'The Whole Nine Yards', 1971: 'Footloose', 1972: 'Old School', 1973: 'The Fisher King', 1974: 'I Still Know What You Did Last Summer', 1975: 'Return to Me', 1976: 'Zack and Miri Make a Porno', 1977: 'Nurse Betty', 1978: 'The Men Who Stare at Goats', 1979: 'Double Take', 1980: 'Girl, Interrupted', 1981: 'Win a Date with Tad Hamilton!', 1982: 'Muppets from Space', 1983: 'The Wiz', 1984: 'Ready to Rumble', 1985: 'Play It to the Bone', 1986: \"I Don't Know How She Does It\", 1987: 'Piranha 3D', 1988: 'Beyond the Sea', 1989: 'Meet the Deedles', 1990: 'The Thief and the Cobbler', 1991: 'The Bridge of San Luis Rey', 1992: 'Faster', 1993: \"Howl's Moving Castle\", 1994: 'Zombieland', 1995: 'The Waterboy', 1996: 'The Empire Strikes Back', 1997: 'Bad Boys', 1998: 'The Naked Gun 2½: The Smell of Fear', 1999: 'Final Destination', 2000: 'The Ides of March', 2001: 'Pitch Black', 2002: 'Someone Like You...', 2003: 'Her', 2004: 'Joy Ride', 2005: 'The Adventurer: The Curse of the Midas Box', 2006: 'Anywhere But Here', 2007: 'The Crew', 2008: 'Haywire', 2009: 'Jaws: The Revenge', 2010: \"Marvin's Room\", 2011: 'The Longshots', 2012: 'The End of the Affair', 2013: 'Harley Davidson and the Marlboro Man', 2014: 'In the Valley of Elah', 2015: 'Coco Before Chanel', 2016: 'Forsaken', 2017: 'Cheri', 2018: 'Vanity Fair', 2019: 'Bodyguards and Assassins', 2020: '1408', 2021: 'Spaceballs', 2022: 'The Water Diviner', 2023: 'Ghost', 2024: \"There's Something About Mary\", 2025: 'The Santa Clause', 2026: 'The Rookie', 2027: 'The Game Plan', 2028: 'The Bridges of Madison County', 2029: 'The Animal', 2030: 'Gandhi', 2031: 'The Hundred-Foot Journey', 2032: 'The Net', 2033: 'I Am Sam', 2034: 'Son of God', 2035: 'Underworld', 2036: 'Derailed', 2037: 'The Informant!', 2038: 'Shadowlands', 2039: 'Deuce Bigalow: European Gigolo', 2040: 'Delivery Man', 2041: 'Our Kind of Traitor', 2042: 'Saving Silverman', 2043: 'Diary of a Wimpy Kid: Dog Days', 2044: 'Summer of Sam', 2045: 'Jay and Silent Bob Strike Back', 2046: 'The Glass House', 2047: 'Hail, Caesar!', 2048: 'Josie and the Pussycats', 2049: 'Homefront', 2050: 'The Little Vampire', 2051: 'I Heart Huckabees', 2052: 'RoboCop 3', 2053: 'Megiddo: The Omega Code 2', 2054: 'Darling Lili', 2055: 'Dudley Do-Right', 2056: 'The Transporter Refueled', 2057: 'The Libertine', 2058: 'Black Book', 2059: 'Joyeux Noël', 2060: 'Hit & Run', 2061: 'Mad Money', 2062: 'Before I Go to Sleep', 2063: 'Sorcerer', 2064: 'Stone', 2065: 'Moliere', 2066: 'Out of the Furnace', 2067: 'Michael Clayton', 2068: 'My Fellow Americans', 2069: 'Arlington Road', 2070: 'Underdogs', 2071: 'To Rome with Love', 2072: 'Firefox', 2073: 'South Park: Bigger, Longer & Uncut', 2074: 'Death at a Funeral', 2075: 'Teenage Mutant Ninja Turtles III', 2076: 'Hardball', 2077: 'Silver Linings Playbook', 2078: 'Freedom Writers', 2079: 'For Colored Girls', 2080: 'The Transporter', 2081: 'Never Back Down', 2082: 'The Rage: Carrie 2', 2083: 'Away We Go', 2084: 'Swing Vote', 2085: 'Moonlight Mile', 2086: 'Tinker Tailor Soldier Spy', 2087: 'Molly', 2088: 'The Beaver', 2089: 'The Best Little Whorehouse in Texas', 2090: 'eXistenZ', 2091: 'Raiders of the Lost Ark', 2092: 'Home Alone 2: Lost in New York', 2093: 'Close Encounters of the Third Kind', 2094: 'Pulse', 2095: 'Beverly Hills Cop II', 2096: 'Bringing Down the House', 2097: 'The Silence of the Lambs', 2098: \"Wayne's World\", 2099: 'Jackass 3D', 2100: 'Jaws 2', 2101: 'Beverly Hills Chihuahua', 2102: 'The Conjuring', 2103: 'Are We There Yet?', 2104: 'Tammy', 2105: 'School of Rock', 2106: 'Mortal Kombat', 2107: 'White Chicks', 2108: 'The Descendants', 2109: 'Holes', 2110: 'The Last Song', 2111: '12 Years a Slave', 2112: 'Drumline', 2113: 'Why Did I Get Married Too?', 2114: 'Edward Scissorhands', 2115: 'Me Before You', 2116: \"Madea's Witness Protection\", 2117: 'The French Connection', 2118: 'Bad Moms', 2119: 'Date Movie', 2120: 'Return to Never Land', 2121: 'Selma', 2122: 'The Jungle Book 2', 2123: 'Boogeyman', 2124: 'Premonition', 2125: 'The Tigger Movie', 2126: 'Orphan', 2127: 'Max', 2128: 'Epic Movie', 2129: 'Spotlight', 2130: 'Lakeview Terrace', 2131: 'The Grudge 2', 2132: 'How Stella Got Her Groove Back', 2133: \"Bill & Ted's Bogus Journey\", 2134: 'Man of the Year', 2135: 'The Black Hole', 2136: 'The American', 2137: 'Selena', 2138: 'Vampires Suck', 2139: 'Babel', 2140: 'This Is Where I Leave You', 2141: 'Doubt', 2142: 'Team America: World Police', 2143: 'Texas Chainsaw 3D', 2144: 'Copycat', 2145: 'Scary Movie 5', 2146: 'Paint Your Wagon', 2147: 'Milk', 2148: 'Risen', 2149: 'Ghost Ship', 2150: 'A Very Harold & Kumar Christmas', 2151: 'Wild Things', 2152: 'The Stepfather', 2153: 'The Debt', 2154: 'High Fidelity', 2155: 'One Missed Call', 2156: 'Eye for an Eye', 2157: 'The Bank Job', 2158: 'Eternal Sunshine of the Spotless Mind', 2159: 'You Again', 2160: 'Street Kings', 2161: \"The World's End\", 2162: 'Nancy Drew', 2163: 'Daybreakers', 2164: \"She's Out of My League\", 2165: 'Monte Carlo', 2166: 'Stay Alive', 2167: 'Quigley Down Under', 2168: 'Alpha and Omega', 2169: 'The Covenant', 2170: 'Stick It', 2171: 'Shorts', 2172: 'To Die For', 2173: 'Nerve', 2174: 'Appaloosa', 2175: 'Vampires', 2176: 'Psycho', 2177: \"My Best Friend's Girl\", 2178: 'Endless Love', 2179: 'Georgia Rule', 2180: 'Under the Rainbow', 2181: 'Ladyhawke', 2182: 'Simon Birch', 2183: 'Reign Over Me', 2184: 'Into the Wild', 2185: 'School for Scoundrels', 2186: 'Silent Hill: Revelation 3D', 2187: 'From Dusk Till Dawn', 2188: \"Pooh's Heffalump Movie\", 2189: 'Home for the Holidays', 2190: 'Kung Fu Hustle', 2191: 'The Country Bears', 2192: 'The Kite Runner', 2193: '21 Grams', 2194: 'Paparazzi', 2195: 'A Guy Thing', 2196: 'Loser', 2197: 'Capitalism: A Love Story', 2198: 'The Greatest Story Ever Told', 2199: 'Secret in Their Eyes', 2200: 'Disaster Movie', 2201: 'Armored', 2202: 'The Man Who Knew Too Little', 2203: \"What's Your Number?\", 2204: 'Lockout', 2205: 'Envy', 2206: 'Crank: High Voltage', 2207: 'Bullets Over Broadway', 2208: 'One Night with the King', 2209: 'The Quiet American', 2210: 'The Weather Man', 2211: 'Undisputed', 2212: 'Ghost Town', 2213: '12 Rounds', 2214: 'Let Me In', 2215: '3 Ninjas Kick Back', 2216: 'Be Kind Rewind', 2217: 'Mrs Henderson Presents', 2218: 'Triple 9', 2219: 'Deconstructing Harry', 2220: 'Three to Tango', 2221: 'Burnt', 2222: \"We're No Angels\", 2223: 'Everyone Says I Love You', 2224: 'Death Sentence', 2225: \"Everybody's Fine\", 2226: 'Superbabies: Baby Geniuses 2', 2227: 'The Man', 2228: 'Code Name: The Cleaner', 2229: 'Connie and Carla', 2230: 'Sweet Charity', 2231: 'Inherent Vice', 2232: 'Doogal', 2233: 'Battle of the Year', 2234: 'An American Carol', 2235: 'Machete Kills', 2236: 'Willard', 2237: 'Strange Wilderness', 2238: 'Topsy-Turvy', 2239: 'Little Boy', 2240: 'A Dangerous Method', 2241: 'A Scanner Darkly', 2242: 'Chasing Mavericks', 2243: 'Alone in the Dark', 2244: 'Bandslam', 2245: 'Birth', 2246: 'A Most Violent Year', 2247: 'Passchendaele', 2248: 'Flash of Genius', 2249: \"I'm Not There.\", 2250: 'The Cold Light of Day', 2251: 'The Brothers Bloom', 2252: 'Synecdoche, New York', 2253: 'Princess Mononoke', 2254: 'Bon voyage', 2255: \"Can't Stop the Music\", 2256: 'The Proposition', 2257: 'My All American', 2258: 'Marci X', 2259: 'Equilibrium', 2260: 'The Children of Huang Shi', 2261: 'The Yards', 2262: 'The Oogieloves in the Big Balloon Adventure', 2263: 'By the Sea', 2264: 'Steamboy', 2265: 'The Game of Their Lives', 2266: 'All Good Things', 2267: 'Rapa Nui', 2268: 'CJ7', 2269: 'The Visitors II: The Corridors of Time', 2270: 'Dylan Dog: Dead of Night', 2271: 'People I Know', 2272: 'The Tempest', 2273: 'Regression', 2274: 'Three Kingdoms: Resurrection of the Dragon', 2275: 'Butterfly on a Wheel', 2276: 'Zambezia', 2277: 'Ramanujan', 2278: 'Dwegons', 2279: 'Hands of Stone', 2280: 'Survivor', 2281: 'The Frozen Ground', 2282: 'The Painted Veil', 2283: 'The Baader Meinhof Complex', 2284: 'Dances with Wolves', 2285: 'Bad Teacher', 2286: 'Sea of Love', 2287: 'A Cinderella Story', 2288: 'Scream', 2289: 'Thir13en Ghosts', 2290: 'The Shining', 2291: 'Back to the Future', 2292: 'House on Haunted Hill', 2293: 'I Can Do Bad All By Myself', 2294: 'Fight Valley', 2295: 'The Switch', 2296: 'Just Married', 2297: \"The Devil's Double\", 2298: 'Thomas and the Magic Railroad', 2299: 'The Crazies', 2300: 'Spirited Away', 2301: 'Firestorm', 2302: 'The Bounty', 2303: 'The Book Thief', 2304: 'Sex Drive', 2305: 'Leap Year', 2306: 'The Fall of the Roman Empire', 2307: 'Take Me Home Tonight', 2308: \"Won't Back Down\", 2309: 'The Nutcracker', 2310: 'Kansas City', 2311: 'Indignation', 2312: 'The Amityville Horror', 2313: 'Adaptation.', 2314: 'Land of the Dead', 2315: 'Out of Inferno', 2316: 'Fear and Loathing in Las Vegas', 2317: 'The Invention of Lying', 2318: 'Neighbors', 2319: 'The Mask', 2320: 'Big', 2321: 'Borat: Cultural Learnings of America for Make Benefit Glorious Nation of Kazakhstan', 2322: 'Legally Blonde', 2323: 'Star Trek III: The Search for Spock', 2324: 'The Exorcism of Emily Rose', 2325: 'Deuce Bigalow: Male Gigolo', 2326: 'Left Behind', 2327: 'The Family Stone', 2328: 'Barbershop 2:  Back in Business', 2329: 'Bad Santa', 2330: 'Austin Powers: International Man of Mystery', 2331: 'My Big Fat Greek Wedding 2', 2332: 'Diary of a Wimpy Kid: Rodrick Rules', 2333: 'Predator', 2334: 'Amadeus', 2335: 'Prom Night', 2336: 'Mean Girls', 2337: 'Under the Tuscan Sun', 2338: 'Gosford Park', 2339: 'Peggy Sue Got Married', 2340: 'Birdman', 2341: 'Blue Jasmine', 2342: 'United 93', 2343: 'Honey', 2344: 'Spy Hard', 2345: 'The Fog', 2346: 'Soul Surfer', 2347: 'Catch-22', 2348: 'Observe and Report', 2349: 'Conan the Destroyer', 2350: 'Raging Bull', 2351: 'Love Happens', 2352: 'Young Sherlock Holmes', 2353: 'Fame', 2354: '127 Hours', 2355: 'Small Time Crooks', 2356: 'Center Stage', 2357: 'Love the Coopers', 2358: 'Catch That Kid', 2359: 'Life as a House', 2360: 'Steve Jobs', 2361: 'I Love You, Beth Cooper', 2362: 'Youth in Revolt', 2363: 'The Legend of the Lone Ranger', 2364: 'The Tailor of Panama', 2365: 'Blow Out', 2366: 'Getaway', 2367: 'The Ice Storm', 2368: 'And So It Goes', 2369: 'Troop Beverly Hills', 2370: 'Being Julia', 2371: 'Nine 1/2 Weeks', 2372: 'Dragonslayer', 2373: 'The Last Station', 2374: 'Ed Wood', 2375: 'Labor Day', 2376: 'Mongol: The Rise of Genghis Khan', 2377: 'RockNRolla', 2378: 'Megaforce', 2379: 'Hamlet', 2380: \"Mao's Last Dancer\", 2381: 'Midnight Special', 2382: 'Anything Else', 2383: 'The Railway Man', 2384: 'The White Ribbon', 2385: 'Restoration', 2386: 'The Wraith', 2387: 'Salton Sea', 2388: 'Metallica: Through the Never', 2389: 'The Informers', 2390: 'Carlos', 2391: 'I Come with the Rain', 2392: \"One Man's Hero\", 2393: 'Day of the Dead', 2394: 'I Am Wrath', 2395: 'Renaissance', 2396: 'Red Sonja', 2397: 'Red Lights', 2398: 'Superbad', 2399: 'Madea Goes to Jail', 2400: 'Wolves', 2401: 'Step Up 2: The Streets', 2402: 'Hoodwinked!', 2403: 'Hotel Rwanda', 2404: 'Hitman', 2405: 'Black Nativity', 2406: 'The Prince', 2407: 'City of Ghosts', 2408: 'The Others', 2409: 'Aliens', 2410: 'My Fair Lady', 2411: 'I Know What You Did Last Summer', 2412: \"Let's Be Cops\", 2413: 'Sideways', 2414: 'Beerfest', 2415: 'Halloween', 2416: 'Good Boy!', 2417: 'The Best Man Holiday', 2418: \"Smokin' Aces\", 2419: 'Saw: The Final Chapter', 2420: '40 Days and 40 Nights', 2421: 'A Night at the Roxbury', 2422: 'Beastly', 2423: 'The Hills Have Eyes', 2424: 'Dickie Roberts: Former Child Star', 2425: 'McFarland, USA', 2426: 'Lottery Ticket', 2427: 'ATL', 2428: 'Pitch Perfect', 2429: 'Summer Catch', 2430: 'A Simple Plan', 2431: 'They', 2432: 'Larry the Cable Guy: Health Inspector', 2433: 'The Adventures of Elmo in Grouchland', 2434: \"Brooklyn's Finest\", 2435: '55 Days at Peking', 2436: 'Evil Dead', 2437: 'My Life in Ruins', 2438: 'American Dreamz', 2439: 'Superman IV: The Quest for Peace', 2440: 'How She Move', 2441: 'Running Scared', 2442: 'Bobby Jones: Stroke of Genius', 2443: 'Shanghai Surprise', 2444: 'The Illusionist', 2445: 'Roar', 2446: 'Veronica Guerin', 2447: 'Escobar: Paradise Lost', 2448: 'Southland Tales', 2449: 'Dragon Hunters', 2450: 'Damnation Alley', 2451: 'The Apparition', 2452: 'My Girl', 2453: 'Fur: An Imaginary Portrait of Diane Arbus', 2454: 'Wall Street', 2455: 'Sense and Sensibility', 2456: 'Becoming Jane', 2457: 'Sydney White', 2458: 'House of Sand and Fog', 2459: 'Dead Poets Society', 2460: 'Dumb and Dumber', 2461: 'When Harry Met Sally...', 2462: 'The Verdict', 2463: 'Road Trip', 2464: 'Varsity Blues', 2465: 'The Artist', 2466: 'The Unborn', 2467: 'Moonrise Kingdom', 2468: 'The Texas Chainsaw Massacre: The Beginning', 2469: 'The Young Messiah', 2470: 'The Master of Disguise', 2471: \"Pan's Labyrinth\", 2472: 'See Spot Run', 2473: 'Baby Boy', 2474: 'The Roommate', 2475: 'Joe Dirt', 2476: 'Double Impact', 2477: 'Hot Fuzz', 2478: 'The Women', 2479: 'Vicky Cristina Barcelona', 2480: 'Arn: The Knight Templar', 2481: 'Boys and Girls', 2482: 'White Oleander', 2483: \"Jennifer's Body\", 2484: 'Drowning Mona', 2485: 'Radio Days', 2486: 'Remember Me', 2487: 'How to Deal', 2488: 'My Stepmother is an Alien', 2489: 'Philadelphia', 2490: 'The Thirteenth Floor', 2491: 'The Cookout', 2492: 'Meteor', 2493: 'Duets', 2494: 'Hollywood Ending', 2495: 'Detroit Rock City', 2496: 'Highlander', 2497: 'Things We Lost in the Fire', 2498: 'Steel', 2499: 'The Immigrant', 2500: 'The White Countess', 2501: 'Trance', 2502: 'Soul Plane', 2503: 'Welcome to the Sticks', 2504: 'Good', 2505: 'Enter the Void', 2506: 'Vamps', 2507: \"Hachi: A Dog's Tale\", 2508: 'Zulu', 2509: 'The Homesman', 2510: 'Juwanna Mann', 2511: 'Ararat', 2512: 'Madison', 2513: 'Slow Burn', 2514: 'Wasabi', 2515: 'Slither', 2516: 'Beverly Hills Cop', 2517: 'Home Alone', 2518: 'Three Men and a Baby', 2519: 'Tootsie', 2520: 'Top Gun', 2521: 'Crouching Tiger, Hidden Dragon', 2522: 'American Beauty', 2523: \"The King's Speech\", 2524: 'Twins', 2525: 'The Yellow Handkerchief', 2526: 'The Color Purple', 2527: 'Tidal Wave', 2528: 'The Imitation Game', 2529: 'Private Benjamin', 2530: \"Coal Miner's Daughter\", 2531: 'Diary of a Wimpy Kid', 2532: 'Mama', 2533: \"National Lampoon's Vacation\", 2534: 'Bad Grandpa', 2535: 'The Queen', 2536: 'Beetlejuice', 2537: 'Why Did I Get Married?', 2538: 'Little Women', 2539: 'The Woman in Black', 2540: 'When a Stranger Calls', 2541: 'Big Fat Liar', 2542: 'The Deer Hunter', 2543: 'Wag the Dog', 2544: 'The Lizzie McGuire Movie', 2545: 'Snitch', 2546: 'Krampus', 2547: 'The Faculty', 2548: \"What's Love Got to Do with It\", 2549: 'Cop Land', 2550: 'Not Another Teen Movie', 2551: 'End of Watch', 2552: 'The Skulls', 2553: 'The Theory of Everything', 2554: \"Malibu's Most Wanted\", 2555: 'Where the Heart Is', 2556: 'Lawrence of Arabia', 2557: 'Halloween II', 2558: 'Wild', 2559: 'The Last House on the Left', 2560: 'The Wedding Date', 2561: 'Halloween: Resurrection', 2562: 'The Princess Bride', 2563: 'The Great Debaters', 2564: 'Drive', 2565: 'Confessions of a Teenage Drama Queen', 2566: 'The Object of My Affection', 2567: '28 Weeks Later', 2568: 'When the Game Stands Tall', 2569: 'Because of Winn-Dixie', 2570: 'Love & Basketball', 2571: 'Grosse Pointe Blank', 2572: 'All About Steve', 2573: 'Book of Shadows: Blair Witch 2', 2574: 'The Craft', 2575: 'Match Point', 2576: 'Ramona and Beezus', 2577: 'The Remains of the Day', 2578: 'Boogie Nights', 2579: 'Nowhere to Run', 2580: 'Flicka', 2581: 'The Hills Have Eyes 2', 2582: 'Urban Legends: Final Cut', 2583: 'Tuck Everlasting', 2584: 'The Marine', 2585: 'Keanu', 2586: 'Country Strong', 2587: 'Disturbing Behavior', 2588: 'The Place Beyond the Pines', 2589: 'The November Man', 2590: 'Eye of the Beholder', 2591: 'The Hurt Locker', 2592: 'Firestarter', 2593: 'Killing Them Softly', 2594: 'A Most Wanted Man', 2595: 'Freddy Got Fingered', 2596: \"VeggieTales: The Pirates Who Don't Do Anything\", 2597: 'U2 3D', 2598: 'Highlander: Endgame', 2599: 'Idlewild', 2600: 'One Day', 2601: 'Whip It', 2602: 'Knockaround Guys', 2603: 'Confidence', 2604: 'The Muse', 2605: 'De-Lovely', 2606: 'New York Stories', 2607: \"Barney's Great Adventure\", 2608: 'The Man with the Iron Fists', 2609: 'Home Fries', 2610: 'Here On Earth', 2611: 'Brazil', 2612: 'Raise Your Voice', 2613: 'The Big Lebowski', 2614: 'Black Snake Moan', 2615: 'Dark Blue', 2616: 'A Mighty Heart', 2617: 'Whatever It Takes', 2618: 'Boat Trip', 2619: 'The Importance of Being Earnest', 2620: 'The Love Letter', 2621: 'Hoot', 2622: 'In Bruges', 2623: 'Peeples', 2624: 'The Rocker', 2625: 'Post Grad', 2626: 'Promised Land', 2627: 'Whatever Works', 2628: 'The In Crowd', 2629: 'The Three Burials of Melquiades Estrada', 2630: 'Jakob the Liar', 2631: 'Kiss Kiss Bang Bang', 2632: 'Idle Hands', 2633: 'Mulholland Drive', 2634: 'Blood and Chocolate', 2635: 'You Will Meet a Tall Dark Stranger', 2636: 'Never Let Me Go', 2637: 'The Company', 2638: 'Transsiberian', 2639: 'The Clan of the Cave Bear', 2640: 'Crazy in Alabama', 2641: 'Funny Games', 2642: 'Listening', 2643: \"Felicia's Journey\", 2644: 'Metropolis', 2645: 'District B13', 2646: \"Things to Do in Denver When You're Dead\", 2647: 'The Assassin', 2648: 'Buffalo Soldiers', 2649: 'The Return', 2650: 'Ong Bak 2', 2651: 'Centurion', 2652: 'Silent Trigger', 2653: 'The Midnight Meat Train', 2654: 'Winnie Mandela', 2655: 'The Son of No One', 2656: \"All The Queen's Men\", 2657: 'The Good Night', 2658: 'Bathory: Countess of Blood', 2659: 'Khumba', 2660: 'Automata', 2661: 'Dungeons & Dragons: Wrath of the Dragon God', 2663: 'Shinjuku Incident', 2664: 'Pandaemonium', 2665: 'Groundhog Day', 2666: 'Magic Mike XXL', 2667: 'Romeo + Juliet', 2668: \"Sarah's Key\", 2669: 'Freedom', 2670: 'Unforgiven', 2671: 'Manderlay', 2672: 'Slumdog Millionaire', 2673: 'Fatal Attraction', 2674: 'Pretty Woman', 2675: 'Crocodile Dundee II', 2676: 'Broken Horses', 2677: 'Born on the Fourth of July', 2678: 'Cool Runnings', 2679: 'My Bloody Valentine', 2680: 'Stomp the Yard', 2681: 'The Spy Who Loved Me', 2682: 'Urban Legend', 2683: 'Good Deeds', 2684: 'White Fang', 2685: 'Superstar', 2686: 'The Iron Lady', 2687: 'Jonah: A VeggieTales Movie', 2688: 'Poetic Justice', 2689: 'All About the Benjamins', 2690: 'Vampire in Brooklyn', 2691: 'Exorcist II: The Heretic', 2692: 'An American Haunting', 2693: \"My Boss's Daughter\", 2694: 'A Perfect Getaway', 2695: 'Our Family Wedding', 2696: 'Dead Man on Campus', 2697: 'Tea with Mussolini', 2698: 'Thinner', 2699: 'New York, New York', 2700: 'Crooklyn', 2701: 'I Think I Love My Wife', 2702: 'Jason X', 2703: 'Bobby', 2704: 'Head Over Heels', 2705: 'Fun Size', 2706: 'The Diving Bell and the Butterfly', 2707: 'Little Children', 2708: 'Gossip', 2709: 'A Walk on the Moon', 2710: 'Catch a Fire', 2711: 'Soul Survivors', 2712: 'Jefferson in Paris', 2713: 'Easy Virtue', 2714: 'Caravans', 2715: 'Mr. Turner', 2716: 'Wild Grass', 2717: 'Amen.', 2718: 'Reign of Assassins', 2719: 'The Lucky Ones', 2720: 'Margaret', 2721: 'Stan Helsing', 2722: 'Flipped', 2723: 'Brokeback Mountain', 2724: 'Clueless', 2725: 'Far from Heaven', 2726: 'Hot Tub Time Machine 2', 2727: 'Quills', 2728: 'Seven Psychopaths', 2729: \"The Caveman's Valentine\", 2730: 'Downfall', 2731: 'The Sea Inside', 2732: 'Under the Skin', 2733: 'Good Morning, Vietnam', 2734: 'The Last Godfather', 2735: 'Justin Bieber: Never Say Never', 2736: 'Black Swan', 2737: 'The Godfather: Part II', 2738: 'Save the Last Dance', 2739: 'A Nightmare on Elm Street 4: The Dream Master', 2740: 'Miracles from Heaven', 2741: 'Dude, Where’s My Car?', 2742: 'Young Guns', 2743: 'St. Vincent', 2744: 'About Last Night', 2745: '10 Things I Hate About You', 2746: 'The New Guy', 2747: \"National Lampoon's Loaded Weapon 1\", 2748: 'The Shallows', 2749: 'The Butterfly Effect', 2750: 'Snow Day', 2751: 'This Christmas', 2752: 'Baby Geniuses', 2753: 'The Big Hit', 2754: 'Harriet the Spy', 2755: \"Child's Play 2\", 2756: 'No Good Deed', 2757: 'The Mist', 2758: 'Ex Machina', 2759: 'Being John Malkovich', 2760: 'Two Can Play That Game', 2761: 'Earth to Echo', 2762: 'Crazy/Beautiful', 2763: 'Letters from Iwo Jima', 2764: 'The Astronaut Farmer', 2765: 'Woo', 2766: 'Room', 2767: 'Dirty Work', 2768: 'Serial Mom', 2769: 'Dick', 2770: 'Light It Up', 2771: '54', 2772: 'Bubble Boy', 2773: 'Birthday Girl', 2774: '21 & Over', 2775: \"Paris, je t'aime\", 2776: 'Resurrecting the Champ', 2777: 'Admission', 2778: 'The Widow of Saint-Pierre', 2779: 'Chloe', 2780: 'Faithful', 2781: 'Find Me Guilty', 2782: 'The Perks of Being a Wallflower', 2783: 'Excessive Force', 2784: 'Infamous', 2785: 'The Claim', 2786: 'The Vatican Tapes', 2787: 'Attack the Block', 2788: 'In the Land of Blood and Honey', 2789: 'The Call', 2790: 'Operation Chromite', 2791: 'The Crocodile Hunter: Collision Course', 2792: 'I Love You Phillip Morris', 2793: 'Quest for Fire', 2794: 'Antwone Fisher', 2795: \"The Emperor's Club\", 2796: 'True Romance', 2797: 'Womb', 2798: 'Glengarry Glen Ross', 2799: 'The Killer Inside Me', 2800: 'Cat People', 2801: 'Sorority Row', 2802: 'The Prisoner of Zenda', 2803: 'Lars and the Real Girl', 2804: 'The Boy in the Striped Pyjamas', 2805: 'Dancer in the Dark', 2806: 'Oscar and Lucinda', 2807: 'The Funeral', 2808: 'Solitary Man', 2809: 'Machete', 2810: 'Casino Jack', 2811: 'The Land Before Time', 2812: 'Tae Guk Gi: The Brotherhood of War', 2813: 'The Perfect Game', 2814: 'The Exorcist', 2815: 'Jaws', 2816: 'American Pie', 2817: 'Ernest & Celestine', 2818: 'The Golden Child', 2819: 'Think Like a Man', 2820: 'Barbershop', 2821: 'Star Trek II: The Wrath of Khan', 2822: 'Ace Ventura: Pet Detective', 2823: 'WarGames', 2824: 'Witness', 2825: 'Act of Valor', 2826: 'Step Up', 2827: 'Beavis and Butt-Head Do America', 2828: 'Jackie Brown', 2829: 'Harold & Kumar Escape from Guantanamo Bay', 2830: 'Chronicle', 2831: 'Yentl', 2832: 'Time Bandits', 2833: 'Crossroads', 2834: 'Project X', 2835: 'Patton', 2836: 'One Hour Photo', 2837: 'Quarantine', 2838: 'The Eye', 2839: 'Johnson Family Vacation', 2840: 'How High', 2841: 'The Muppet Christmas Carol', 2842: 'Frida', 2843: 'Katy Perry: Part of Me', 2844: 'The Fault in Our Stars', 2845: 'Rounders', 2846: 'Top Five', 2847: 'Prophecy', 2848: 'Stir of Echoes', 2849: 'Philomena', 2850: 'The Upside of Anger', 2851: 'The Boys from Brazil', 2852: 'Aquamarine', 2853: 'Paper Towns', 2854: \"My Baby's Daddy\", 2855: 'Nebraska', 2856: 'Tales from the Crypt: Demon Knight', 2857: \"Max Keeble's Big Move\", 2858: 'Young Adult', 2859: 'Crank', 2860: \"Def Jam's How to Be a Player\", 2861: 'Living Out Loud', 2862: 'Just Wright', 2863: 'Rachel Getting Married', 2864: 'The Postman Always Rings Twice', 2865: 'Girl with a Pearl Earring', 2866: 'Das Boot', 2867: 'Sorority Boys', 2868: 'About Time', 2869: 'House of Flying Daggers', 2870: 'Arbitrage', 2871: 'Project Almanac', 2872: 'Cadillac Records', 2873: 'Screwed', 2874: 'Fortress', 2875: 'For Your Consideration', 2876: 'Celebrity', 2877: 'Running with Scissors', 2878: 'From Justin to Kelly', 2879: 'Girl 6', 2880: 'In the Cut', 2881: 'Two Lovers', 2882: 'Last Orders', 2883: 'The Pursuit of D.B. Cooper', 2884: 'Ravenous', 2885: 'Charlie Bartlett', 2886: 'The Great Beauty', 2887: 'The Dangerous Lives of Altar Boys', 2888: 'Stoker', 2889: '2046', 2890: 'Married Life', 2891: 'Duma', 2892: 'Ondine', 2893: 'Brother', 2894: 'Welcome to Collinwood', 2895: 'Critical Care', 2896: 'The Life Before Her Eyes', 2897: 'Darling Companion', 2898: 'Trade', 2899: 'Fateless', 2900: 'Breakfast of Champions', 2901: 'A Woman, a Gun and a Noodle Shop', 2902: 'Cypher', 2903: 'City of Life and Death', 2904: 'Legend of a Rabbit', 2905: 'Space Battleship Yamato', 2906: '5 Days of War', 2907: 'Triangle', 2908: '10 Days in a Madhouse', 2909: 'Heaven is for Real', 2910: 'Snatch', 2911: \"Dancin' It's On\", 2912: 'Pet Sematary', 2913: 'Madadayo', 2914: 'The Cry of the Owl', 2915: 'A Tale of Three Cities', 2916: 'Gremlins', 2917: 'Star Wars', 2918: 'Dirty Grandpa', 2919: 'Doctor Zhivago', 2920: 'Trash', 2921: 'High School Musical 3: Senior Year', 2922: 'The Fighter', 2923: 'Jackass Number Two', 2924: 'My Cousin Vinny', 2925: 'If I Stay', 2926: 'Drive Hard', 2927: 'Major League', 2928: \"St. Trinian's\", 2929: 'Phone Booth', 2930: 'A Walk to Remember', 2931: 'Dead Man Walking', 2932: 'Cruel Intentions', 2933: 'Saw VI', 2934: 'History of the World: Part I', 2935: 'The Secret Life of Bees', 2936: 'Corky Romano', 2937: 'Raising Cain', 2938: 'F.I.S.T.', 2939: 'Invaders from Mars', 2940: 'Brooklyn', 2941: 'Barry Lyndon', 2942: 'Out Cold', 2943: 'The Ladies Man', 2944: 'Quartet', 2945: 'Tomcats', 2946: 'Frailty', 2947: 'Woman in Gold', 2948: 'Kinsey', 2949: 'Army of Darkness', 2950: 'Slackers', 2951: \"What's Eating Gilbert Grape\", 2952: 'The Visual Bible: The Gospel of John', 2953: 'Vera Drake', 2954: 'The Guru', 2955: 'The Perez Family', 2956: 'Inside Llewyn Davis', 2957: 'O', 2958: 'Return to the Blue Lagoon', 2959: 'The Molly Maguires', 2960: 'Romance & Cigarettes', 2961: 'Copying Beethoven', 2962: 'Brighton Rock', 2963: 'Saw V', 2964: 'Machine Gun McCain', 2965: 'LOL', 2966: 'Jindabyne', 2967: 'Kabhi Alvida Naa Kehna', 2968: 'An Ideal Husband', 2969: 'The Last Days on Mars', 2970: 'Darkness', 2971: '2001: A Space Odyssey', 2972: 'E.T. the Extra-Terrestrial', 2973: 'In the Land of Women', 2974: 'The Blue Butterfly', 2975: 'There Goes My Baby', 2976: 'Housefull', 2977: 'September Dawn', 2978: 'For Greater Glory - The True Story of Cristiada', 2979: 'The Bélier Family', 2980: 'Good Will Hunting', 2981: 'Misconduct', 2982: 'Saw III', 2983: 'Stripes', 2984: 'Bring It On', 2985: 'The Purge: Election Year', 2986: \"She's All That\", 2987: 'Saw IV', 2988: 'White Noise', 2989: \"Madea's Family Reunion\", 2990: 'The Color of Money', 2991: 'The Longest Day', 2992: 'The Mighty Ducks', 2993: 'The Grudge', 2994: 'Happy Gilmore', 2995: 'Jeepers Creepers', 2996: \"Bill & Ted's Excellent Adventure\", 2997: 'Oliver!', 2998: 'The Best Exotic Marigold Hotel', 2999: \"Recess: School's Out\", 3000: 'Mad Max Beyond Thunderdome', 3001: 'Commando', 3002: 'The Boy', 3003: 'Devil', 3004: 'Friday After Next', 3005: 'Insidious: Chapter 3', 3006: 'The Last Dragon', 3007: 'The Lawnmower Man', 3008: \"Nick and Norah's Infinite Playlist\", 3009: 'Dogma', 3010: 'The Banger Sisters', 3011: 'Twilight Zone: The Movie', 3012: 'Road House', 3013: 'A Low Down Dirty Shame', 3014: 'Swimfan', 3015: 'Employee of the Month', 3016: \"Can't Hardly Wait\", 3017: 'The Outsiders', 3018: \"Pete's Dragon\", 3019: 'The Dead Zone', 3020: 'Sinister 2', 3021: 'Sparkle', 3022: 'Valentine', 3023: 'The Fourth Kind', 3024: 'A Prairie Home Companion', 3025: 'Sugar Hill', 3026: 'Invasion U.S.A.', 3027: 'Roll Bounce', 3028: 'Rushmore', 3029: 'Skyline', 3030: 'The Second Best Exotic Marigold Hotel', 3031: 'Kit Kittredge: An American Girl', 3032: 'The Perfect Man', 3033: \"Mo' Better Blues\", 3034: 'Kung Pow: Enter the Fist', 3035: 'Tremors', 3036: 'Wrong Turn', 3037: 'The Long Riders', 3038: 'The Corruptor', 3039: 'Mud', 3040: 'Reno 911!: Miami', 3041: 'One Direction: This Is Us', 3042: 'The Goods: Live Hard, Sell Hard', 3043: 'Hey Arnold! The Movie', 3044: 'My Week with Marilyn', 3045: 'The Matador', 3046: 'Love Jones', 3047: 'The Gift', 3048: 'End of the Spear', 3049: 'Get Over It', 3050: 'Office Space', 3051: 'Drop Dead Gorgeous', 3052: 'Big Eyes', 3053: 'Very Bad Things', 3054: 'Sleepover', 3055: 'Body Double', 3056: 'MacGruber', 3057: 'Dirty Pretty Things', 3058: 'Movie 43', 3059: 'Over Her Dead Body', 3060: 'Seeking a Friend for the End of the World', 3061: 'Cedar Rapids', 3062: 'American History X', 3063: 'The Collection', 3064: \"Teacher's Pet\", 3065: 'The Red Violin', 3066: 'The Straight Story', 3067: 'Deuces Wild', 3068: 'Bad Words', 3069: 'Run, Fatboy, Run', 3070: 'Heartbeeps', 3071: 'Black or White', 3072: 'On the Line', 3073: 'Rescue Dawn', 3074: 'Danny Collins', 3075: 'Jeff, Who Lives at Home', 3076: 'I Am Love', 3077: 'Atlas Shrugged Part II', 3078: 'Romeo Is Bleeding', 3079: 'The Limey', 3080: 'Crash', 3081: 'The House of Mirth', 3082: 'Malone', 3083: 'Peaceful Warrior', 3084: 'Bucky Larson: Born to Be a Star', 3085: 'Bamboozled', 3086: 'The Forest', 3087: 'Sphinx', 3088: \"While We're Young\", 3089: 'A Better Life', 3090: 'Spider', 3091: 'Gun Shy', 3092: 'Nicholas Nickleby', 3093: 'The Iceman', 3094: 'Krrish', 3095: 'Cecil B. Demented', 3096: 'Killer Joe', 3097: 'The Joneses', 3098: 'Owning Mahowny', 3099: 'The Brothers Solomon', 3100: 'My Blueberry Nights', 3101: 'Illuminata', 3102: 'Swept Away', 3103: 'War, Inc.', 3104: 'Shaolin Soccer', 3105: 'The Brown Bunny', 3106: 'The Swindle', 3107: 'Rosewater', 3108: 'The Chambermaid on the Titanic', 3109: 'Coriolanus', 3110: 'Imaginary Heroes', 3111: 'High Heels and Low Lifes', 3112: \"World's Greatest Dad\", 3113: 'Severance', 3114: 'Edmond', 3115: 'Welcome to the Rileys', 3116: 'Police Academy: Mission to Moscow', 3117: 'Blood Done Sign My Name', 3118: 'Cinco de Mayo: La Batalla', 3119: 'Elsa & Fred', 3120: 'An Alan Smithee Film: Burn, Hollywood, Burn', 3121: 'The Open Road', 3122: 'The Good Guy', 3123: 'Motherhood', 3124: 'Free Style', 3125: 'Strangerland', 3126: 'Janky Promoters', 3127: 'Blonde Ambition', 3128: 'The Oxford Murders', 3129: 'The Reef', 3130: 'Eulogy', 3131: 'White Noise 2: The Light', 3132: 'Beat the World', 3133: 'Fifty Dead Men Walking', 3134: 'Jungle Shuffle', 3135: 'Adam Resurrected', 3136: 'Of Horses and Men', 3137: \"It's a Wonderful Afterlife\", 3138: \"The Devil's Tomb\", 3139: 'Partition', 3140: 'Good Intentions', 3141: 'The Good, The Bad, The Weird', 3142: 'Nurse 3-D', 3143: 'Gunless', 3144: 'Adventureland', 3145: 'The Lost City', 3146: 'Next Friday', 3147: 'American Heist', 3148: 'You Only Live Twice', 3149: 'Plastic', 3150: 'Amour', 3151: 'Poltergeist III', 3152: 'Re-Kill', 3153: \"It's a Mad, Mad, Mad, Mad World\", 3154: 'Volver', 3155: 'Heavy Metal', 3156: 'Gentlemen Broncos', 3157: 'Richard III', 3158: 'Into the Grizzly Maze', 3159: 'Kites', 3160: 'Melancholia', 3161: 'Red Dog', 3162: 'Jab Tak Hai Jaan', 3163: 'Alien', 3164: 'The Texas Chain Saw Massacre', 3165: 'The Runaways', 3166: 'Fiddler on the Roof', 3167: 'Thunderball', 3168: 'Detention', 3169: 'Loose Cannons', 3170: 'Set It Off', 3171: 'The Best Man', 3172: \"Child's Play\", 3173: 'Sicko', 3174: 'The Purge: Anarchy', 3175: 'Down to You', 3176: 'Harold & Kumar Go to White Castle', 3177: 'The Contender', 3178: 'Boiler Room', 3179: 'Trading Places', 3180: 'Black Christmas', 3181: \"Breakin' All the Rules\", 3182: 'Henry V', 3183: 'The Savages', 3184: 'Chasing Papi', 3185: 'The Way of the Gun', 3186: 'Igby Goes Down', 3187: 'PCU', 3188: 'The Ultimate Gift', 3189: 'The Ice Pirates', 3190: 'Gracie', 3191: 'Trust the Man', 3192: 'Hamlet 2', 3193: 'Velvet Goldmine', 3194: 'The Wailing', 3195: 'Glee: The Concert Movie', 3196: 'The Legend of Suriyothai', 3197: 'Two Evil Eyes', 3198: 'Barbecue', 3199: 'All or Nothing', 3200: 'Princess Kaiulani', 3201: 'Opal Dream', 3202: 'Flame & Citron', 3203: 'Undiscovered', 3204: 'Red Riding: In the Year of Our Lord 1974', 3205: 'The Girl on the Train', 3206: 'Veronika Decides to Die', 3207: 'Crocodile Dundee', 3208: 'Ultramarines: A Warhammer 40,000 Movie', 3209: 'The I Inside', 3210: 'Beneath Hill 60', 3211: 'Polisse', 3212: 'Awake', 3213: 'Star Wars: Clone Wars: Volume 1', 3214: 'Skin Trade', 3215: 'The Lost Boys', 3216: 'Crazy Heart', 3217: 'The Rose', 3218: 'Baggage Claim', 3219: 'Barbarella', 3220: 'Shipwrecked', 3221: 'Election', 3222: 'The Namesake', 3223: 'The DUFF', 3224: 'Glitter', 3225: 'The Haunting in Connecticut 2: Ghosts of Georgia', 3226: 'Silmido', 3227: 'Bright Star', 3228: 'My Name Is Khan', 3229: 'All Is Lost', 3230: 'Limbo', 3231: 'Namastey London', 3232: 'The Wind That Shakes the Barley', 3233: 'Yeh Jawaani Hai Deewani', 3234: 'Quo Vadis', 3235: 'Repo! The Genetic Opera', 3236: 'Valley of the Wolves: Iraq', 3237: 'Pulp Fiction', 3238: 'The Muppet Movie', 3239: 'Nightcrawler', 3240: 'Club Dread', 3241: 'The Sound of Music', 3242: 'Splash', 3243: 'Little Miss Sunshine', 3244: 'Stand by Me', 3245: '28 Days Later', 3246: 'You Got Served', 3247: 'Escape from Alcatraz', 3248: 'Brown Sugar', 3249: 'A Thin Line Between Love and Hate', 3250: '50/50', 3251: 'Shutter', 3252: 'That Awkward Moment', 3253: 'Modern Problems', 3254: 'Kicks', 3255: 'Much Ado About Nothing', 3256: \"On Her Majesty's Secret Service\", 3257: 'New Nightmare', 3258: 'Drive Me Crazy', 3259: 'Akeelah and the Bee', 3260: 'Half Baked', 3261: 'New in Town', 3262: 'American Psycho', 3263: 'The Good Girl', 3264: 'Bon Cop Bad Cop', 3265: 'The Boondock Saints II: All Saints Day', 3266: 'The City of Your Final Destination', 3267: 'Enough Said', 3268: 'Easy A', 3269: 'The Inkwell', 3270: 'Shadow of the Vampire', 3271: 'Prom', 3272: 'The Pallbearer', 3273: 'Held Up', 3274: 'Woman on Top', 3275: 'Howards End', 3276: 'Anomalisa', 3277: 'Another Year', 3278: '8 Women', 3279: 'Showdown in Little Tokyo', 3280: 'Clay Pigeons', 3281: \"It's Kind of a Funny Story\", 3282: 'Made in Dagenham', 3283: 'When Did You Last See Your Father?', 3284: 'Prefontaine', 3285: 'The Wicked Lady', 3286: 'The Secret of Kells', 3287: 'Begin Again', 3288: 'Down in the Valley', 3289: 'Brooklyn Rules', 3290: 'Restless', 3291: 'The Singing Detective', 3292: 'The Land Girls', 3293: 'Fido', 3294: 'The Wendell Baker Story', 3295: 'Wild Target', 3296: 'Pathology', 3297: 'Wuthering Heights', 3298: '10th & Wolf', 3299: 'Dear Wendy', 3300: 'Aloft', 3301: 'Akira', 3302: 'The Death and Life of Bobby Z', 3303: 'The Rocket: The Legend of Rocket Richard', 3304: 'Swelter', 3305: 'My Lucky Star', 3306: 'Imagine Me & You', 3307: 'Mr. Church', 3308: 'Swimming Pool', 3309: 'Green Street Hooligans: Underground', 3310: 'The Blood of Heroes', 3311: 'Code of Honor', 3312: 'Driving Miss Daisy', 3313: 'Soul Food', 3314: 'Rumble in the Bronx', 3315: 'Far from Men', 3316: 'Thank You for Smoking', 3317: 'Hostel: Part II', 3318: 'An Education', 3319: 'Shopgirl', 3320: 'The Hotel New Hampshire', 3321: 'Narc', 3322: 'Men with Brooms', 3323: 'Witless Protection', 3324: 'The Work and the Glory', 3325: 'Extract', 3326: 'Masked and Anonymous', 3327: 'Betty Fisher and Other Stories', 3328: 'Code 46', 3329: 'Outside Bet', 3330: 'Albert Nobbs', 3331: 'Black November', 3332: 'Ta Ra Rum Pum', 3333: 'Persepolis', 3334: 'The Hole', 3335: 'The Wave', 3336: 'The Neon Demon', 3337: 'Harry Brown', 3338: 'The Omega Code', 3339: 'Juno', 3340: 'Pound of Flesh', 3341: 'Diamonds Are Forever', 3342: 'The Godfather', 3343: 'Flashdance', 3344: '(500) Days of Summer', 3345: 'The Piano', 3346: 'Magic Mike', 3347: 'Darkness Falls', 3348: 'Live and Let Die', 3349: 'My Dog Skip', 3350: 'Definitely, Maybe', 3351: 'Jumping the Broom', 3352: 'Good Night, and Good Luck.', 3353: 'Capote', 3354: 'Desperado', 3355: \"Logan's Run\", 3356: 'The Man with the Golden Gun', 3357: 'Action Jackson', 3358: 'The Descent', 3359: 'Michael Jordan to the Max', 3360: \"Devil's Due\", 3361: 'Flirting with Disaster', 3362: \"The Devil's Rejects\", 3363: 'Dope', 3364: 'In Too Deep', 3365: 'House of 1000 Corpses', 3366: 'Alien Zone', 3367: 'A Serious Man', 3368: 'Get Low', 3369: 'Warlock', 3370: 'Beyond the Lights', 3371: 'A Single Man', 3372: 'The Last Temptation of Christ', 3373: 'Outside Providence', 3374: 'Bride & Prejudice', 3375: 'Rabbit-Proof Fence', 3376: \"Who's Your Caddy?\", 3377: 'Split Second', 3378: 'The Other Side of Heaven', 3379: 'Veer-Zaara', 3380: 'Redbelt', 3381: 'Cyrus', 3382: 'A Dog Of Flanders', 3383: 'Auto Focus', 3384: 'Factory Girl', 3385: 'We Need to Talk About Kevin', 3386: 'The Christmas Candle', 3387: 'The Mighty Macs', 3388: \"Losin' It\", 3389: 'Mother and Child', 3390: 'March or Die', 3391: 'The Visitors', 3392: 'Somewhere', 3393: 'I Hope They Serve Beer in Hell', 3394: 'Chairman of the Board', 3395: 'Hesher', 3396: 'Dom Hemingway', 3397: 'Gerry', 3398: 'The Heart of Me', 3399: 'Freeheld', 3400: 'The Extra Man', 3401: 'Hard to Be a God', 3402: 'Ca$h', 3403: 'Wah-Wah', 3404: 'The Boondock Saints', 3405: 'Z Storm', 3406: 'Twixt', 3407: 'The Snow Queen', 3408: 'Alpha and Omega: The Legend of the Saw Tooth Cave', 3409: 'Pale Rider', 3410: 'Stargate: The Ark of Truth', 3411: 'Dazed and Confused', 3412: 'High School Musical 2', 3413: 'Two Lovers and a Bear', 3414: 'Criminal Activities', 3415: 'Aimee & Jaguar', 3416: 'The Chumscrubber', 3417: 'Shade', 3418: 'House at the End of the Street', 3419: 'Incendies', 3420: 'Remember Me, My Love', 3421: 'Perrier’s Bounty', 3422: 'Elite Squad', 3423: 'Annabelle', 3424: 'Bran Nue Dae', 3425: 'Boyz n the Hood', 3426: 'La Bamba', 3427: 'The Four Seasons', 3428: 'Dressed to Kill', 3429: 'The Adventures of Huck Finn', 3430: 'Go', 3431: 'Friends with Money', 3432: 'The Andromeda Strain', 3433: 'Bats', 3434: 'Nowhere in Africa', 3435: 'Shame', 3436: 'Layer Cake', 3437: 'The Work and the Glory II: American Zion', 3438: 'The East', 3439: 'A Home at the End of the World', 3440: 'Aberdeen', 3441: 'The Messenger', 3442: 'Tracker', 3443: 'Control', 3444: 'The Terminator', 3445: 'Good bye, Lenin!', 3446: 'The Damned United', 3447: 'The Return of the Living Dead', 3448: 'Mallrats', 3449: 'Grease', 3450: 'Platoon', 3451: 'Fahrenheit 9/11', 3452: 'Butch Cassidy and the Sundance Kid', 3453: 'Mary Poppins', 3454: 'Ordinary People', 3455: 'West Side Story', 3456: 'Caddyshack', 3457: 'The Brothers', 3458: 'The Wood', 3459: 'The Usual Suspects', 3460: 'A Nightmare on Elm Street 5: The Dream Child', 3461: 'National Lampoon’s Van Wilder', 3462: 'The Wrestler', 3463: 'Duel in the Sun', 3464: 'Best in Show', 3465: 'Escape from New York', 3466: 'School Daze', 3467: 'Daddy Day Camp', 3468: 'Mr. Nice Guy', 3469: 'A Mighty Wind', 3470: 'Mystic Pizza', 3471: 'Sliding Doors', 3472: 'Tales from the Hood', 3473: 'The Last King of Scotland', 3474: 'Halloween 5: The Revenge of Michael Myers', 3475: 'Bernie', 3476: 'Dolphins and Whales: Tribes of the Ocean', 3477: 'Pollock', 3478: '200 Cigarettes', 3479: 'The Words', 3480: 'Casa De Mi Padre', 3481: 'City Island', 3482: 'The Guard', 3483: 'College', 3484: 'The Virgin Suicides', 3485: 'Little Voice', 3486: 'Miss March', 3487: 'Wish I Was Here', 3488: 'Simply Irresistible', 3489: 'Hedwig and the Angry Inch', 3490: 'Only the Strong', 3491: 'Goddess of Love', 3492: 'Shattered Glass', 3493: 'Novocaine', 3494: 'The Business of Strangers', 3495: 'The Wild Bunch', 3496: 'The Wackness', 3497: 'The First Great Train Robbery', 3498: 'Morvern Callar', 3499: 'Beastmaster 2: Through the Portal of Time', 3500: 'The 5th Quarter', 3501: 'The Flower of Evil', 3502: 'The Greatest', 3503: 'Snow Flower and the Secret Fan', 3504: 'Come Early Morning', 3505: 'Lucky Break', 3506: 'Julia', 3507: 'Surfer, Dude', 3508: 'Lake of Fire', 3509: '11:14', 3510: 'Men of War', 3511: 'Don McKay', 3512: 'Deadfall', 3513: 'A Shine of Rainbows', 3514: 'The Hit List', 3515: 'Emma', 3516: 'Videodrome', 3517: 'The Spanish Apartment', 3518: 'Song One', 3519: 'Winter in Wartime', 3520: 'Freaky Deaky', 3521: 'The Train', 3522: 'Trade Of Innocents', 3523: 'The Protector', 3524: 'Stiff Upper Lips', 3525: 'Bend It Like Beckham', 3526: 'Sunshine State', 3527: 'Crossover', 3528: 'Khiladi 786', 3529: '[REC]²', 3530: 'Standing Ovation', 3531: 'The Sting', 3532: 'Chariots of Fire', 3533: 'Diary of a Mad Black Woman', 3534: 'Shine', 3535: 'Don Jon', 3536: 'High Plains Drifter', 3537: 'Ghost World', 3538: 'Iris', 3539: 'Galaxina', 3540: 'The Chorus', 3541: 'Mambo Italiano', 3542: 'Wonderland', 3543: 'Do the Right Thing', 3544: 'Harvard Man', 3545: 'Le Havre', 3546: 'Irreversible', 3547: 'R100', 3548: 'Rang De Basanti', 3549: 'Animals', 3550: 'Salvation Boulevard', 3551: 'The Ten', 3552: 'A Room for Romeo Brass', 3553: 'Headhunters', 3554: 'Grabbers', 3555: 'Saint Ralph', 3556: 'Miss Julie', 3557: 'Somewhere in Time', 3558: 'Dum Maaro Dum', 3559: 'Insidious: Chapter 2', 3560: 'Saw II', 3561: '10 Cloverfield Lane', 3562: 'Jackass: The Movie', 3563: 'Lights Out', 3564: 'Paranormal Activity 3', 3565: 'Ouija', 3566: 'A Nightmare on Elm Street 3: Dream Warriors', 3567: 'Instructions Not Included', 3568: 'Paranormal Activity 4', 3569: 'The Robe', 3570: 'The Return of the Pink Panther', 3571: \"Freddy's Dead: The Final Nightmare\", 3572: 'Monster', 3573: '20,000 Leagues Under the Sea', 3574: 'Paranormal Activity: The Marked Ones', 3575: 'The Elephant Man', 3576: 'Dallas Buyers Club', 3577: 'The Lazarus Effect', 3578: 'Memento', 3579: 'Oculus', 3580: 'Clerks II', 3581: 'Billy Elliot', 3582: 'The Way Way Back', 3583: 'House Party 2', 3584: 'The Man from Snowy River', 3585: \"Doug's 1st Movie\", 3586: 'The Apostle', 3587: 'Mommie Dearest', 3588: 'Our Idiot Brother', 3589: 'Race', 3590: 'The Players Club', 3591: 'As Above, So Below', 3592: 'Addicted', 3593: \"Eve's Bayou\", 3594: 'Still Alice', 3595: 'The Egyptian', 3596: 'Nighthawks', 3597: 'Friday the 13th Part VIII: Jason Takes Manhattan', 3598: 'My Big Fat Greek Wedding', 3599: 'Spring Breakers', 3600: 'Halloween: The Curse of Michael Myers', 3601: 'Y Tu Mamá También', 3602: 'Shaun of the Dead', 3603: 'The Haunting of Molly Hartley', 3604: 'Lone Star', 3605: 'Halloween 4: The Return of Michael Myers', 3606: \"April Fool's Day\", 3607: 'Diner', 3608: 'Lone Wolf McQuade', 3609: 'Apollo 18', 3610: 'Sunshine Cleaning', 3611: 'No Escape', 3612: 'The Beastmaster', 3613: 'Solomon and Sheba', 3614: 'Fifty Shades of Black', 3615: 'Not Easily Broken', 3616: 'A Farewell to Arms', 3617: 'The Perfect Match', 3618: 'Digimon: The Movie', 3619: 'Saved!', 3620: 'The Barbarian Invasions', 3621: 'Robin and Marian', 3622: 'The Forsaken', 3623: 'Force 10 from Navarone', 3624: 'UHF', 3625: \"Grandma's Boy\", 3626: 'Slums of Beverly Hills', 3627: 'Once Upon a Time in the West', 3628: 'Made', 3629: 'Moon', 3630: 'Keeping Up with the Steins', 3631: 'Sea Rex 3D: Journey to a Prehistoric World', 3632: 'The Sweet Hereafter', 3633: 'Of Gods and Men', 3634: 'Bottle Shock', 3635: 'Jekyll and Hyde ... Together Again', 3636: 'Heavenly Creatures', 3637: '90 Minutes in Heaven', 3638: 'Everything Must Go', 3639: 'Zero Effect', 3640: 'The Machinist', 3641: 'Light Sleeper', 3642: 'Kill the Messenger', 3643: 'Rabbit Hole', 3644: 'Party Monster', 3645: 'Green Room', 3646: 'The Oh in Ohio', 3647: 'Atlas Shrugged Part III: Who is John Galt?', 3648: 'Bottle Rocket', 3649: 'Albino Alligator', 3650: 'Gandhi, My Father', 3651: 'Standard Operating Procedure', 3652: 'Out of the Blue', 3653: 'Out of the Blue', 3654: 'Out of the Blue', 3655: 'Out of the Blue', 3656: 'Tucker and Dale vs Evil', 3657: 'Lovely, Still', 3658: 'Tycoon', 3659: 'Desert Blue', 3660: 'Decoys', 3661: 'The Visit', 3662: 'Redacted', 3663: 'Fascination', 3664: 'Area 51', 3665: 'Sleep Tight', 3666: 'The Cottage', 3667: 'Dead Like Me: Life After Death', 3668: 'Farce of the Penguins', 3669: 'Flying By', 3670: 'Rudderless', 3671: 'Henry & Me', 3672: 'Christmas Eve', 3673: 'We Have Your Husband', 3674: 'Dying of the Light', 3675: 'Born Of War', 3676: 'Capricorn One', 3677: \"Should've Been Romeo\", 3678: 'Running Forever', 3679: 'Yoga Hosers', 3680: 'Navy Seals vs. Zombies', 3681: 'I Served the King of England', 3682: 'Soul Kitchen', 3683: 'Sling Blade', 3684: 'The Awakening', 3685: 'Hostel', 3686: 'A Cock and Bull Story', 3687: 'Take Shelter', 3688: 'Lady in White', 3689: 'Driving Lessons', 3690: \"Let's Kill Ward's Wife\", 3691: 'The Texas Chainsaw Massacre 2', 3692: 'Pat Garrett & Billy the Kid', 3693: 'Only God Forgives', 3694: 'Camping Sauvage', 3695: 'Without Men', 3696: 'Dear Frankie', 3697: 'All Hat', 3698: 'The Names of Love', 3699: 'Treading Water', 3700: 'Savage Grace', 3701: 'Police Academy', 3702: 'The Blue Lagoon', 3703: 'Four Weddings and a Funeral', 3704: 'Fast Times at Ridgemont High', 3705: 'Moby Dick', 3706: '25th Hour', 3707: 'Bound', 3708: 'Requiem for a Dream', 3709: 'State Fair', 3710: 'Tango', 3711: 'Salvador', 3712: \"Moms' Night Out\", 3713: 'Donnie Darko', 3714: 'Saving Private Perez', 3715: 'Character', 3716: 'Spun', 3717: 'Life During Wartime', 3718: 'Sympathy for Lady Vengeance', 3719: \"Mozart's Sister\", 3720: 'Mean Machine', 3721: 'Exiled', 3722: 'Blackthorn', 3723: 'Lilya 4-ever', 3724: 'After.Life', 3725: 'Fugly', 3726: \"One Flew Over the Cuckoo's Nest\", 3727: \"R.L. Stine's Monsterville: The Cabinet of Souls\", 3728: 'Silent Movie', 3729: 'Airlift', 3730: 'Anne of Green Gables', 3731: 'Falcon Rising', 3732: 'The Sweeney', 3733: 'Sexy Beast', 3734: 'Easy Money', 3735: 'Whale Rider', 3736: 'Paa', 3737: 'Cargo', 3738: 'High School Musical', 3739: 'Love and Death on Long Island', 3740: 'Night Watch', 3741: 'The Crying Game', 3742: \"Porky's\", 3743: 'Survival of the Dead', 3744: 'Night of the Living Dead', 3745: 'Lost in Translation', 3746: 'Annie Hall', 3747: 'The Greatest Show on Earth', 3748: \"Monster's Ball\", 3749: 'Maggie', 3750: 'Leaving Las Vegas', 3751: 'Hansel and Gretel Get Baked', 3752: 'The Front Page', 3753: 'The Boy Next Door', 3754: 'Trapeze', 3755: 'The Kids Are All Right', 3756: 'They Live', 3757: 'The Great Escape', 3758: 'What the #$*! Do We (K)now!?', 3759: 'The Last Exorcism Part II', 3760: 'Boyhood', 3761: 'Scoop', 3762: 'The Wash', 3763: '3 Strikes', 3764: 'The Cooler', 3765: 'The Misfits', 3766: 'The Night Listener', 3767: 'The Jerky Boys', 3768: 'The Orphanage', 3769: 'A Haunted House 2', 3770: 'The Rules of Attraction', 3771: 'Topaz', 3772: \"Let's Go to Prison\", 3773: 'Four Rooms', 3774: 'Secretary', 3775: 'The Real Cancun', 3776: 'Talk Radio', 3777: 'Waiting for Guffman', 3778: 'Love Stinks', 3779: 'You Kill Me', 3780: 'Thumbsucker', 3781: 'Red State', 3782: 'Mirrormask', 3783: 'Samsara', 3784: 'The Barbarians', 3785: 'The Art of Getting By', 3786: 'Zipper', 3787: 'Poolhall Junkies', 3788: 'The Loss of Sexual Innocence', 3789: 'Holy Motors', 3790: 'Joe', 3791: 'Shooting Fish', 3792: 'Prison', 3793: 'Psycho Beach Party', 3794: 'The Big Tease', 3795: 'Guten Tag, Ramón', 3796: 'Trust', 3797: 'An Everlasting Piece', 3798: 'Among Giants', 3799: 'Adore', 3800: 'The Velocity of Gary', 3801: 'Mondays in the Sun', 3802: 'Stake Land', 3803: 'The Last Time I Committed Suicide', 3804: 'Futuro Beach', 3805: 'Another Happy Day', 3806: 'A Lonely Place to Die', 3807: 'Nothing', 3808: 'The Geographer Drank His Globe Away', 3809: '1776', 3810: 'Inescapable', 3811: \"Hell's Angels\", 3812: 'Purple Violets', 3813: 'The Veil', 3814: 'The Loved Ones', 3815: 'The Helpers', 3816: 'How to Fall in Love', 3817: 'The Perfect Wave', 3818: 'A Man for All Seasons', 3819: 'Network', 3820: 'Gone with the Wind', 3821: 'Desert Dancer', 3822: 'Major Dundee', 3823: 'Annie Get Your Gun', 3824: 'Four Lions', 3825: 'The House of Sand', 3826: 'Defendor', 3827: 'The Pirate', 3828: 'The Good Heart', 3829: 'The History Boys', 3830: 'Midnight Cowboy', 3831: 'The Full Monty', 3832: 'Airplane!', 3833: 'Chain of Command', 3834: 'Friday', 3835: 'Menace II Society', 3836: 'Creepshow 2', 3837: 'The Ballad of Cable Hogue', 3838: 'In Cold Blood', 3839: \"The Nun's Story\", 3840: 'Harper', 3841: 'Frenzy', 3842: 'The Witch', 3843: 'I Got the Hook Up', 3844: \"She's the One\", 3845: 'Gods and Monsters', 3846: 'The Secret in Their Eyes', 3847: 'Train', 3848: 'Evil Dead II', 3849: 'Pootie Tang', 3850: 'Sharknado', 3851: 'The Other Conquest', 3852: 'Troll Hunter', 3853: 'Ira & Abby', 3854: 'Winter Passing', 3855: 'D.E.B.S.', 3856: 'The Masked Saint', 3857: 'The Betrayed', 3858: 'Taxman', 3859: 'The Secret', 3860: '2:13', 3861: 'Batman: The Dark Knight Returns, Part 2', 3862: 'Time to Choose', 3863: 'In the Name of the King III', 3864: 'Wicked Blood', 3865: 'Stranded', 3866: 'Lords of London', 3867: 'High Anxiety', 3868: 'March of the Penguins', 3869: 'Margin Call', 3870: 'August', 3871: 'Choke', 3872: 'Whiplash', 3873: 'City of God', 3874: 'Human Traffic', 3875: 'To Write Love on Her Arms', 3876: 'The Dead Girl', 3877: 'The Hunt', 3878: 'A Christmas Story', 3879: 'Bella', 3880: 'Class of 1984', 3881: 'The Opposite Sex', 3882: 'Dreaming of Joseph Lees', 3883: 'The Class', 3884: \"Rosemary's Baby\", 3885: 'The Man Who Shot Liberty Valance', 3886: 'Adam', 3887: 'Maria Full of Grace', 3888: 'Beginners', 3889: 'Feast', 3890: 'Animal House', 3891: 'Goldfinger', 3892: 'Antiviral', 3893: \"It's a Wonderful Life\", 3894: 'Trainspotting', 3895: 'The Original Kings of Comedy', 3896: 'Paranormal Activity 2', 3897: 'Waking Ned', 3898: 'Bowling for Columbine', 3899: 'Coming Home', 3900: \"A Nightmare on Elm Street Part 2: Freddy's Revenge\", 3901: 'A Room with a View', 3902: 'The Purge', 3903: 'Sinister', 3904: 'Martin Lawrence Live: Runteldat', 3905: 'Cat on a Hot Tin Roof', 3906: 'Beneath the Planet of the Apes', 3907: 'Air Bud', 3908: 'Pokémon: Spell of the Unknown', 3909: 'Friday the 13th Part VI: Jason Lives', 3910: 'The Bridge on the River Kwai', 3911: 'Spaced Invaders', 3912: 'Family Plot', 3913: 'The Apartment', 3914: 'Jason Goes to Hell: The Final Friday', 3915: 'Torn Curtain', 3916: \"Dave Chappelle's Block Party\", 3917: 'Slow West', 3918: 'Krush Groove', 3919: 'Next Day Air', 3920: 'Elmer Gantry', 3921: 'Judgment at Nuremberg', 3922: \"Trippin'\", 3923: 'Red River', 3924: 'Phat Girlz', 3925: 'Before Midnight', 3926: 'Teen Wolf Too', 3927: 'Phantasm II', 3928: 'Woman Thou Art Loosed', 3929: 'Real Women Have Curves', 3930: 'Water', 3931: 'East Is East', 3932: 'Whipped', 3933: 'Kama Sutra - A Tale of Love', 3934: 'Please Give', 3935: 'Willy Wonka & the Chocolate Factory', 3936: 'Warlock: The Armageddon', 3937: '8 Heads in a Duffel Bag', 3938: 'Days of Heaven', 3939: 'Thirteen Conversations About One Thing', 3940: 'Jawbreaker', 3941: 'Basquiat', 3942: 'Frances Ha', 3943: 'Tsotsi', 3944: 'Happiness', 3945: 'DysFunktional Family', 3946: 'Tusk', 3947: 'Oldboy', 3948: 'Letters to God', 3949: 'Hobo with a Shotgun', 3950: 'Compadres', 3951: 'Freeway', 3952: \"Love's Abiding Joy\", 3953: 'Fish Tank', 3954: 'Damsels in Distress', 3955: 'Creature', 3956: 'Bachelorette', 3957: 'Brave New Girl', 3958: \"Tim and Eric's Billion Dollar Movie\", 3959: 'Summer Storm', 3960: 'Fort McCoy', 3961: 'Chain Letter', 3962: 'Just Looking', 3963: 'The Divide', 3964: 'The Eclipse', 3965: 'Demonic', 3966: 'My Big Fat Independent Movie', 3967: 'The Deported', 3968: 'Tanner Hall', 3969: 'Open Road', 3970: 'They Came Together', 3971: '30 Nights of Paranormal Activity With the Devil Inside the Girl With the Dragon Tattoo', 3972: 'Never Back Down 2: The Beatdown', 3973: 'Point Blank', 3974: 'Four Single Fathers', 3975: 'Enter the Dangerous Mind', 3976: 'Something Wicked', 3977: 'AWOL-72', 3978: 'Iguana', 3979: 'Chicago Overcoat', 3980: 'Barry Munday', 3981: 'Central Station', 3982: 'Pocketful of Miracles', 3983: 'Close Range', 3984: 'Boynton Beach Club', 3985: 'Amnesiac', 3986: 'Freakonomics', 3987: 'High Tension', 3988: 'Griff the Invisible', 3989: 'Unnatural', 3990: 'Hustle & Flow', 3991: 'Some Like It Hot', 3992: 'Friday the 13th Part VII: The New Blood', 3993: 'The Wizard of Oz', 3994: 'Young Frankenstein', 3995: 'Diary of the Dead', 3996: 'Lage Raho Munna Bhai', 3997: \"Ulee's Gold\", 3998: 'The Black Stallion', 3999: 'Sardaarji', 4000: 'Journey to Saturn', 4001: \"Donovan's Reef\", 4002: 'The Dress', 4003: 'A Guy Named Joe', 4004: 'Blazing Saddles', 4005: 'Friday the 13th: The Final Chapter', 4006: 'Ida', 4007: 'Maurice', 4008: 'Beer League', 4009: 'Riding Giants', 4010: 'Timecrimes', 4011: 'Silver Medalist', 4012: 'Timber Falls', 4013: \"Singin' in the Rain\", 4014: 'Fat, Sick & Nearly Dead', 4015: 'A Haunted House', 4016: \"2016: Obama's America\", 4017: 'That Thing You Do!', 4018: 'Halloween III: Season of the Witch', 4019: 'Escape from the Planet of the Apes', 4020: 'Hud', 4021: 'Kevin Hart: Let Me Explain', 4022: 'My Own Private Idaho', 4023: 'Garden State', 4024: 'Before Sunrise', 4025: 'Evil Words', 4026: \"Jesus' Son\", 4027: 'Saving Face', 4028: 'Brick Lane', 4029: 'Robot & Frank', 4030: 'My Life Without Me', 4031: 'The Spectacular Now', 4032: 'Religulous', 4033: 'Fuel', 4034: \"Valley of the Heart's Delight\", 4035: 'Eye of the Dolphin', 4036: '8: The Mormon Proposition', 4037: 'The Other End of the Line', 4038: 'Anatomy', 4039: 'Sleep Dealer', 4040: 'Super', 4041: 'Christmas Mail', 4042: 'Stung', 4043: 'Antibirth', 4044: 'Get on the Bus', 4045: 'Thr3e', 4046: 'Idiocracy', 4047: 'The Rise of the Krays', 4048: 'This Is England', 4049: 'U.F.O.', 4050: 'Bathing Beauty', 4051: 'Go for It!', 4052: 'Dancer, Texas Pop. 81', 4053: 'Show Boat', 4054: 'Redemption Road', 4055: 'The Calling', 4056: 'The Brave Little Toaster', 4057: 'Fantasia', 4058: '8 Days', 4059: 'Friday the 13th Part III', 4060: 'Friday the 13th: A New Beginning', 4061: 'The Last Sin Eater', 4062: 'Do You Believe?', 4063: 'Impact Point', 4064: 'The Valley of Decision', 4065: 'Eden', 4066: 'Chicken Tikka Masala', 4067: \"There's Always Woodstock\", 4068: 'Jack Brooks: Monster Slayer', 4069: 'The Best Years of Our Lives', 4070: 'Bully', 4071: 'Elling', 4072: 'Mi America', 4073: '[REC]', 4074: 'Lies in Plain Sight', 4075: 'Sharkskin', 4076: 'Containment', 4077: 'The Timber', 4078: 'From Russia with Love', 4079: 'The Toxic Avenger Part II', 4080: 'Sleeper', 4081: 'It Follows', 4082: 'Everything You Always Wanted to Know About Sex *But Were Afraid to Ask', 4083: 'To Kill a Mockingbird', 4084: 'Mad Max 2: The Road Warrior', 4085: 'The Legend of Drunken Master', 4086: \"Boys Don't Cry\", 4087: 'Silent House', 4088: 'The Lives of Others', 4089: 'Courageous', 4090: 'The Hustler', 4091: 'Boom Town', 4092: 'The Triplets of Belleville', 4093: 'Smoke Signals', 4094: 'American Splendor', 4095: 'Before Sunset', 4096: 'Amores perros', 4097: 'Thirteen', 4098: \"Gentleman's Agreement\", 4099: \"Winter's Bone\", 4100: 'Touching the Void', 4101: \"Alexander's Ragtime Band\", 4102: 'Me and You and Everyone We Know', 4103: 'Inside Job', 4104: 'We Are Your Friends', 4105: 'Ghost Dog: The Way of the Samurai', 4106: 'Harsh Times', 4107: 'Captive', 4108: 'Full Frontal', 4109: 'Witchboard', 4110: 'Shortbus', 4111: 'Waltz with Bashir', 4112: 'The Book of Mormon Movie, Volume 1: The Journey', 4113: 'No End in Sight', 4114: 'The Diary of a Teenage Girl', 4115: 'In the Shadow of the Moon', 4116: \"Meek's Cutoff\", 4117: 'Inside Deep Throat', 4118: 'Dinner Rush', 4119: 'Clockwatchers', 4120: 'The Virginity Hit', 4121: 'Subway', 4122: 'House of D', 4123: 'Teeth', 4124: 'Six-String Samurai', 4125: 'Hum To Mohabbat Karega', 4126: \"It's All Gone Pete Tong\", 4127: 'Saint John of Las Vegas', 4128: '24 7: Twenty Four Seven', 4129: 'Stonewall', 4130: 'Roadside Romeo', 4131: 'This Thing of Ours', 4132: 'The Lost Medallion: The Adventures of Billy Stone', 4133: 'The Last Five Years', 4134: 'The Missing Person', 4135: 'Return of the Living Dead 3', 4136: 'London', 4137: 'Sherrybaby', 4138: 'Circle', 4139: 'Eden Lake', 4140: 'Plush', 4141: 'Lesbian Vampire Killers', 4142: \"Gangster's Paradise: Jerusalema\", 4143: 'Freeze Frame', 4144: 'Grave Encounters', 4145: 'Stitches', 4146: 'Nine Dead', 4148: 'Bananas', 4149: 'Supercapitalist', 4150: 'Rockaway', 4151: 'The Lady from Shanghai', 4152: \"No Man's Land: The Rise of Reeker\", 4153: 'Highway', 4154: 'Small Apartments', 4155: 'Coffee Town', 4156: 'The Ghastly Love of Johnny X', 4157: 'All Is Bright', 4158: 'The Torture Chamber of Dr. Sadism', 4159: \"Straight A's\", 4160: 'A Funny Thing Happened on the Way to the Forum', 4161: 'Slacker Uprising', 4162: \"The Legend of Hell's Gate: An American Conspiracy\", 4163: 'The Walking Deceased', 4164: 'The Curse of Downers Grove', 4165: 'Shark Lake', 4166: \"River's Edge\", 4167: 'Northfork', 4168: 'The Marine 4: Moving Target', 4169: 'Buried', 4170: 'Submarine', 4171: 'The Square', 4172: 'One to Another', 4173: 'ABCD (Any Body Can Dance)', 4174: 'Man on Wire', 4175: 'Abandoned', 4176: 'Brotherly Love', 4177: 'The Last Exorcism', 4178: 'Nowhere Boy', 4179: 'A Streetcar Named Desire', 4180: 'Dr. Strangelove or: How I Learned to Stop Worrying and Love the Bomb', 4181: 'The Crime of Padre Amaro', 4182: 'Beasts of the Southern Wild', 4183: 'Battle for the Planet of the Apes', 4184: 'Songcatcher', 4185: 'Higher Ground', 4186: 'Vaalu', 4187: 'The Greatest Movie Ever Sold', 4188: 'Ed and His Dead Mother', 4189: 'Travellers and Magicians', 4190: \"Hang 'em High\", 4191: 'Deadline - U.S.A.', 4192: 'Sublime', 4193: \"A Beginner's Guide to Snuff\", 4194: 'Independence Daysaster', 4195: 'Dysfunctional Friends', 4196: 'Run Lola Run', 4197: 'May', 4198: 'Against the Wild', 4199: 'Under the Same Moon', 4200: 'Conquest of the Planet of the Apes', 4201: 'In the Bedroom', 4202: 'I Spit on Your Grave', 4203: 'Happy, Texas', 4204: 'My Summer of Love', 4205: 'The Lunchbox', 4206: 'Yes', 4207: \"You Can't Take It With You\", 4208: 'From Here to Eternity', 4209: 'She Wore a Yellow Ribbon', 4210: 'Grace Unplugged', 4211: 'Foolish', 4212: 'N-Secure', 4213: 'Caramel', 4214: 'Out of the Dark', 4215: 'The Bubble', 4216: 'The Conversation', 4217: 'Dil Jo Bhi Kahey...', 4218: 'Mississippi Mermaid', 4219: 'I Love Your Work', 4220: 'Cabin Fever', 4221: 'Waitress', 4222: 'Bloodsport', 4223: 'Mr. Smith Goes to Washington', 4224: 'Kids', 4225: 'The Squid and the Whale', 4226: 'Kissing Jessica Stein', 4227: 'Kickboxer: Vengeance', 4228: 'Spellbound', 4229: 'Exotica', 4230: \"Buffalo '66\", 4231: 'Insidious', 4232: 'Repo Man', 4233: 'Nine Queens', 4234: 'The Gatekeepers', 4235: 'The Ballad of Jack and Rose', 4236: 'The To Do List', 4237: 'Killing Zoe', 4238: 'The Believer', 4239: 'Snow Angels', 4240: 'Unsullied', 4241: 'Session 9', 4242: 'I Want Someone to Eat Cheese With', 4243: 'Mooz-lum', 4244: 'Hatchet', 4245: 'Modern Times', 4246: 'Stolen Summer', 4247: 'My Name Is Bruce', 4248: 'The Salon', 4249: 'Road Hard', 4250: 'Forty Shades of Blue', 4251: 'Amigo', 4252: 'Pontypool', 4253: 'Trucker', 4254: 'Me You and Five Bucks', 4255: 'The Lords of Salem', 4256: 'Housebound', 4257: 'Wal-Mart: The High Cost of Low Price', 4258: 'Fetching Cody', 4259: 'Last I Heard', 4260: 'Closer to the Moon', 4261: 'Mutant World', 4262: 'Growing Up Smith', 4263: 'Checkmate', 4264: '#Horror', 4265: 'Wind Walkers', 4266: 'Snow White and the Seven Dwarfs', 4267: 'The Holy Girl', 4268: 'Shalako', 4269: 'Incident at Loch Ness', 4270: 'The Dog Lover', 4271: 'GirlHouse', 4272: 'The Blue Room', 4273: 'House at the End of the Drive', 4274: 'Lock, Stock and Two Smoking Barrels', 4275: 'The Ballad of Gregorio Cortez', 4276: 'The Celebration', 4277: 'Trees Lounge', 4278: 'Journey from the Fall', 4279: 'The Basket', 4280: 'Eddie: The Sleepwalking Cannibal', 4281: 'Queen of the Mountains', 4282: 'Def-Con 4', 4283: 'The Hebrew Hammer', 4284: \"Neal 'n' Nikki\", 4285: 'The 41–Year–Old Virgin Who Knocked Up Sarah Marshall and Felt Superbad About It', 4286: 'Forget Me Not', 4287: 'Rebecca', 4288: 'Friday the 13th Part 2', 4289: 'The Lost Weekend', 4290: 'C.H.U.D.', 4291: 'Filly Brown', 4292: 'The Lion of Judah', 4293: 'Niagara', 4294: 'How Green Was My Valley', 4295: 'Da Sweet Blood of Jesus', 4296: 'Sex, Lies, and Videotape', 4297: 'Saw', 4298: 'Super Troopers', 4299: 'The Algerian', 4300: 'The Amazing Catfish', 4301: 'Monsoon Wedding', 4302: 'You Can Count on Me', 4303: 'The Trouble with Harry', 4304: \"But I'm a Cheerleader\", 4305: 'Home Run', 4306: 'Reservoir Dogs', 4307: 'The Blue Bird', 4308: 'The Good, the Bad and the Ugly', 4309: 'The Second Mother', 4310: 'Blue Like Jazz', 4311: 'Down & Out With The Dolls', 4312: 'Pink Ribbons, Inc.', 4313: 'Certifiably Jonathan', 4314: 'Desire', 4315: 'The Blade of Don Juan', 4316: 'Grand Theft Parsons', 4317: 'Extreme Movie', 4318: 'The Charge of the Light Brigade', 4319: 'Below Zero', 4320: 'Crowsnest', 4321: 'Airborne', 4322: 'Cotton Comes to Harlem', 4323: 'The Wicked Within', 4324: 'Bleeding Hearts', 4325: 'Waiting...', 4326: \"Dead Man's Shoes\", 4327: 'From a Whisper to a Scream', 4328: 'Sex With Strangers', 4329: \"Dracula: Pages from a Virgin's Diary\", 4330: 'Faith Like Potatoes', 4331: 'Beyond the Black Rainbow', 4332: 'The Raid', 4333: 'The Dead Undead', 4334: 'The Vatican Exorcisms', 4335: 'Casablanca', 4336: 'Lake Mungo', 4337: 'Rocket Singh: Salesman of the Year', 4338: 'Silent Running', 4339: 'Rocky', 4340: 'The Sleepwalker', 4341: 'Tom Jones', 4342: 'Unfriended', 4343: 'Taxi Driver', 4344: 'The Howling', 4345: 'Dr. No', 4346: 'Chernobyl Diaries', 4347: 'Hellraiser', 4348: \"God's Not Dead 2\", 4349: 'Cry_Wolf', 4350: 'Godzilla 2000', 4351: 'Blue Valentine', 4352: 'Transamerica', 4353: 'The Devil Inside', 4354: 'Beyond the Valley of the Dolls', 4355: 'Love Me Tender', 4356: 'An Inconvenient Truth', 4357: 'Sands of Iwo Jima', 4358: 'Shine a Light', 4359: 'The Green Inferno', 4360: 'Departure', 4361: 'The Sessions', 4362: 'Food, Inc.', 4363: 'October Baby', 4364: 'Next Stop Wonderland', 4365: 'The Skeleton Twins', 4366: 'Martha Marcy May Marlene', 4367: 'Obvious Child', 4368: 'Frozen River', 4369: '20 Feet from Stardom', 4370: 'Two Girls and a Guy', 4371: 'Walking and Talking', 4372: 'Who Killed the Electric Car?', 4373: 'The Broken Hearts Club: A Romantic Comedy', 4374: 'Bubba Ho-tep', 4375: 'Slam', 4376: 'Brigham City', 4377: 'Fiza', 4378: 'Orgazmo', 4379: 'All the Real Girls', 4380: 'Dream with the Fishes', 4381: 'Blue Car', 4382: 'Palo Alto', 4383: 'Ajami', 4384: 'Wristcutters: A Love Story', 4385: 'I Origins', 4386: 'The Battle of Shaker Heights', 4387: 'The Act of Killing', 4388: 'Taxi to the Dark Side', 4389: 'Once in a Lifetime: The Extraordinary Story of the New York Cosmos', 4390: 'Guiana 1838', 4391: 'Lisa Picard Is Famous', 4392: 'Antarctica: A Year on Ice', 4393: 'A LEGO Brickumentary', 4394: 'Hardflip', 4395: 'Chocolate: Deep Dark Secrets', 4396: 'The House of the Devil', 4397: 'The Perfect Host', 4398: 'Safe Men', 4399: 'Speedway Junky', 4400: 'The Last Big Thing', 4401: 'The Specials', 4402: '16 to Life', 4403: 'Alone With Her', 4404: 'Creative Control', 4405: 'Special', 4406: 'Sparkler', 4407: 'The Helix... Loaded', 4408: 'In Her Line of Fire', 4409: 'The Jimmy Show', 4410: 'Heli', 4411: 'Karachi se Lahore', 4412: 'Loving Annabelle', 4413: 'Hits', 4414: 'Jimmy and Judy', 4415: 'Frat Party', 4416: \"The Party's Over\", 4417: 'Proud', 4418: 'The Poker House', 4419: 'Childless', 4420: 'ZMD: Zombies of Mass Destruction', 4421: 'Snow White: A Deadly Summer', 4422: 'Hidden Away', 4423: 'My Last Day Without You', 4424: 'Steppin: The Movie', 4425: \"Doc Holliday's Revenge\", 4426: 'Black Rock', 4427: 'Truth or Dare', 4428: 'The Pet', 4429: 'Bang Bang Baby', 4430: 'Fear Clinic', 4431: 'Zombie Hunter', 4432: 'A Fine Step', 4433: 'Charly', 4434: 'Banshee Chapter', 4435: 'Ask Me Anything', 4436: 'And Then Came Love', 4438: 'On the Waterfront', 4439: 'L!fe Happens', 4440: '4 Months, 3 Weeks and 2 Days', 4441: 'The Horror Network Vol. 1', 4442: 'Hard Candy', 4443: 'The Quiet', 4444: 'Circumstance', 4445: 'Fruitvale Station', 4446: 'The Brass Teapot', 4447: 'Bambi', 4448: 'The Hammer', 4449: 'Latter Days', 4450: 'Elza', 4451: '1982', 4452: 'For a Good Time, Call...', 4453: 'Celeste & Jesse Forever', 4454: 'Time Changer', 4455: 'London to Brighton', 4456: 'American Hero', 4457: 'Windsor Drive', 4458: 'A Separation', 4459: 'Crying with Laughter', 4460: 'Welcome to the Dollhouse', 4461: 'Ruby in Paradise', 4462: 'Raising Victor Vargas', 4463: \"Pandora's Box\", 4464: 'Harrison Montgomery', 4465: 'Live-In Maid', 4466: 'Deterrence', 4467: 'The Mudge Boy', 4468: 'The Young Unknowns', 4469: 'Not Cool', 4470: 'Dead Snow', 4471: 'Saints and Soldiers', 4472: 'Vessel', 4473: 'American Graffiti', 4474: 'Iraq for Sale: The War Profiteers', 4475: 'Aqua Teen Hunger Force Colon Movie Film for Theaters', 4476: 'Safety Not Guaranteed', 4477: 'Kevin Hart: Laugh at My Pain', 4478: 'Kill List', 4479: 'The Innkeepers', 4480: 'The Conformist', 4481: 'Interview with the Assassin', 4482: 'Donkey Punch', 4483: 'All the Boys Love Mandy Lane', 4484: 'Bled', 4485: 'High Noon', 4486: 'Hoop Dreams', 4487: 'Rize', 4488: 'L.I.E.', 4489: 'The Sisterhood of Night', 4490: 'B-Girl', 4491: 'Half Nelson', 4492: 'Naturally Native', 4493: 'Hav Plenty', 4494: 'Adulterers', 4495: 'Escape from Tomorrow', 4496: 'Starsuckers', 4497: 'The Hadza:  Last of the First', 4498: 'After', 4499: 'Treachery', 4500: 'Walter', 4501: 'Top Hat', 4502: 'The Blair Witch Project', 4503: 'Woodstock', 4504: 'The Kentucky Fried Movie', 4505: 'Mercy Streets', 4506: 'Carousel of Revenge', 4507: 'Broken Vessels', 4508: 'Water & Power', 4509: 'They Will Have to Kill Us First', 4510: 'Light from the Darkroom', 4511: 'The Country Doctor', 4512: \"The Maid's Room\", 4513: \"A Hard Day's Night\", 4514: 'The Harvest (La Cosecha)', 4515: 'Love Letters', 4516: 'Juliet and Alfa Romeo', 4517: 'Fireproof', 4518: 'Faith Connections', 4519: 'Benji', 4520: 'Open Water', 4521: 'High Road', 4522: 'Kingdom of the Spiders', 4523: 'Mad Hot Ballroom', 4524: 'The Station Agent', 4525: 'To Save A Life', 4526: 'Wordplay', 4527: 'Beyond the Mat', 4528: 'The Singles Ward', 4529: 'Osama', 4530: 'Sholem Aleichem: Laughing In The Darkness', 4531: 'Groove', 4532: 'The R.M.', 4533: 'Twin Falls Idaho', 4534: 'Mean Creek', 4535: 'Hurricane Streets', 4536: 'Never Again', 4537: 'Civil Brand', 4538: 'Lonesome Jim', 4539: 'Drinking Buddies', 4540: 'Deceptive Practice: The Mysteries and Mentors of Ricky Jay', 4541: 'Seven Samurai', 4542: 'The Other Dream Team', 4543: 'Johnny Suede', 4544: 'Finishing The Game', 4545: 'Rubber', 4546: 'Kiss the Bride', 4547: 'The Slaughter Rule', 4548: 'Monsters', 4549: 'The Californians', 4550: 'The Living Wake', 4551: 'Detention of the Dead', 4552: 'Crazy Stone', 4553: 'Scott Walker: 30 Century Man', 4554: 'Everything Put Together', 4555: 'Good Kill', 4556: 'The Outrageous Sophie Tucker', 4557: 'Now Is Good', 4558: 'Girls Gone Dead', 4559: 'America Is Still the Place', 4560: 'Subconscious', 4561: 'Enter Nowhere', 4562: 'El Rey de Najayo', 4563: 'Fight to the Finish', 4564: \"Alleluia! The Devil's Carnival\", 4565: 'The Sound and the Shadow', 4566: 'Rodeo Girl', 4567: 'Born to Fly: Elizabeth Streb vs. Gravity', 4568: 'The Little Ponderosa Zoo', 4569: 'The Toxic Avenger', 4570: 'Straight Out of Brooklyn', 4571: 'Bloody Sunday', 4572: 'Diamond Ruff', 4573: 'Conversations with Other Women', 4574: 'Poultrygeist: Night of the Chicken Dead', 4575: 'Mutual Friends', 4576: '42nd Street', 4577: 'Rise of the Entrepreneur: The Search for a Better Way', 4578: 'Metropolitan', 4579: 'As It Is in Heaven', 4580: 'Roadside', 4581: 'Napoleon Dynamite', 4582: 'Blue Ruin', 4583: 'Paranormal Activity', 4584: 'Dogtown and Z-Boys', 4585: 'Monty Python and the Holy Grail', 4586: 'Quinceañera', 4587: 'Gory Gory Hallelujah', 4588: 'Tarnation', 4589: 'I Want Your Money', 4590: 'Love in the Time of Monsters', 4591: 'The Beyond', 4592: 'What Happens in Vegas', 4593: 'The Dark Hours', 4594: 'My Beautiful Laundrette', 4595: 'Fabled', 4596: 'Show Me', 4597: 'Cries and Whispers', 4598: 'Intolerance', 4599: 'Trekkies', 4600: 'The Broadway Melody', 4601: 'The Evil Dead', 4602: 'Maniac', 4603: 'Censored Voices', 4604: 'Murderball', 4605: 'American Ninja 2: The Confrontation', 4606: '51 Birch Street', 4607: 'Rotor DR1', 4608: '12 Angry Men', 4609: 'My Dog Tulip', 4610: 'It Happened One Night', 4611: 'Dogtooth', 4612: 'Tupac: Resurrection', 4613: 'Tumbleweeds', 4614: 'The Prophecy', 4615: \"When the Cat's Away\", 4616: 'Pieces of April', 4617: 'The Big Swap', 4618: 'Old Joy', 4619: 'Wendy and Lucy', 4620: '3 Backyards', 4621: 'Pierrot le Fou', 4622: 'Sisters in Law', 4623: 'Ayurveda: Art of Being', 4624: 'Nothing But a Man', 4625: 'First Love, Last Rites', 4626: 'Fighting Tommy Riley', 4627: 'Royal Kill', 4628: 'The Looking Glass', 4629: 'Death Race 2000', 4630: 'Locker 13', 4631: 'Midnight Cabaret', 4632: \"Anderson's Cross\", 4633: 'Bizarre', 4634: 'Graduation Day', 4635: 'Some Guy Who Kills People', 4636: 'Compliance', 4637: 'Chasing Amy', 4638: 'Lovely & Amazing', 4639: 'Death Calls', 4640: 'Better Luck Tomorrow', 4641: 'The Incredibly True Adventure of Two Girls In Love', 4642: 'Chuck & Buck', 4643: 'American Desi', 4644: \"Amidst the Devil's Wings\", 4645: 'Cube', 4646: 'Love and Other Catastrophes', 4647: 'I Married a Strange Person!', 4648: 'November', 4649: 'Like Crazy', 4650: 'Teeth and Blood', 4651: 'Sugar Town', 4652: 'The Motel', 4653: 'The Canyons', 4654: 'On the Outs', 4655: 'Shotgun Stories', 4656: 'Exam', 4657: 'The Sticky Fingers of Time', 4658: 'Sunday School Musical', 4659: 'Rust', 4660: 'Ink', 4661: 'The Christmas Bunny', 4662: 'Butterfly', 4663: 'UnDivided', 4664: 'The Frozen', 4665: 'Horse Camp', 4666: 'Give Me Shelter', 4667: 'The Big Parade', 4668: 'Little Big Top', 4669: 'Along the Roadside', 4670: 'Bronson', 4671: 'Western Religion', 4672: 'Burn', 4673: 'Urbania', 4674: 'The Stewardesses', 4675: 'The Beast from 20,000 Fathoms', 4676: 'Mad Max', 4677: 'Swingers', 4678: 'A Fistful of Dollars', 4679: 'She Done Him Wrong', 4680: 'Short Cut to Nirvana: Kumbh Mela', 4681: 'The Grace Card', 4682: 'Middle of Nowhere', 4683: 'Three', 4684: 'The Business of Fancydancing', 4685: 'Call + Response', 4686: 'Malevolence', 4687: 'Reality Show', 4688: 'Super Hybrid', 4689: 'Baghead', 4690: 'American Beast', 4691: 'The Case of the Grinning Cat', 4692: 'Ordet', 4693: 'Good Dick', 4694: 'The Man from Earth', 4695: 'The Trials Of Darryl Hunt', 4696: 'Samantha: An American Girl Holiday', 4697: 'Yesterday Was a Lie', 4698: 'Theresa Is a Mother', 4699: 'H.', 4700: 'Archaeology of a Woman', 4701: 'Children of Heaven', 4702: 'Weekend', 4703: \"She's Gotta Have It\", 4704: 'Butterfly Girl', 4705: 'The World Is Mine', 4706: 'Another Earth', 4707: \"Sweet Sweetback's Baadasssss Song\", 4708: 'Perfect Cowboy', 4709: 'Tadpole', 4710: 'Once', 4711: 'The Woman Chaser', 4712: 'The Horse Boy', 4713: 'When the Lights Went Out', 4714: 'Heroes of Dirt', 4715: 'A Charlie Brown Christmas', 4716: 'Antarctic Edge: 70° South', 4717: 'Aroused', 4718: 'Top Spin', 4719: 'Roger & Me', 4720: 'An American in Hollywood', 4721: 'Sound of My Voice', 4722: 'The Blood of My Brother: A Story of Death in Iraq', 4723: \"Your Sister's Sister\", 4724: \"A Dog's Breakfast\", 4725: 'The Married Woman', 4726: 'The Birth of a Nation', 4727: 'The Work and The Story', 4728: 'Facing the Giants', 4729: 'The Gallows', 4730: 'Eraserhead', 4731: 'Hollywood Shuffle', 4732: 'The Mighty', 4733: 'Penitentiary', 4734: 'The Lost Skeleton of Cadavra', 4735: \"Dude Where's My Dog?\", 4736: 'Cheap Thrills', 4737: 'Indie Game: The Movie', 4738: 'Straightheads', 4739: 'Open Secret', 4740: 'Echo Dr.', 4741: 'The Night Visitor', 4742: 'The Past Is a Grotesque Animal', 4743: 'Peace, Propaganda & the Promised Land', 4744: 'Pi', 4745: \"I Love You, Don't Touch Me!\", 4746: '20 Dates', 4747: 'Queen Crab', 4748: 'Super Size Me', 4749: 'The FP', 4750: 'Happy Christmas', 4751: \"The Brain That Wouldn't Die\", 4752: 'Tiger Orange', 4753: 'Supporting Characters', 4754: 'Absentia', 4755: 'The Brothers McMullen', 4756: 'The Dirties', 4757: 'Gabriela', 4758: 'Tiny Furniture', 4759: 'Hayride', 4760: 'The Naked Ape', 4761: 'Counting', 4762: 'The Call of Cthulhu', 4763: 'Bending Steel', 4764: 'The Signal', 4765: 'The Image Revolution', 4766: 'This Is Martin Bonner', 4767: 'A True Story', 4768: 'George Washington', 4769: 'Smiling Fish & Goat On Fire', 4770: 'Dawn of the Crescent Moon', 4771: 'Raymond Did It', 4772: 'The Last Waltz', 4773: 'Run, Hide, Die', 4774: 'The Exploding Girl', 4775: \"The Legend of God's Gun\", 4776: 'Mutual Appreciation', 4777: 'Her Cry: La Llorona Investigation', 4778: 'Down Terrace', 4779: 'Clerks', 4780: 'Pink Narcissus', 4781: 'Funny Ha Ha', 4782: 'In the Company of Men', 4783: 'Manito', 4784: 'Rampage', 4785: 'Slacker', 4786: 'Dutch Kills', 4787: 'Dry Spell', 4788: 'Flywheel', 4789: 'Backmask', 4790: 'The Puffy Chair', 4791: 'Stories of Our Lives', 4792: 'Breaking Upwards', 4793: 'All Superheroes Must Die', 4794: 'Pink Flamingos', 4795: 'Clean', 4796: 'The Circle', 4797: 'Tin Can Man', 4798: 'Cure', 4799: 'On The Downlow', 4800: 'Sanctuary: Quite a Conundrum', 4801: 'Bang', 4802: 'Primer', 4803: 'Cavite', 4804: 'El Mariachi', 4805: 'Newlyweds', 4806: 'Signed, Sealed, Delivered', 4807: 'Shanghai Calling', 4808: 'My Date with Drew'}\n"
     ]
    }
   ],
   "source": [
    "movies = pickle.load(open('movie_list.pkl', 'rb'))\n",
    "movies1 = pd.DataFrame(movies)\n",
    "print(movies['title'])\n",
    "similarity = pickle.load(open('similarity.pkl', 'rb'))\n",
    "\n",
    "#movie_list = list(movies['title'].values)\n",
    "movie_list = list(movies['title'].values())\n",
    "#print(movie_list)"
   ]
  },
  {
   "cell_type": "code",
   "execution_count": 470,
   "id": "f97fbbc6",
   "metadata": {},
   "outputs": [],
   "source": [
    "movie_index = int(movies1.loc[movies1['title'] == 'Spectre'].index[0])\n"
   ]
  },
  {
   "cell_type": "code",
   "execution_count": 471,
   "id": "7e08d416",
   "metadata": {},
   "outputs": [
    {
     "data": {
      "text/plain": [
       "2"
      ]
     },
     "execution_count": 471,
     "metadata": {},
     "output_type": "execute_result"
    }
   ],
   "source": [
    "movie_index"
   ]
  },
  {
   "cell_type": "code",
   "execution_count": 475,
   "id": "97d8aa6f",
   "metadata": {},
   "outputs": [
    {
     "name": "stdout",
     "output_type": "stream",
     "text": [
      "206647\n"
     ]
    }
   ],
   "source": [
    "movie_id= movies1['movie_id'][movie_index]\n",
    "print(movie_id)"
   ]
  },
  {
   "cell_type": "code",
   "execution_count": 398,
   "id": "f86cafa9",
   "metadata": {},
   "outputs": [
    {
     "name": "stdout",
     "output_type": "stream",
     "text": [
      "Requirement already satisfied: requests in c:\\anaconda\\lib\\site-packages (2.31.0)\n",
      "Requirement already satisfied: charset-normalizer<4,>=2 in c:\\anaconda\\lib\\site-packages (from requests) (2.0.4)\n",
      "Requirement already satisfied: idna<4,>=2.5 in c:\\anaconda\\lib\\site-packages (from requests) (3.4)\n",
      "Requirement already satisfied: urllib3<3,>=1.21.1 in c:\\anaconda\\lib\\site-packages (from requests) (1.26.16)\n",
      "Requirement already satisfied: certifi>=2017.4.17 in c:\\anaconda\\lib\\site-packages (from requests) (2023.11.17)\n",
      "Note: you may need to restart the kernel to use updated packages.\n"
     ]
    }
   ],
   "source": [
    "pip install requests"
   ]
  },
  {
   "cell_type": "code",
   "execution_count": 408,
   "id": "ac283063",
   "metadata": {},
   "outputs": [
    {
     "name": "stdout",
     "output_type": "stream",
     "text": [
      "{\n",
      "     \"adult\": false,\n",
      "     \"backdrop_path\": \"/rknvDtxOe1uqLX0EFWLHIQxRXcJ.jpg\",\n",
      "     \"belongs_to_collection\": null,\n",
      "     \"budget\": 0,\n",
      "     \"genres\": [\n",
      "          {\n",
      "               \"id\": 18,\n",
      "               \"name\": \"Drama\"\n",
      "          },\n",
      "          {\n",
      "               \"id\": 10749,\n",
      "               \"name\": \"Romance\"\n",
      "          }\n",
      "     ],\n",
      "     \"homepage\": \"\",\n",
      "     \"id\": 64,\n",
      "     \"imdb_id\": \"tt0287467\",\n",
      "     \"origin_country\": [\n",
      "          \"ES\"\n",
      "     ],\n",
      "     \"original_language\": \"es\",\n",
      "     \"original_title\": \"Hable con ella\",\n",
      "     \"overview\": \"Two men share an odd friendship while they care for two women who are both in deep comas.\",\n",
      "     \"popularity\": 13.759,\n",
      "     \"poster_path\": \"/p8ilqBhIT5YnKOf6hBPEVPc8uGS.jpg\",\n",
      "     \"production_companies\": [\n",
      "          {\n",
      "               \"id\": 357,\n",
      "               \"logo_path\": null,\n",
      "               \"name\": \"V\\u00eda Digital\",\n",
      "               \"origin_country\": \"ES\"\n",
      "          },\n",
      "          {\n",
      "               \"id\": 10565,\n",
      "               \"logo_path\": \"/5djnxodjmgbzdXiNRllwhQPxANY.png\",\n",
      "               \"name\": \"Good Machine\",\n",
      "               \"origin_country\": \"US\"\n",
      "          },\n",
      "          {\n",
      "               \"id\": 49,\n",
      "               \"logo_path\": \"/xpf5iHdvvBtsH8jBMlgIJHAET0c.png\",\n",
      "               \"name\": \"El Deseo\",\n",
      "               \"origin_country\": \"ES\"\n",
      "          },\n",
      "          {\n",
      "               \"id\": 29566,\n",
      "               \"logo_path\": \"/wHbtRtUnXGNzX0riQIpq1fcgueq.png\",\n",
      "               \"name\": \"Atresmedia\",\n",
      "               \"origin_country\": \"ES\"\n",
      "          }\n",
      "     ],\n",
      "     \"production_countries\": [\n",
      "          {\n",
      "               \"iso_3166_1\": \"ES\",\n",
      "               \"name\": \"Spain\"\n",
      "          }\n",
      "     ],\n",
      "     \"release_date\": \"2002-03-15\",\n",
      "     \"revenue\": 64803131,\n",
      "     \"runtime\": 112,\n",
      "     \"spoken_languages\": [\n",
      "          {\n",
      "               \"english_name\": \"French\",\n",
      "               \"iso_639_1\": \"fr\",\n",
      "               \"name\": \"Fran\\u00e7ais\"\n",
      "          },\n",
      "          {\n",
      "               \"english_name\": \"Spanish\",\n",
      "               \"iso_639_1\": \"es\",\n",
      "               \"name\": \"Espa\\u00f1ol\"\n",
      "          }\n",
      "     ],\n",
      "     \"status\": \"Released\",\n",
      "     \"tagline\": \"\",\n",
      "     \"title\": \"Talk to Her\",\n",
      "     \"video\": false,\n",
      "     \"vote_average\": 7.575,\n",
      "     \"vote_count\": 1261\n",
      "}\n"
     ]
    }
   ],
   "source": [
    "import requests\n",
    "import json\n",
    "\n",
    "api_key = \"c6179ded5de8f9b1c3976368cd992a42\"\n",
    "url = f\"https://api.themoviedb.org/3/movie/64?language=en-US&api_key={api_key}\"\n",
    "\n",
    "headers = {\"accept\": \"application/json\"}\n",
    "\n",
    "response = requests.get(url, headers=headers)\n",
    "response_json = response.json()\n",
    "\n",
    "# Convert the JSON response into a formatted string\n",
    "response_string = json.dumps(response_json, indent=5)\n",
    "\n",
    "# Print the string response\n",
    "print(response_string)\n"
   ]
  },
  {
   "cell_type": "code",
   "execution_count": 419,
   "id": "78df85ef",
   "metadata": {},
   "outputs": [
    {
     "data": {
      "text/html": [
       "<div>\n",
       "<style scoped>\n",
       "    .dataframe tbody tr th:only-of-type {\n",
       "        vertical-align: middle;\n",
       "    }\n",
       "\n",
       "    .dataframe tbody tr th {\n",
       "        vertical-align: top;\n",
       "    }\n",
       "\n",
       "    .dataframe thead th {\n",
       "        text-align: right;\n",
       "    }\n",
       "</style>\n",
       "<table border=\"1\" class=\"dataframe\">\n",
       "  <thead>\n",
       "    <tr style=\"text-align: right;\">\n",
       "      <th></th>\n",
       "      <th>movie_id</th>\n",
       "      <th>title</th>\n",
       "      <th>tags</th>\n",
       "    </tr>\n",
       "  </thead>\n",
       "  <tbody>\n",
       "    <tr>\n",
       "      <th>0</th>\n",
       "      <td>19995</td>\n",
       "      <td>Avatar</td>\n",
       "      <td>in the 22nd century, a parapleg marin is dispa...</td>\n",
       "    </tr>\n",
       "    <tr>\n",
       "      <th>1</th>\n",
       "      <td>285</td>\n",
       "      <td>Pirates of the Caribbean: At World's End</td>\n",
       "      <td>captain barbossa, long believ to be dead, ha c...</td>\n",
       "    </tr>\n",
       "    <tr>\n",
       "      <th>2</th>\n",
       "      <td>206647</td>\n",
       "      <td>Spectre</td>\n",
       "      <td>a cryptic messag from bond’ past send him on a...</td>\n",
       "    </tr>\n",
       "    <tr>\n",
       "      <th>3</th>\n",
       "      <td>49026</td>\n",
       "      <td>The Dark Knight Rises</td>\n",
       "      <td>follow the death of district attorney harvey d...</td>\n",
       "    </tr>\n",
       "    <tr>\n",
       "      <th>4</th>\n",
       "      <td>49529</td>\n",
       "      <td>John Carter</td>\n",
       "      <td>john carter is a war-weary, former militari ca...</td>\n",
       "    </tr>\n",
       "    <tr>\n",
       "      <th>...</th>\n",
       "      <td>...</td>\n",
       "      <td>...</td>\n",
       "      <td>...</td>\n",
       "    </tr>\n",
       "    <tr>\n",
       "      <th>4804</th>\n",
       "      <td>9367</td>\n",
       "      <td>El Mariachi</td>\n",
       "      <td>el mariachi just want to play hi guitar and ca...</td>\n",
       "    </tr>\n",
       "    <tr>\n",
       "      <th>4805</th>\n",
       "      <td>72766</td>\n",
       "      <td>Newlyweds</td>\n",
       "      <td>a newlyw couple' honeymoon is upend by the arr...</td>\n",
       "    </tr>\n",
       "    <tr>\n",
       "      <th>4806</th>\n",
       "      <td>231617</td>\n",
       "      <td>Signed, Sealed, Delivered</td>\n",
       "      <td>\"signed, sealed, delivered\" introduc a dedic q...</td>\n",
       "    </tr>\n",
       "    <tr>\n",
       "      <th>4807</th>\n",
       "      <td>126186</td>\n",
       "      <td>Shanghai Calling</td>\n",
       "      <td>when ambiti new york attorney sam is sent to s...</td>\n",
       "    </tr>\n",
       "    <tr>\n",
       "      <th>4808</th>\n",
       "      <td>25975</td>\n",
       "      <td>My Date with Drew</td>\n",
       "      <td>ever sinc the second grade when he first saw h...</td>\n",
       "    </tr>\n",
       "  </tbody>\n",
       "</table>\n",
       "<p>4806 rows × 3 columns</p>\n",
       "</div>"
      ],
      "text/plain": [
       "      movie_id                                     title  \\\n",
       "0        19995                                    Avatar   \n",
       "1          285  Pirates of the Caribbean: At World's End   \n",
       "2       206647                                   Spectre   \n",
       "3        49026                     The Dark Knight Rises   \n",
       "4        49529                               John Carter   \n",
       "...        ...                                       ...   \n",
       "4804      9367                               El Mariachi   \n",
       "4805     72766                                 Newlyweds   \n",
       "4806    231617                 Signed, Sealed, Delivered   \n",
       "4807    126186                          Shanghai Calling   \n",
       "4808     25975                         My Date with Drew   \n",
       "\n",
       "                                                   tags  \n",
       "0     in the 22nd century, a parapleg marin is dispa...  \n",
       "1     captain barbossa, long believ to be dead, ha c...  \n",
       "2     a cryptic messag from bond’ past send him on a...  \n",
       "3     follow the death of district attorney harvey d...  \n",
       "4     john carter is a war-weary, former militari ca...  \n",
       "...                                                 ...  \n",
       "4804  el mariachi just want to play hi guitar and ca...  \n",
       "4805  a newlyw couple' honeymoon is upend by the arr...  \n",
       "4806  \"signed, sealed, delivered\" introduc a dedic q...  \n",
       "4807  when ambiti new york attorney sam is sent to s...  \n",
       "4808  ever sinc the second grade when he first saw h...  \n",
       "\n",
       "[4806 rows x 3 columns]"
      ]
     },
     "execution_count": 419,
     "metadata": {},
     "output_type": "execute_result"
    }
   ],
   "source": [
    "new_df\n"
   ]
  },
  {
   "cell_type": "code",
   "execution_count": 413,
   "id": "d2db0a9a",
   "metadata": {},
   "outputs": [
    {
     "name": "stdout",
     "output_type": "stream",
     "text": [
      "{'adult': False, 'backdrop_path': '/rnuraNgw9zOlqdDkl8y6lNE2RJb.jpg', 'belongs_to_collection': None, 'budget': 2000000, 'genres': [{'id': 53, 'name': 'Thriller'}, {'id': 80, 'name': 'Crime'}, {'id': 18, 'name': 'Drama'}], 'homepage': 'http://wip.warnerbros.com/paradisenow/', 'id': 67, 'imdb_id': 'tt0445620', 'origin_country': ['PS'], 'original_language': 'en', 'original_title': 'Paradise Now', 'overview': 'Two childhood friends are recruited for a suicide bombing in Tel Aviv.', 'popularity': 10.571, 'poster_path': '/qWZkYa8VdcDZk8uzRB2PfhpM9IL.jpg', 'production_companies': [{'id': 850, 'logo_path': '/aF7qajGJGtMpdrtvssM9g90YanX.png', 'name': 'Eurimages', 'origin_country': 'FR'}, {'id': 15, 'logo_path': '/2GukAxjXAF3Qf4GosI6WzIgljL3.png', 'name': 'Lama Films', 'origin_country': 'PS'}, {'id': 89, 'logo_path': None, 'name': 'Augustus Film', 'origin_country': ''}, {'id': 91, 'logo_path': None, 'name': 'Lama Productions', 'origin_country': ''}, {'id': 93, 'logo_path': None, 'name': 'Lumer Films', 'origin_country': ''}, {'id': 315, 'logo_path': '/hdu0sVxgtCuQud0xF8ZBiN7hEhY.png', 'name': 'Filmstiftung Nordrhein-Westfalen', 'origin_country': 'DE'}, {'id': 703, 'logo_path': '/lMV4teVPQWJxIaiDsAsU7Vdh1iC.png', 'name': 'Razor Film Produktion', 'origin_country': 'DE'}, {'id': 4508, 'logo_path': '/sUq2S2ndKxp1B2NjbMJbSNlPI8V.png', 'name': 'Nederlands Fonds voor de Film', 'origin_country': 'NL'}, {'id': 94, 'logo_path': '/huC7HqorvUThGIrENrbcHmQVUA0.png', 'name': 'ARTE France Cinéma', 'origin_country': 'FR'}, {'id': 9048, 'logo_path': None, 'name': 'Hazazah Pictures', 'origin_country': 'NL'}, {'id': 95, 'logo_path': None, 'name': 'Hazazah Film', 'origin_country': ''}], 'production_countries': [{'iso_3166_1': 'FR', 'name': 'France'}, {'iso_3166_1': 'DE', 'name': 'Germany'}, {'iso_3166_1': 'NL', 'name': 'Netherlands'}, {'iso_3166_1': 'PS', 'name': 'Palestinian Territory'}], 'release_date': '2005-09-07', 'revenue': 3395627, 'runtime': 90, 'spoken_languages': [{'english_name': 'Arabic', 'iso_639_1': 'ar', 'name': 'العربية'}, {'english_name': 'French', 'iso_639_1': 'fr', 'name': 'Français'}, {'english_name': 'English', 'iso_639_1': 'en', 'name': 'English'}], 'status': 'Released', 'tagline': 'From the most unexpected place, come a new call for peace', 'title': 'Paradise Now', 'video': False, 'vote_average': 6.939, 'vote_count': 254}\n"
     ]
    },
    {
     "data": {
      "text/plain": [
       "'https://image.tmdb.org/t/p/w500//qWZkYa8VdcDZk8uzRB2PfhpM9IL.jpg'"
      ]
     },
     "execution_count": 413,
     "metadata": {},
     "output_type": "execute_result"
    }
   ],
   "source": [
    "fetch_poster(67)"
   ]
  },
  {
   "cell_type": "code",
   "execution_count": 416,
   "id": "c51bbf5b",
   "metadata": {},
   "outputs": [
    {
     "ename": "NameError",
     "evalue": "name 'full_path' is not defined",
     "output_type": "error",
     "traceback": [
      "\u001b[1;31m---------------------------------------------------------------------------\u001b[0m",
      "\u001b[1;31mNameError\u001b[0m                                 Traceback (most recent call last)",
      "Cell \u001b[1;32mIn[416], line 1\u001b[0m\n\u001b[1;32m----> 1\u001b[0m \u001b[38;5;28mprint\u001b[39m(full_path)\n",
      "\u001b[1;31mNameError\u001b[0m: name 'full_path' is not defined"
     ]
    }
   ],
   "source": []
  },
  {
   "cell_type": "code",
   "execution_count": null,
   "id": "b3151182",
   "metadata": {},
   "outputs": [],
   "source": [
    "ne"
   ]
  }
 ],
 "metadata": {
  "kernelspec": {
   "display_name": "Python 3 (ipykernel)",
   "language": "python",
   "name": "python3"
  },
  "language_info": {
   "codemirror_mode": {
    "name": "ipython",
    "version": 3
   },
   "file_extension": ".py",
   "mimetype": "text/x-python",
   "name": "python",
   "nbconvert_exporter": "python",
   "pygments_lexer": "ipython3",
   "version": "3.11.5"
  }
 },
 "nbformat": 4,
 "nbformat_minor": 5
}
